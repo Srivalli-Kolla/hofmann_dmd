{
 "cells": [
  {
   "attachments": {},
   "cell_type": "markdown",
   "metadata": {},
   "source": [
    "### Notebook to format objects cells for `CellChat` CCI inference.\n",
    "\n",
    "- **Developed by**: Carlos Talavera-López Ph.D\n",
    "- **Faculty of Medicine - Julius-Maximilian-Universität Würzburg**\n",
    "- v240711"
   ]
  },
  {
   "attachments": {},
   "cell_type": "markdown",
   "metadata": {},
   "source": [
    "### Import required modules"
   ]
  },
  {
   "cell_type": "code",
   "execution_count": 1,
   "metadata": {},
   "outputs": [],
   "source": [
    "import anndata\n",
    "import numpy as np\n",
    "import scipy as sp\n",
    "import scanpy as sc\n",
    "import pandas as pd"
   ]
  },
  {
   "attachments": {},
   "cell_type": "markdown",
   "metadata": {},
   "source": [
    "### Setting up working environment"
   ]
  },
  {
   "cell_type": "code",
   "execution_count": 2,
   "metadata": {
    "collapsed": true,
    "jupyter": {
     "outputs_hidden": true
    },
    "tags": []
   },
   "outputs": [
    {
     "name": "stdout",
     "output_type": "stream",
     "text": [
      "-----\n",
      "anndata     0.10.8\n",
      "scanpy      1.10.2\n",
      "-----\n",
      "PIL                 10.3.0\n",
      "appnope             0.1.4\n",
      "asttokens           NA\n",
      "comm                0.2.2\n",
      "cycler              0.12.1\n",
      "cython_runtime      NA\n",
      "dateutil            2.9.0.post0\n",
      "debugpy             1.8.1\n",
      "decorator           5.1.1\n",
      "executing           2.0.1\n",
      "h5py                3.11.0\n",
      "ipykernel           6.29.5\n",
      "ipywidgets          8.1.3\n",
      "jedi                0.19.1\n",
      "joblib              1.4.2\n",
      "kiwisolver          1.4.5\n",
      "legacy_api_wrap     NA\n",
      "llvmlite            0.42.0\n",
      "matplotlib          3.8.4\n",
      "mpl_toolkits        NA\n",
      "natsort             8.4.0\n",
      "numba               0.59.1\n",
      "numpy               1.26.4\n",
      "packaging           24.0\n",
      "pandas              2.2.2\n",
      "parso               0.8.4\n",
      "platformdirs        4.2.1\n",
      "prompt_toolkit      3.0.43\n",
      "psutil              5.9.8\n",
      "pure_eval           0.2.2\n",
      "pydev_ipython       NA\n",
      "pydevconsole        NA\n",
      "pydevd              2.9.5\n",
      "pydevd_file_utils   NA\n",
      "pydevd_plugins      NA\n",
      "pydevd_tracing      NA\n",
      "pygments            2.18.0\n",
      "pyparsing           3.1.2\n",
      "pytz                2024.1\n",
      "scipy               1.13.0\n",
      "session_info        1.0.0\n",
      "six                 1.16.0\n",
      "sklearn             1.4.2\n",
      "stack_data          0.6.3\n",
      "threadpoolctl       3.5.0\n",
      "tornado             6.4\n",
      "traitlets           5.14.3\n",
      "typing_extensions   NA\n",
      "vscode              NA\n",
      "wcwidth             0.2.13\n",
      "zmq                 26.0.3\n",
      "-----\n",
      "IPython             8.24.0\n",
      "jupyter_client      8.6.1\n",
      "jupyter_core        5.7.2\n",
      "-----\n",
      "Python 3.11.9 | packaged by conda-forge | (main, Apr 19 2024, 18:34:54) [Clang 16.0.6 ]\n",
      "macOS-14.5-arm64-arm-64bit\n",
      "-----\n",
      "Session information updated at 2024-07-11 14:56\n"
     ]
    }
   ],
   "source": [
    "sc.settings.verbosity = 3\n",
    "sc.logging.print_versions()\n",
    "sc.settings.set_figure_params(dpi = 200, color_map = 'RdPu', dpi_save = 300, vector_friendly = True, format = 'svg')"
   ]
  },
  {
   "attachments": {},
   "cell_type": "markdown",
   "metadata": {},
   "source": [
    "### Read in individual compartments"
   ]
  },
  {
   "cell_type": "code",
   "execution_count": 3,
   "metadata": {},
   "outputs": [
    {
     "data": {
      "text/plain": [
       "AnnData object with n_obs × n_vars = 8257 × 32285\n",
       "    obs: 'cell_source', 'cell_type', 'donor', 'n_counts', 'n_genes', 'percent_mito', 'percent_ribo', 'region', 'sample', 'scrublet_score', 'cell_states', 'seed_labels', 'genotype', 'batch', 'doublet_scores', 'n_genes_by_counts', 'total_counts', 'total_counts_mt', 'pct_counts_mt', 'total_counts_ribo', 'pct_counts_ribo', 'percent_mt2', 'percent_chrY', 'XIST-counts', 'S_score', 'G2M_score', '_scvi_batch', '_scvi_labels', 'C_scANVI'\n",
       "    var: 'gene_ids', 'feature_types', 'genome', 'mt', 'ribo', 'n_cells_by_counts', 'mean_counts', 'pct_dropout_by_counts', 'total_counts'\n",
       "    obsm: 'X_scANVI', 'X_scVI', 'X_umap'"
      ]
     },
     "execution_count": 3,
     "metadata": {},
     "output_type": "execute_result"
    }
   ],
   "source": [
    "adata_cmc = sc.read_h5ad('/Users/cartalop/github/hofmann_macro/data/heart_mm_nuclei-23-0092_CMC_states_ctl240131.raw.h5ad')\n",
    "adata_cmc.obs['cell_states'] = adata_cmc.obs['C_scANVI'].copy()\n",
    "adata_cmc"
   ]
  },
  {
   "cell_type": "code",
   "execution_count": 4,
   "metadata": {},
   "outputs": [
    {
     "data": {
      "text/plain": [
       "AnnData object with n_obs × n_vars = 65544 × 16060\n",
       "    obs: 'orig.ident', 'Age_group', 'BMI', 'COVID_severity', 'COVID_status', 'Ethnicity', 'Group', 'Sex', 'annotation_broad', 'annotation_detailed', 'sample_id', 'seed_labels', 'donor', 'cell_states', 'sample', 'cell_source', 'genotype', 'nCount_HTO', 'nFeature_HTO', 'HTO_classification', 'Library', 'CD45_Annotation', 'cell_type', 'n_counts', 'n_genes', 'percent_mito', 'percent_ribo', 'region', 'scrublet_score', 'batch', 'doublet_scores', 'n_genes_by_counts', 'total_counts', 'total_counts_mt', 'pct_counts_mt', 'total_counts_ribo', 'pct_counts_ribo', 'percent_mt2', 'percent_chrY', 'XIST-counts', 'S_score', 'G2M_score', '_scvi_batch', '_scvi_labels', 'MPC_Annotation', 'compartment'\n",
       "    var: 'gene_ids-DMD_immune-DMD', 'feature_types-DMD_immune-DMD', 'genome-DMD_immune-DMD', 'mt-DMD_immune-DMD', 'ribo-DMD_immune-DMD', 'n_cells_by_counts-DMD_immune-DMD', 'mean_counts-DMD_immune-DMD', 'pct_dropout_by_counts-DMD_immune-DMD', 'total_counts-DMD_immune-DMD', 'vst.mean-MDX_MPC-DMD', 'vst.variance-MDX_MPC-DMD', 'vst.variance.expected-MDX_MPC-DMD', 'vst.variance.standardized-MDX_MPC-DMD', 'vst.variable-MDX_MPC-DMD', 'vst.mean-MDX_POOL_NEW-DMD', 'vst.variance-MDX_POOL_NEW-DMD', 'vst.variance.expected-MDX_POOL_NEW-DMD', 'vst.variance.standardized-MDX_POOL_NEW-DMD', 'vst.variable-MDX_POOL_NEW-DMD', 'vst.mean-MDX_MPC', 'vst.variance-MDX_MPC', 'vst.variance.expected-MDX_MPC', 'vst.variance.standardized-MDX_MPC', 'vst.variable-MDX_MPC', 'vst.mean-MDX_POOL_NEW', 'vst.variance-MDX_POOL_NEW', 'vst.variance.expected-MDX_POOL_NEW', 'vst.variance.standardized-MDX_POOL_NEW', 'vst.variable-MDX_POOL_NEW', 'name-pbmc_meyer'\n",
       "    uns: 'C_scANVI_S1_colors', '_scvi_manager_uuid', '_scvi_uuid', 'batch_colors', 'cell_source_colors', 'genotype_colors', 'hvg', 'neighbors', 'sample_colors', 'seed_labels_colors', 'umap'\n",
       "    obsm: 'X_scANVI', 'X_scVI', 'X_umap', '_scvi_extra_categorical_covs'"
      ]
     },
     "execution_count": 4,
     "metadata": {},
     "output_type": "execute_result"
    }
   ],
   "source": [
    "adata_lymphoid = sc.read_h5ad('/Users/cartalop/github/hofmann_macro/data/heart_mm_nuclei-23-0092_scANVI-Lymphoid_states_ctl240527.raw.h5ad')\n",
    "adata_lymphoid.obs['cell_states'] = adata_lymphoid.obs['cell_type'].copy()\n",
    "adata_lymphoid"
   ]
  },
  {
   "cell_type": "code",
   "execution_count": 5,
   "metadata": {},
   "outputs": [
    {
     "data": {
      "text/plain": [
       "AnnData object with n_obs × n_vars = 41716 × 16060\n",
       "    obs: 'orig.ident', 'Age_group', 'BMI', 'COVID_severity', 'COVID_status', 'Ethnicity', 'Group', 'Sex', 'annotation_broad', 'annotation_detailed', 'sample_id', 'seed_labels', 'donor', 'cell_states', 'sample', 'cell_source', 'genotype', 'nCount_HTO', 'nFeature_HTO', 'HTO_classification', 'Library', 'CD45_Annotation', 'cell_type', 'n_counts', 'n_genes', 'percent_mito', 'percent_ribo', 'region', 'scrublet_score', 'batch', 'doublet_scores', 'n_genes_by_counts', 'total_counts', 'total_counts_mt', 'pct_counts_mt', 'total_counts_ribo', 'pct_counts_ribo', 'percent_mt2', 'percent_chrY', 'XIST-counts', 'S_score', 'G2M_score', '_scvi_batch', '_scvi_labels', 'MPC_Annotation', 'compartment'\n",
       "    var: 'gene_ids-DMD_immune-DMD', 'feature_types-DMD_immune-DMD', 'genome-DMD_immune-DMD', 'mt-DMD_immune-DMD', 'ribo-DMD_immune-DMD', 'n_cells_by_counts-DMD_immune-DMD', 'mean_counts-DMD_immune-DMD', 'pct_dropout_by_counts-DMD_immune-DMD', 'total_counts-DMD_immune-DMD', 'vst.mean-MDX_MPC-DMD', 'vst.variance-MDX_MPC-DMD', 'vst.variance.expected-MDX_MPC-DMD', 'vst.variance.standardized-MDX_MPC-DMD', 'vst.variable-MDX_MPC-DMD', 'vst.mean-MDX_POOL_NEW-DMD', 'vst.variance-MDX_POOL_NEW-DMD', 'vst.variance.expected-MDX_POOL_NEW-DMD', 'vst.variance.standardized-MDX_POOL_NEW-DMD', 'vst.variable-MDX_POOL_NEW-DMD', 'vst.mean-MDX_MPC', 'vst.variance-MDX_MPC', 'vst.variance.expected-MDX_MPC', 'vst.variance.standardized-MDX_MPC', 'vst.variable-MDX_MPC', 'vst.mean-MDX_POOL_NEW', 'vst.variance-MDX_POOL_NEW', 'vst.variance.expected-MDX_POOL_NEW', 'vst.variance.standardized-MDX_POOL_NEW', 'vst.variable-MDX_POOL_NEW', 'name-pbmc_meyer'\n",
       "    uns: 'C_scANVI_S1_colors', '_scvi_manager_uuid', '_scvi_uuid', 'batch_colors', 'cell_source_colors', 'genotype_colors', 'hvg', 'neighbors', 'sample_colors', 'seed_labels_colors', 'umap'\n",
       "    obsm: 'X_scANVI', 'X_scVI', 'X_umap', '_scvi_extra_categorical_covs'"
      ]
     },
     "execution_count": 5,
     "metadata": {},
     "output_type": "execute_result"
    }
   ],
   "source": [
    "adata_myeloid = sc.read_h5ad('/Users/cartalop/github/hofmann_macro/data/heart_mm_nuclei-23-0092_scANVI-Myeloid_states_ctl240502.raw.h5ad')\n",
    "adata_myeloid.obs['cell_states'] = adata_myeloid.obs['cell_type'].copy()\n",
    "adata_myeloid"
   ]
  },
  {
   "cell_type": "markdown",
   "metadata": {},
   "source": [
    "### Merge all objects into one"
   ]
  },
  {
   "cell_type": "code",
   "execution_count": 6,
   "metadata": {},
   "outputs": [
    {
     "name": "stderr",
     "output_type": "stream",
     "text": [
      "/var/folders/lg/x_40326938n7b_ybcxybstf00000gn/T/ipykernel_61225/3673155895.py:1: FutureWarning: Use anndata.concat instead of AnnData.concatenate, AnnData.concatenate is deprecated and will be removed in the future. See the tutorial for concat at: https://anndata.readthedocs.io/en/latest/concatenation.html\n",
      "  adata_new = adata_cmc.concatenate(adata_lymphoid, adata_myeloid,\n"
     ]
    },
    {
     "data": {
      "text/plain": [
       "AnnData object with n_obs × n_vars = 115517 × 16060\n",
       "    obs: 'cell_source', 'cell_type', 'donor', 'n_counts', 'n_genes', 'percent_mito', 'percent_ribo', 'region', 'sample', 'scrublet_score', 'cell_states', 'seed_labels', 'genotype', 'batch', 'doublet_scores', 'n_genes_by_counts', 'total_counts', 'total_counts_mt', 'pct_counts_mt', 'total_counts_ribo', 'pct_counts_ribo', 'percent_mt2', 'percent_chrY', 'XIST-counts', 'S_score', 'G2M_score', '_scvi_batch', '_scvi_labels', 'C_scANVI', 'orig.ident', 'Age_group', 'BMI', 'COVID_severity', 'COVID_status', 'Ethnicity', 'Group', 'Sex', 'annotation_broad', 'annotation_detailed', 'sample_id', 'nCount_HTO', 'nFeature_HTO', 'HTO_classification', 'Library', 'CD45_Annotation', 'MPC_Annotation', 'compartment', 'object'\n",
       "    var: 'gene_ids-CMC', 'feature_types-CMC', 'genome-CMC', 'mt-CMC', 'ribo-CMC', 'n_cells_by_counts-CMC', 'mean_counts-CMC', 'pct_dropout_by_counts-CMC', 'total_counts-CMC', 'gene_ids-DMD_immune-DMD-Lymphoid', 'feature_types-DMD_immune-DMD-Lymphoid', 'genome-DMD_immune-DMD-Lymphoid', 'mt-DMD_immune-DMD-Lymphoid', 'ribo-DMD_immune-DMD-Lymphoid', 'n_cells_by_counts-DMD_immune-DMD-Lymphoid', 'mean_counts-DMD_immune-DMD-Lymphoid', 'pct_dropout_by_counts-DMD_immune-DMD-Lymphoid', 'total_counts-DMD_immune-DMD-Lymphoid', 'vst.mean-MDX_MPC-DMD-Lymphoid', 'vst.variance-MDX_MPC-DMD-Lymphoid', 'vst.variance.expected-MDX_MPC-DMD-Lymphoid', 'vst.variance.standardized-MDX_MPC-DMD-Lymphoid', 'vst.variable-MDX_MPC-DMD-Lymphoid', 'vst.mean-MDX_POOL_NEW-DMD-Lymphoid', 'vst.variance-MDX_POOL_NEW-DMD-Lymphoid', 'vst.variance.expected-MDX_POOL_NEW-DMD-Lymphoid', 'vst.variance.standardized-MDX_POOL_NEW-DMD-Lymphoid', 'vst.variable-MDX_POOL_NEW-DMD-Lymphoid', 'vst.mean-MDX_MPC-Lymphoid', 'vst.variance-MDX_MPC-Lymphoid', 'vst.variance.expected-MDX_MPC-Lymphoid', 'vst.variance.standardized-MDX_MPC-Lymphoid', 'vst.variable-MDX_MPC-Lymphoid', 'vst.mean-MDX_POOL_NEW-Lymphoid', 'vst.variance-MDX_POOL_NEW-Lymphoid', 'vst.variance.expected-MDX_POOL_NEW-Lymphoid', 'vst.variance.standardized-MDX_POOL_NEW-Lymphoid', 'vst.variable-MDX_POOL_NEW-Lymphoid', 'name-pbmc_meyer-Lymphoid', 'gene_ids-DMD_immune-DMD-Myeloid', 'feature_types-DMD_immune-DMD-Myeloid', 'genome-DMD_immune-DMD-Myeloid', 'mt-DMD_immune-DMD-Myeloid', 'ribo-DMD_immune-DMD-Myeloid', 'n_cells_by_counts-DMD_immune-DMD-Myeloid', 'mean_counts-DMD_immune-DMD-Myeloid', 'pct_dropout_by_counts-DMD_immune-DMD-Myeloid', 'total_counts-DMD_immune-DMD-Myeloid', 'vst.mean-MDX_MPC-DMD-Myeloid', 'vst.variance-MDX_MPC-DMD-Myeloid', 'vst.variance.expected-MDX_MPC-DMD-Myeloid', 'vst.variance.standardized-MDX_MPC-DMD-Myeloid', 'vst.variable-MDX_MPC-DMD-Myeloid', 'vst.mean-MDX_POOL_NEW-DMD-Myeloid', 'vst.variance-MDX_POOL_NEW-DMD-Myeloid', 'vst.variance.expected-MDX_POOL_NEW-DMD-Myeloid', 'vst.variance.standardized-MDX_POOL_NEW-DMD-Myeloid', 'vst.variable-MDX_POOL_NEW-DMD-Myeloid', 'vst.mean-MDX_MPC-Myeloid', 'vst.variance-MDX_MPC-Myeloid', 'vst.variance.expected-MDX_MPC-Myeloid', 'vst.variance.standardized-MDX_MPC-Myeloid', 'vst.variable-MDX_MPC-Myeloid', 'vst.mean-MDX_POOL_NEW-Myeloid', 'vst.variance-MDX_POOL_NEW-Myeloid', 'vst.variance.expected-MDX_POOL_NEW-Myeloid', 'vst.variance.standardized-MDX_POOL_NEW-Myeloid', 'vst.variable-MDX_POOL_NEW-Myeloid', 'name-pbmc_meyer-Myeloid'\n",
       "    obsm: 'X_scANVI', 'X_scVI', 'X_umap'"
      ]
     },
     "execution_count": 6,
     "metadata": {},
     "output_type": "execute_result"
    }
   ],
   "source": [
    "adata_new = adata_cmc.concatenate(adata_lymphoid, adata_myeloid, \n",
    "                                  batch_key = 'object',\n",
    "                                  batch_categories = ['CMC', 'Lymphoid', 'Myeloid'], \n",
    "                                  join = 'inner')\n",
    "adata_new"
   ]
  },
  {
   "cell_type": "code",
   "execution_count": 7,
   "metadata": {},
   "outputs": [
    {
     "data": {
      "text/plain": [
       "Index(['A9_2', 'A10_2', 'A11_2', 'A12_2', 'B1_2', 'B2_2', 'Hashtag1-TotalA',\n",
       "       'Hashtag2-TotalA', 'Hashtag3-TotalA', 'Hashtag4-TotalA',\n",
       "       'Hashtag5-TotalA', 'Hashtag6-TotalA', 'Hashtag7-TotalA',\n",
       "       'Hashtag8-TotalA', 'Hashtag9-TotalA', 'Hashtag10-TotalA',\n",
       "       'Hashtag11-TotalA', 'Hashtag12-TotalA', 'Hashtag13-TotalA',\n",
       "       'Hashtag14-TotalA', 'Hashtag15-TotalA'],\n",
       "      dtype='object')"
      ]
     },
     "execution_count": 7,
     "metadata": {},
     "output_type": "execute_result"
    }
   ],
   "source": [
    "adata_new.obs['samples'] = adata_new.obs['sample'].copy()\n",
    "adata_new.obs['samples'].cat.categories\n"
   ]
  },
  {
   "cell_type": "markdown",
   "metadata": {},
   "source": [
    "### Clean `adata.obs` for clarity"
   ]
  },
  {
   "cell_type": "code",
   "execution_count": 8,
   "metadata": {},
   "outputs": [],
   "source": [
    "variables_to_keep = [\n",
    "    'cell_source', 'cell_type', 'donor', 'cell_states', \n",
    "    'genotype', 'compartment', 'object', 'samples'\n",
    "]\n",
    "\n",
    "adata_new.obs = adata_new.obs[variables_to_keep]"
   ]
  },
  {
   "cell_type": "code",
   "execution_count": 9,
   "metadata": {},
   "outputs": [],
   "source": [
    "variables_to_keep = ['gene_ids-CMC']\n",
    "\n",
    "adata_new.var = adata_new.var[variables_to_keep]"
   ]
  },
  {
   "cell_type": "code",
   "execution_count": 10,
   "metadata": {},
   "outputs": [],
   "source": [
    "del(adata_new.obsm)"
   ]
  },
  {
   "cell_type": "code",
   "execution_count": 11,
   "metadata": {},
   "outputs": [
    {
     "data": {
      "text/plain": [
       "AnnData object with n_obs × n_vars = 115517 × 16060\n",
       "    obs: 'cell_source', 'cell_type', 'donor', 'cell_states', 'genotype', 'compartment', 'object', 'samples'\n",
       "    var: 'gene_ids-CMC'"
      ]
     },
     "execution_count": 11,
     "metadata": {},
     "output_type": "execute_result"
    }
   ],
   "source": [
    "adata_new"
   ]
  },
  {
   "attachments": {},
   "cell_type": "markdown",
   "metadata": {},
   "source": [
    "### Make a subset of all populations\n",
    "\n",
    "- Removing stuff like `nan`or doublets."
   ]
  },
  {
   "cell_type": "code",
   "execution_count": 12,
   "metadata": {},
   "outputs": [
    {
     "data": {
      "text/plain": [
       "Index(['B_cells', 'B_mem', 'B_naive', 'CD4Tctl', 'CD4Th', 'CD4Tnaive',\n",
       "       'CD8Tcm', 'CD8Tctl', 'CD8Tem', 'CD8Temra', 'CD8Tnaive', 'Ccr2+MHCII+MØ',\n",
       "       'DC', 'DC2', 'ILC', 'Isg15+MØ', 'Ly6ChiMo', 'Ly6CloMo', 'MAIT',\n",
       "       'MHCII+MØtr', 'Mast', 'MØinf', 'NK', 'NØ', 'Plasma_cells',\n",
       "       'Spp1+Gpnmb+MØ', 'T', 'TLF+MØ', 'Treg', 'gdT', 'vCM1', 'vCM2', 'vCM3',\n",
       "       'vCM4'],\n",
       "      dtype='object')"
      ]
     },
     "execution_count": 12,
     "metadata": {},
     "output_type": "execute_result"
    }
   ],
   "source": [
    "adata_new.obs['cell_states'].cat.categories"
   ]
  },
  {
   "cell_type": "code",
   "execution_count": 13,
   "metadata": {},
   "outputs": [
    {
     "data": {
      "text/plain": [
       "Index(['ACACTGATCATTATCC-1-A9_2-CMC', 'TCTTCCTGTCATAACC-1-A9_2-CMC',\n",
       "       'ATCTCTAGTTTCAGAC-1-A9_2-CMC', 'TGAATGCAGCTCCATA-1-A9_2-CMC',\n",
       "       'GCAGCTGCACAAGTGG-1-A9_2-CMC', 'GAGACTTCAGTTAGAA-1-A9_2-CMC',\n",
       "       'CCGATCTTCGCACGGT-1-A9_2-CMC', 'TAACTTCTCACAGAGG-1-A9_2-CMC',\n",
       "       'CAACGATGTCTACGTA-1-A9_2-CMC', 'ATCGATGGTACCTAGT-1-A9_2-CMC',\n",
       "       ...\n",
       "       'TTTGACTCAGGCAATG-1_2-MDX_MPC-1-Myeloid',\n",
       "       'TTTGATCCATAACAGA-1_2-MDX_MPC-1-Myeloid',\n",
       "       'TTTGATCGTCGTATTG-1_2-MDX_MPC-1-Myeloid',\n",
       "       'TTTGATCTCAAGTAAG-1_2-MDX_MPC-1-Myeloid',\n",
       "       'TTTGGAGAGACTAAGT-1_2-MDX_MPC-1-Myeloid',\n",
       "       'TTTGGAGAGCGACTGA-1_2-MDX_MPC-1-Myeloid',\n",
       "       'TTTGGAGAGGATAATC-1_2-MDX_MPC-1-Myeloid',\n",
       "       'TTTGGAGTCTCGGCTT-1_2-MDX_MPC-1-Myeloid',\n",
       "       'TTTGTTGAGATTCGAA-1_2-MDX_MPC-1-Myeloid',\n",
       "       'TTTGTTGGTGATATAG-1_2-MDX_MPC-1-Myeloid'],\n",
       "      dtype='object', length=115517)"
      ]
     },
     "execution_count": 13,
     "metadata": {},
     "output_type": "execute_result"
    }
   ],
   "source": [
    "adata_new.obs_names"
   ]
  },
  {
   "cell_type": "code",
   "execution_count": 14,
   "metadata": {},
   "outputs": [
    {
     "data": {
      "text/plain": [
       "Index(['Xkr4', 'Rp1', 'Sox17', 'Mrpl15', 'Lypla1', 'Tcea1', 'Rgs20', 'Atp6v1h',\n",
       "       'Oprk1', 'Npbwr1',\n",
       "       ...\n",
       "       'Mid1', 'Asmt', 'Kdm5d', 'Uty', 'Ddx3y', 'Usp9y', 'Sry', 'Vamp7',\n",
       "       'Spry3', 'Tmlhe'],\n",
       "      dtype='object', length=16060)"
      ]
     },
     "execution_count": 14,
     "metadata": {},
     "output_type": "execute_result"
    }
   ],
   "source": [
    "adata_new.var_names"
   ]
  },
  {
   "attachments": {},
   "cell_type": "markdown",
   "metadata": {},
   "source": [
    "### Subset per condition"
   ]
  },
  {
   "cell_type": "code",
   "execution_count": 15,
   "metadata": {},
   "outputs": [
    {
     "data": {
      "text/plain": [
       "Index(['Mdx', 'MdxSCID', 'WT'], dtype='object')"
      ]
     },
     "execution_count": 15,
     "metadata": {},
     "output_type": "execute_result"
    }
   ],
   "source": [
    "adata_new.obs['genotype'].cat.categories"
   ]
  },
  {
   "cell_type": "code",
   "execution_count": 16,
   "metadata": {},
   "outputs": [
    {
     "data": {
      "text/plain": [
       "View of AnnData object with n_obs × n_vars = 69819 × 16060\n",
       "    obs: 'cell_source', 'cell_type', 'donor', 'cell_states', 'genotype', 'compartment', 'object', 'samples'\n",
       "    var: 'gene_ids-CMC'"
      ]
     },
     "execution_count": 16,
     "metadata": {},
     "output_type": "execute_result"
    }
   ],
   "source": [
    "adata_new_WT = adata_new[adata_new.obs['genotype'].isin(['WT'])]\n",
    "adata_new_WT"
   ]
  },
  {
   "attachments": {},
   "cell_type": "markdown",
   "metadata": {},
   "source": [
    "### Export CTRL"
   ]
  },
  {
   "cell_type": "code",
   "execution_count": 17,
   "metadata": {},
   "outputs": [
    {
     "name": "stdout",
     "output_type": "stream",
     "text": [
      "normalizing by total count per cell\n"
     ]
    },
    {
     "name": "stderr",
     "output_type": "stream",
     "text": [
      "/Users/cartalop/miniforge3/envs/scanpy/lib/python3.11/site-packages/scanpy/preprocessing/_simple.py:569: ImplicitModificationWarning: Trying to modify attribute `.obs` of view, initializing view as actual.\n",
      "  adata.obs[key_n_counts] = counts_per_cell\n"
     ]
    },
    {
     "name": "stdout",
     "output_type": "stream",
     "text": [
      "    finished (0:00:00): normalized adata.X and added    'n_counts', counts per cell before normalization (adata.obs)\n"
     ]
    }
   ],
   "source": [
    "sc.pp.normalize_per_cell(adata_new_WT, counts_per_cell_after = 1e6)\n",
    "sc.pp.log1p(adata_new_WT)\n",
    "adata_new_WT.X = sp.sparse.csc_matrix(adata_new_WT.X)"
   ]
  },
  {
   "cell_type": "code",
   "execution_count": 18,
   "metadata": {},
   "outputs": [],
   "source": [
    "adata_new_WT.write('/Users/cartalop/github/hofmann_macro/data/DMD-WT_CMC-Immune_ctl240711.log.h5ad')"
   ]
  },
  {
   "attachments": {},
   "cell_type": "markdown",
   "metadata": {},
   "source": [
    "### Export Conditions"
   ]
  },
  {
   "cell_type": "code",
   "execution_count": 19,
   "metadata": {},
   "outputs": [
    {
     "data": {
      "text/plain": [
       "Index(['Mdx', 'MdxSCID', 'WT'], dtype='object')"
      ]
     },
     "execution_count": 19,
     "metadata": {},
     "output_type": "execute_result"
    }
   ],
   "source": [
    "adata_new.obs['genotype'].cat.categories"
   ]
  },
  {
   "cell_type": "code",
   "execution_count": 22,
   "metadata": {},
   "outputs": [
    {
     "name": "stdout",
     "output_type": "stream",
     "text": [
      "normalizing by total count per cell\n"
     ]
    },
    {
     "name": "stderr",
     "output_type": "stream",
     "text": [
      "/Users/cartalop/miniforge3/envs/scanpy/lib/python3.11/site-packages/scanpy/preprocessing/_simple.py:569: ImplicitModificationWarning: Trying to modify attribute `.obs` of view, initializing view as actual.\n",
      "  adata.obs[key_n_counts] = counts_per_cell\n"
     ]
    },
    {
     "name": "stdout",
     "output_type": "stream",
     "text": [
      "    finished (0:00:00): normalized adata.X and added    'n_counts', counts per cell before normalization (adata.obs)\n"
     ]
    },
    {
     "data": {
      "text/plain": [
       "AnnData object with n_obs × n_vars = 29502 × 16060\n",
       "    obs: 'cell_source', 'cell_type', 'donor', 'cell_states', 'genotype', 'compartment', 'object', 'samples', 'n_counts'\n",
       "    var: 'gene_ids-CMC'\n",
       "    uns: 'log1p'"
      ]
     },
     "execution_count": 22,
     "metadata": {},
     "output_type": "execute_result"
    }
   ],
   "source": [
    "adata_new_COND = adata_new[adata_new.obs['genotype'].isin(['MdxSCID'])]\n",
    "sc.pp.normalize_per_cell(adata_new_COND, counts_per_cell_after = 1e6)\n",
    "sc.pp.log1p(adata_new_COND)\n",
    "adata_new_COND.X = sp.sparse.csc_matrix(adata_new_COND.X)\n",
    "adata_new_COND"
   ]
  },
  {
   "cell_type": "code",
   "execution_count": 23,
   "metadata": {},
   "outputs": [],
   "source": [
    "adata_new_COND.write('/Users/cartalop/github/hofmann_macro/data/DMD-MdxSCID_CMC-Immune_ctl240711.log.h5ad')"
   ]
  },
  {
   "cell_type": "code",
   "execution_count": null,
   "metadata": {},
   "outputs": [],
   "source": []
  }
 ],
 "metadata": {
  "kernelspec": {
   "display_name": "base",
   "language": "python",
   "name": "python3"
  },
  "language_info": {
   "codemirror_mode": {
    "name": "ipython",
    "version": 3
   },
   "file_extension": ".py",
   "mimetype": "text/x-python",
   "name": "python",
   "nbconvert_exporter": "python",
   "pygments_lexer": "ipython3",
   "version": "3.11.9"
  },
  "vscode": {
   "interpreter": {
    "hash": "ed18ba783afa68584f89c0e1dc87cd5f0dbea19d03cc696bd28b7f836af058ef"
   }
  }
 },
 "nbformat": 4,
 "nbformat_minor": 4
}
