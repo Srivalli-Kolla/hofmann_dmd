{
 "cells": [
  {
   "cell_type": "markdown",
   "metadata": {},
   "source": [
    "### Notebook for the contextualisation of cell-cell communications on cardiomyocytes data using `Tensor2Cell`\n",
    "\n",
    "- **Developed by**: Carlos Talavera-López\n",
    "- **Würzburg Institute for Systems Immunology, Faculty of Medicine, Julius-Maximilian-Universität Würzburg**\n",
    "- **Created**: 240201\n",
    "- **Latest version**: 240201"
   ]
  },
  {
   "cell_type": "markdown",
   "metadata": {},
   "source": [
    "### Import required modules"
   ]
  },
  {
   "cell_type": "code",
   "execution_count": 3,
   "metadata": {},
   "outputs": [],
   "source": [
    "import anndata\n",
    "import warnings\n",
    "import numpy as np\n",
    "import liana as li\n",
    "import pandas as pd\n",
    "import scanpy as sc\n",
    "import plotnine as p9\n",
    "import decoupler as dc\n",
    "import cell2cell as c2c\n",
    "from collections import defaultdict\n",
    "from liana.method import singlecellsignalr, connectome, cellphonedb, natmi, logfc, cellchat, geometric_mean"
   ]
  },
  {
   "cell_type": "markdown",
   "metadata": {},
   "source": [
    "### Set up working environment"
   ]
  },
  {
   "cell_type": "code",
   "execution_count": null,
   "metadata": {},
   "outputs": [],
   "source": [
    "warnings.filterwarnings('ignore')\n",
    "\n",
    "sc.settings.verbosity = 3\n",
    "sc.logging.print_versions()\n",
    "sc.settings.set_figure_params(dpi = 180, color_map = 'magma_r', dpi_save = 300, vector_friendly = True, format = 'svg')"
   ]
  },
  {
   "cell_type": "markdown",
   "metadata": {},
   "source": [
    "### Read in data"
   ]
  },
  {
   "cell_type": "code",
   "execution_count": null,
   "metadata": {},
   "outputs": [],
   "source": [
    "adata = sc.read_h5ad('../../../data/heart_mm_nuclei-23-0092_CMC_states_ctl240131.raw.h5ad') \n",
    "adata"
   ]
  },
  {
   "cell_type": "code",
   "execution_count": null,
   "metadata": {},
   "outputs": [],
   "source": [
    "adata.obs[\"cell_type\"] = adata.obs[\"C_scANVI\"].copy()\n",
    "adata.obs[\"cell_type\"].cat.categories"
   ]
  },
  {
   "cell_type": "code",
   "execution_count": null,
   "metadata": {},
   "outputs": [],
   "source": [
    "sample_key = 'sample'\n",
    "condition_key = 'genotype'\n",
    "groupby = 'cell_type'"
   ]
  },
  {
   "cell_type": "markdown",
   "metadata": {},
   "source": [
    "### Ligand-Receptor Inference by Sample"
   ]
  },
  {
   "cell_type": "code",
   "execution_count": null,
   "metadata": {},
   "outputs": [],
   "source": [
    "li.mt.rank_aggregate.by_sample(\n",
    "    adata,\n",
    "    groupby = groupby,\n",
    "    sample_key = sample_key,\n",
    "    use_raw = False,\n",
    "    verbose = True, \n",
    "    n_perms = 100, \n",
    "    return_all_lrs = True, \n",
    "    resource_name = 'mouseconsensus'\n",
    "    )"
   ]
  },
  {
   "cell_type": "code",
   "execution_count": null,
   "metadata": {},
   "outputs": [],
   "source": [
    "adata.uns[\"liana_res\"].sort_values(\"magnitude_rank\").head(10)"
   ]
  },
  {
   "cell_type": "markdown",
   "metadata": {},
   "source": [
    "### Building a Tensor"
   ]
  },
  {
   "cell_type": "code",
   "execution_count": null,
   "metadata": {},
   "outputs": [],
   "source": [
    "tensor = li.multi.to_tensor_c2c(adata,\n",
    "                                sample_key = sample_key,\n",
    "                                score_key = 'magnitude_rank', # can be any score from liana\n",
    "                                how = 'outer_cells' # how to join the samples\n",
    "                                )"
   ]
  },
  {
   "cell_type": "code",
   "execution_count": null,
   "metadata": {},
   "outputs": [],
   "source": [
    "tensor.tensor.shape"
   ]
  },
  {
   "cell_type": "code",
   "execution_count": null,
   "metadata": {},
   "outputs": [],
   "source": [
    "c2c.io.export_variable_with_pickle(tensor, \"tensor_tutorial.pkl\")"
   ]
  },
  {
   "cell_type": "code",
   "execution_count": null,
   "metadata": {},
   "outputs": [],
   "source": [
    "context_dict = adata.obs[[sample_key, condition_key]].drop_duplicates()\n",
    "context_dict = dict(zip(context_dict[sample_key], context_dict[condition_key]))\n",
    "context_dict = defaultdict(lambda: 'Unknown', context_dict)\n",
    "\n",
    "tensor_meta = c2c.tensor.generate_tensor_metadata(interaction_tensor = tensor,\n",
    "                                                  metadata_dicts = [context_dict, None, None, None],\n",
    "                                                  fill_with_order_elements = True\n",
    "                                                  )"
   ]
  },
  {
   "cell_type": "markdown",
   "metadata": {},
   "source": [
    "### Running `Tensor-cell2cell`"
   ]
  },
  {
   "cell_type": "code",
   "execution_count": null,
   "metadata": {},
   "outputs": [],
   "source": [
    "tensor = c2c.analysis.run_tensor_cell2cell_pipeline(tensor,\n",
    "                                                    tensor_meta,\n",
    "                                                    copy_tensor = True, # Whether to output a new tensor or modifying the original\n",
    "                                                    rank= None, # Number of factors to perform the factorization. If None, it is automatically determined by an elbow analysis. Here, it was precomuputed.\n",
    "                                                    tf_optimization = 'regular', # To define how robust we want the analysis to be.\n",
    "                                                    random_state = 1712, # Random seed for reproducibility\n",
    "                                                    device = 'cuda', # Device to use. If using GPU and PyTorch, use 'cuda'. For CPU use 'cpu'\n",
    "                                                    elbow_metric = 'error', # Metric to use in the elbow analysis.\n",
    "                                                    smooth_elbow = False, # Whether smoothing the metric of the elbow analysis.\n",
    "                                                    upper_rank = 20, # Max number of factors to try in the elbow analysis\n",
    "                                                    tf_init = 'random', # Initialization method of the tensor factorization\n",
    "                                                    tf_svd = 'numpy_svd', # Type of SVD to use if the initialization is 'svd'\n",
    "                                                    cmaps = None, # Color palettes to use in color each of the dimensions. Must be a list of palettes.\n",
    "                                                    sample_col = 'Element', # Columns containing the elements in the tensor metadata\n",
    "                                                    group_col = 'Category', # Columns containing the major groups in the tensor metadata\n",
    "                                                    output_fig = False, \n",
    "                                                    )"
   ]
  },
  {
   "cell_type": "code",
   "execution_count": null,
   "metadata": {},
   "outputs": [],
   "source": [
    "factors, axes = c2c.plotting.tensor_factors_plot(interaction_tensor = tensor,\n",
    "                                                 metadata = tensor_meta, # This is the metadata for each dimension\n",
    "                                                 sample_col='Element',\n",
    "                                                 group_col='Category',\n",
    "                                                 meta_cmaps = ['viridis', 'Dark2_r', 'tab20', 'tab20'],\n",
    "                                                 fontsize = 10, # Font size of the figures generated\n",
    "                                                 )"
   ]
  },
  {
   "cell_type": "markdown",
   "metadata": {},
   "source": [
    "### Factorization Results"
   ]
  },
  {
   "cell_type": "code",
   "execution_count": null,
   "metadata": {},
   "outputs": [],
   "source": [
    "factors = tensor.factors\n",
    "factors.keys()"
   ]
  },
  {
   "cell_type": "code",
   "execution_count": null,
   "metadata": {},
   "outputs": [],
   "source": [
    "factors['Contexts']"
   ]
  },
  {
   "cell_type": "code",
   "execution_count": null,
   "metadata": {},
   "outputs": [],
   "source": [
    "lr_loadings = factors['Ligand-Receptor Pairs']\n",
    "lr_loadings.sort_values(\"Factor 9\", ascending = False).head(10)"
   ]
  },
  {
   "cell_type": "markdown",
   "metadata": {},
   "source": [
    "### Enrichment analysis of the results using `decoupler` "
   ]
  },
  {
   "cell_type": "code",
   "execution_count": null,
   "metadata": {},
   "outputs": [],
   "source": [
    "net = dc.get_progeny(organism = 'mouse', top = 5000)"
   ]
  },
  {
   "cell_type": "code",
   "execution_count": null,
   "metadata": {},
   "outputs": [],
   "source": [
    "lr_pairs = li.resource.select_resource('mouseconsensus')\n",
    "lr_progeny = li.rs.generate_lr_geneset(lr_pairs, net, lr_sep = \"^\")\n",
    "lr_progeny.head()"
   ]
  },
  {
   "cell_type": "code",
   "execution_count": null,
   "metadata": {},
   "outputs": [],
   "source": [
    "estimate, pvals = dc.run_mlm(lr_loadings.transpose(), \n",
    "                             lr_progeny, \n",
    "                             source = \"source\", \n",
    "                             target = \"interaction\", \n",
    "                             use_raw = False)"
   ]
  },
  {
   "cell_type": "code",
   "execution_count": null,
   "metadata": {},
   "outputs": [],
   "source": [
    "dc.plot_barplot(estimate, \n",
    "                'Factor 5', \n",
    "                vertical = True, \n",
    "                cmap = 'coolwarm', \n",
    "                vmin = -7, \n",
    "                vmax = 7)"
   ]
  }
 ],
 "metadata": {
  "kernelspec": {
   "display_name": "liana+",
   "language": "python",
   "name": "python3"
  },
  "language_info": {
   "codemirror_mode": {
    "name": "ipython",
    "version": 3
   },
   "file_extension": ".py",
   "mimetype": "text/x-python",
   "name": "python",
   "nbconvert_exporter": "python",
   "pygments_lexer": "ipython3",
   "version": "3.10.13"
  }
 },
 "nbformat": 4,
 "nbformat_minor": 2
}
