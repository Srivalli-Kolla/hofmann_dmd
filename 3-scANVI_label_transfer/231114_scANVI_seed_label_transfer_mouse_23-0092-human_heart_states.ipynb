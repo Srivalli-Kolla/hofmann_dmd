{
 "cells": [
  {
   "attachments": {},
   "cell_type": "markdown",
   "metadata": {},
   "source": [
    "### Notebook for the label transfer of Healthy Human Heart to mouse heart using `scANVI`\n",
    "\n",
    "- **Developed by:** Carlos Talavera-López Ph.D\n",
    "- **Würzburg Institute for Systems Immunology & Julius-Maximilian-Universität Würzburg**\n",
    "- v230918"
   ]
  },
  {
   "attachments": {},
   "cell_type": "markdown",
   "metadata": {},
   "source": [
    "### Import required modules"
   ]
  },
  {
   "cell_type": "code",
   "execution_count": 1,
   "metadata": {},
   "outputs": [
    {
     "name": "stderr",
     "output_type": "stream",
     "text": [
      "/home/ruth/mambaforge/envs/scvi-tools/lib/python3.9/site-packages/scvi/_settings.py:63: UserWarning: Since v1.0.0, scvi-tools no longer uses a random seed by default. Run `scvi.settings.seed = 0` to reproduce results from previous versions.\n",
      "  self.seed = seed\n",
      "/home/ruth/mambaforge/envs/scvi-tools/lib/python3.9/site-packages/scvi/_settings.py:70: UserWarning: Setting `dl_pin_memory_gpu_training` is deprecated in v1.0 and will be removed in v1.1. Please pass in `pin_memory` to the data loaders instead.\n",
      "  self.dl_pin_memory_gpu_training = (\n"
     ]
    }
   ],
   "source": [
    "import scvi\n",
    "import torch\n",
    "import anndata\n",
    "import warnings\n",
    "import numpy as np\n",
    "import scanpy as sc\n",
    "import pandas as pd\n",
    "import plotnine as p\n",
    "from pywaffle import Waffle\n",
    "import matplotlib.pyplot as plt\n",
    "from scib_metrics.benchmark import Benchmarker"
   ]
  },
  {
   "attachments": {},
   "cell_type": "markdown",
   "metadata": {},
   "source": [
    "### Set up working environment"
   ]
  },
  {
   "cell_type": "code",
   "execution_count": 2,
   "metadata": {},
   "outputs": [
    {
     "name": "stdout",
     "output_type": "stream",
     "text": [
      "-----\n",
      "anndata     0.9.2\n",
      "scanpy      1.9.4\n",
      "-----\n",
      "PIL                 10.0.0\n",
      "absl                NA\n",
      "aiohttp             3.8.5\n",
      "aiosignal           1.3.1\n",
      "annotated_types     0.5.0\n",
      "anyio               NA\n",
      "asttokens           NA\n",
      "async_timeout       4.0.3\n",
      "attr                23.1.0\n",
      "backcall            0.2.0\n",
      "backoff             2.2.1\n",
      "bs4                 4.12.2\n",
      "certifi             2023.07.22\n",
      "charset_normalizer  3.2.0\n",
      "chex                0.1.7\n",
      "click               8.1.7\n",
      "comm                0.1.4\n",
      "contextlib2         NA\n",
      "croniter            NA\n",
      "cycler              0.10.0\n",
      "cython_runtime      NA\n",
      "dateutil            2.8.2\n",
      "debugpy             1.6.7.post1\n",
      "decorator           5.1.1\n",
      "deepdiff            6.3.1\n",
      "docrep              0.3.2\n",
      "etils               1.4.1\n",
      "executing           1.2.0\n",
      "fastapi             0.103.0\n",
      "flax                0.7.2\n",
      "frozenlist          1.4.0\n",
      "fsspec              2023.6.0\n",
      "h5py                3.9.0\n",
      "idna                3.4\n",
      "igraph              0.10.8\n",
      "importlib_resources NA\n",
      "ipykernel           6.25.1\n",
      "ipywidgets          8.1.0\n",
      "jax                 0.4.17\n",
      "jaxlib              0.4.17\n",
      "jedi                0.19.0\n",
      "joblib              1.3.2\n",
      "kiwisolver          1.4.5\n",
      "leidenalg           0.10.1\n",
      "lightning           2.0.7\n",
      "lightning_cloud     NA\n",
      "lightning_utilities 0.9.0\n",
      "llvmlite            0.40.1\n",
      "matplotlib          3.7.2\n",
      "mizani              0.9.3\n",
      "ml_collections      NA\n",
      "ml_dtypes           0.2.0\n",
      "mpl_toolkits        NA\n",
      "mpmath              1.3.0\n",
      "msgpack             1.0.5\n",
      "mudata              0.2.3\n",
      "multidict           6.0.4\n",
      "multipart           0.0.6\n",
      "multipledispatch    0.6.0\n",
      "natsort             8.4.0\n",
      "numba               0.57.1\n",
      "numpy               1.24.4\n",
      "numpyro             0.13.0\n",
      "nvfuser             NA\n",
      "opt_einsum          v3.3.0\n",
      "optax               0.1.7\n",
      "ordered_set         4.1.0\n",
      "packaging           23.1\n",
      "pandas              2.0.3\n",
      "parso               0.8.3\n",
      "pexpect             4.8.0\n",
      "pickleshare         0.7.5\n",
      "pkg_resources       NA\n",
      "platformdirs        3.10.0\n",
      "plotnine            0.12.3\n",
      "plottable           0.1.5\n",
      "prompt_toolkit      3.0.39\n",
      "psutil              5.9.5\n",
      "ptyprocess          0.7.0\n",
      "pure_eval           0.2.2\n",
      "pydantic            2.1.1\n",
      "pydantic_core       2.4.0\n",
      "pydev_ipython       NA\n",
      "pydevconsole        NA\n",
      "pydevd              2.9.5\n",
      "pydevd_file_utils   NA\n",
      "pydevd_plugins      NA\n",
      "pydevd_tracing      NA\n",
      "pygments            2.16.1\n",
      "pynndescent         0.5.10\n",
      "pyparsing           3.0.9\n",
      "pyro                1.8.6\n",
      "pytz                2023.3\n",
      "pywaffle            NA\n",
      "requests            2.31.0\n",
      "rich                NA\n",
      "scib_metrics        0.4.0\n",
      "scipy               1.11.2\n",
      "scvi                1.0.3\n",
      "session_info        1.0.0\n",
      "setuptools          68.1.2\n",
      "six                 1.16.0\n",
      "sklearn             1.3.0\n",
      "sniffio             1.3.0\n",
      "soupsieve           2.4.1\n",
      "sparse              0.14.0\n",
      "stack_data          0.6.2\n",
      "starlette           0.27.0\n",
      "sympy               1.12\n",
      "texttable           1.7.0\n",
      "threadpoolctl       3.2.0\n",
      "toolz               0.12.0\n",
      "torch               2.0.1+cu117\n",
      "torchmetrics        1.1.1\n",
      "tornado             6.3.3\n",
      "tqdm                4.66.1\n",
      "traitlets           5.9.0\n",
      "tree                0.1.8\n",
      "typing_extensions   NA\n",
      "urllib3             2.0.4\n",
      "uvicorn             0.23.2\n",
      "wcwidth             0.2.6\n",
      "websocket           1.6.2\n",
      "websockets          11.0.3\n",
      "wrapt               1.15.0\n",
      "xarray              2023.8.0\n",
      "yaml                6.0.1\n",
      "yarl                1.9.2\n",
      "zipp                NA\n",
      "zmq                 25.1.1\n",
      "zoneinfo            NA\n",
      "-----\n",
      "IPython             8.14.0\n",
      "jupyter_client      8.3.1\n",
      "jupyter_core        5.3.1\n",
      "-----\n",
      "Python 3.9.17 | packaged by conda-forge | (main, Aug 10 2023, 07:02:31) [GCC 12.3.0]\n",
      "Linux-6.5.10-200.fc38.x86_64-x86_64-with-glibc2.37\n",
      "-----\n",
      "Session information updated at 2023-11-24 09:56\n"
     ]
    }
   ],
   "source": [
    "sc.settings.verbosity = 3\n",
    "sc.logging.print_versions()\n",
    "sc.settings.set_figure_params(dpi = 180, color_map = 'magma_r', dpi_save = 300, vector_friendly = True, format = 'svg')"
   ]
  },
  {
   "cell_type": "code",
   "execution_count": 3,
   "metadata": {},
   "outputs": [],
   "source": [
    "torch.set_float32_matmul_precision('high')"
   ]
  },
  {
   "cell_type": "code",
   "execution_count": 4,
   "metadata": {},
   "outputs": [
    {
     "name": "stderr",
     "output_type": "stream",
     "text": [
      "Global seed set to 1712\n"
     ]
    }
   ],
   "source": [
    "warnings.simplefilter(action = 'ignore')\n",
    "scvi.settings.seed = 1712\n",
    "%config InlineBackend.print_figure_kwargs = {'facecolor' : \"w\"}\n",
    "%config InlineBackend.figure_format = 'retina'"
   ]
  },
  {
   "cell_type": "code",
   "execution_count": 5,
   "metadata": {},
   "outputs": [],
   "source": [
    "arches_params = dict(\n",
    "    use_layer_norm = \"both\",\n",
    "    use_batch_norm = \"none\",\n",
    "    encode_covariates = True,\n",
    "    dropout_rate = 0.2,\n",
    "    n_layers = 2,\n",
    ")"
   ]
  },
  {
   "attachments": {},
   "cell_type": "markdown",
   "metadata": {},
   "source": [
    "### Read in Healthy data"
   ]
  },
  {
   "cell_type": "code",
   "execution_count": 6,
   "metadata": {},
   "outputs": [
    {
     "data": {
      "text/plain": [
       "AnnData object with n_obs × n_vars = 452506 × 22260\n",
       "    obs: 'cell_source', 'cell_type', 'donor', 'n_counts', 'n_genes', 'percent_mito', 'percent_ribo', 'region', 'sample', 'scrublet_score', 'cell_states', 'seed_labels'\n",
       "    var: 'gene_ids-Harvard-Nuclei-full', 'feature_types-Harvard-Nuclei-full', 'gene_ids-Sanger-Nuclei-full', 'feature_types-Sanger-Nuclei-full', 'gene_ids-Sanger-Cells-full', 'feature_types-Sanger-Cells-full', 'gene_ids-Sanger-CD45-full', 'feature_types-Sanger-CD45-full', 'n_cells-myeloid', 'n_counts-myeloid'"
      ]
     },
     "execution_count": 6,
     "metadata": {},
     "output_type": "execute_result"
    }
   ],
   "source": [
    "reference = sc.read_h5ad('../data/hca_heart_global_ctl230918_states_formatted.h5ad')\n",
    "reference"
   ]
  },
  {
   "cell_type": "code",
   "execution_count": 7,
   "metadata": {},
   "outputs": [
    {
     "data": {
      "text/plain": [
       "cell_type\n",
       "Ventricular_Cardiomyocyte    125289\n",
       "Endothelial                  100579\n",
       "Pericytes                     77856\n",
       "Fibroblast                    58429\n",
       "nan                           23837\n",
       "Atrial_Cardiomyocyte          23483\n",
       "Lymphoid                      16770\n",
       "Smooth_muscle_cells           16242\n",
       "Neuronal                       3961\n",
       "Adipocytes                     3799\n",
       "Myeloid                        1543\n",
       "Mesothelial                     718\n",
       "Name: count, dtype: int64"
      ]
     },
     "execution_count": 7,
     "metadata": {},
     "output_type": "execute_result"
    }
   ],
   "source": [
    "reference.obs['cell_type'].value_counts()"
   ]
  },
  {
   "attachments": {},
   "cell_type": "markdown",
   "metadata": {},
   "source": [
    "- Remove annotations with less than 10 cells"
   ]
  },
  {
   "cell_type": "code",
   "execution_count": 8,
   "metadata": {},
   "outputs": [
    {
     "data": {
      "text/plain": [
       "seed_labels\n",
       "Ventricular_Cardiomyocyte    125289\n",
       "Endothelial                  100579\n",
       "Pericytes                     77856\n",
       "Fibroblast                    58429\n",
       "nan                           23837\n",
       "Atrial_Cardiomyocyte          23483\n",
       "Lymphoid                      16770\n",
       "Smooth_muscle_cells           16242\n",
       "Neuronal                       3961\n",
       "Adipocytes                     3799\n",
       "Myeloid                        1543\n",
       "Mesothelial                     718\n",
       "Name: count, dtype: int64"
      ]
     },
     "execution_count": 8,
     "metadata": {},
     "output_type": "execute_result"
    }
   ],
   "source": [
    "reference.obs['seed_labels'] = reference.obs['cell_type'].copy()\n",
    "reference.obs['seed_labels'].value_counts()"
   ]
  },
  {
   "cell_type": "code",
   "execution_count": 9,
   "metadata": {},
   "outputs": [
    {
     "data": {
      "text/plain": [
       "Index(['Adipocytes', 'Atrial_Cardiomyocyte', 'Endothelial', 'Fibroblast',\n",
       "       'Lymphoid', 'Mesothelial', 'Myeloid', 'Neuronal', 'Pericytes',\n",
       "       'Smooth_muscle_cells', 'Ventricular_Cardiomyocyte', 'nan'],\n",
       "      dtype='object')"
      ]
     },
     "execution_count": 9,
     "metadata": {},
     "output_type": "execute_result"
    }
   ],
   "source": [
    "reference.obs['seed_labels'].cat.categories"
   ]
  },
  {
   "cell_type": "markdown",
   "metadata": {},
   "source": [
    "### Subset populations of interest"
   ]
  },
  {
   "cell_type": "code",
   "execution_count": 10,
   "metadata": {},
   "outputs": [
    {
     "data": {
      "text/plain": [
       "seed_labels\n",
       "Ventricular_Cardiomyocyte    125289\n",
       "Endothelial                  100579\n",
       "Pericytes                     77856\n",
       "Fibroblast                    58429\n",
       "Atrial_Cardiomyocyte          23483\n",
       "Lymphoid                      16770\n",
       "Smooth_muscle_cells           16242\n",
       "Neuronal                       3961\n",
       "Adipocytes                     3799\n",
       "Myeloid                        1543\n",
       "Mesothelial                     718\n",
       "Name: count, dtype: int64"
      ]
     },
     "execution_count": 10,
     "metadata": {},
     "output_type": "execute_result"
    }
   ],
   "source": [
    "reference = reference[~reference.obs['seed_labels'].isin(['nan'])]\n",
    "reference.obs['seed_labels'].value_counts()"
   ]
  },
  {
   "cell_type": "code",
   "execution_count": 11,
   "metadata": {},
   "outputs": [],
   "source": [
    "sc.pp.filter_cells(reference, min_genes = 200)\n",
    "sc.pp.filter_cells(reference, min_counts = 100)"
   ]
  },
  {
   "cell_type": "code",
   "execution_count": 12,
   "metadata": {},
   "outputs": [
    {
     "data": {
      "text/plain": [
       "cell_source\n",
       "Harvard-Nuclei    159157\n",
       "Sanger-Nuclei     158453\n",
       "Sanger-CD45        66925\n",
       "Sanger-Cells       44134\n",
       "Name: count, dtype: int64"
      ]
     },
     "execution_count": 12,
     "metadata": {},
     "output_type": "execute_result"
    }
   ],
   "source": [
    "reference.obs['cell_source'].value_counts()"
   ]
  },
  {
   "attachments": {},
   "cell_type": "markdown",
   "metadata": {},
   "source": [
    "### Read in other query"
   ]
  },
  {
   "cell_type": "code",
   "execution_count": 13,
   "metadata": {},
   "outputs": [
    {
     "data": {
      "text/plain": [
       "AnnData object with n_obs × n_vars = 143257 × 32285\n",
       "    obs: 'sample', 'genotype', 'batch', 'n_genes', 'doublet_scores', 'n_genes_by_counts', 'total_counts', 'total_counts_mt', 'pct_counts_mt', 'total_counts_ribo', 'pct_counts_ribo', 'percent_mt2', 'n_counts', 'percent_chrY', 'XIST-counts', 'S_score', 'G2M_score', 'cell_source', 'seed_labels', 'donor'\n",
       "    var: 'gene_ids', 'feature_types', 'genome', 'mt', 'ribo', 'n_cells_by_counts', 'mean_counts', 'pct_dropout_by_counts', 'total_counts'\n",
       "    uns: 'sample_colors'\n",
       "    layers: 'counts', 'sqrt_norm'"
      ]
     },
     "execution_count": 13,
     "metadata": {},
     "output_type": "execute_result"
    }
   ],
   "source": [
    "query = sc.read_h5ad('../data/heart_mm_nuclei-23-0092_CB_QCed_ctl231123.raw.h5ad')\n",
    "query.obs['cell_source'] = 'HIRI-Nuclei'\n",
    "query.obs['seed_labels'] = 'Unknown'\n",
    "query.obs['donor'] = query.obs['sample'].copy()\n",
    "query"
   ]
  },
  {
   "cell_type": "code",
   "execution_count": 14,
   "metadata": {},
   "outputs": [],
   "source": [
    "sc.pp.filter_cells(query, min_genes = 200)\n",
    "sc.pp.filter_cells(query, min_counts = 100)"
   ]
  },
  {
   "cell_type": "markdown",
   "metadata": {},
   "source": [
    "### Change gene symbols for label transfer"
   ]
  },
  {
   "cell_type": "code",
   "execution_count": 15,
   "metadata": {},
   "outputs": [
    {
     "data": {
      "text/plain": [
       "Index(['XKR4', 'GM1992', 'GM19938', 'GM37381', 'RP1', 'SOX17', 'GM37587',\n",
       "       'GM37323', 'MRPL15', 'LYPLA1',\n",
       "       ...\n",
       "       'GM16367', 'AC163611.1', 'AC163611.2', 'AC140365.1', 'AC124606.2',\n",
       "       'AC124606.1', 'AC133095.2', 'AC133095.1', 'AC234645.1', 'AC149090.1'],\n",
       "      dtype='object', length=32285)"
      ]
     },
     "execution_count": 15,
     "metadata": {},
     "output_type": "execute_result"
    }
   ],
   "source": [
    "query.var_names = [gene_name.upper() for gene_name in query.var_names]\n",
    "query.var_names"
   ]
  },
  {
   "cell_type": "code",
   "execution_count": 16,
   "metadata": {},
   "outputs": [
    {
     "data": {
      "text/plain": [
       "AnnData object with n_obs × n_vars = 571926 × 14249\n",
       "    obs: 'cell_source', 'cell_type', 'donor', 'n_counts', 'n_genes', 'percent_mito', 'percent_ribo', 'region', 'sample', 'scrublet_score', 'cell_states', 'seed_labels', 'genotype', 'batch', 'doublet_scores', 'n_genes_by_counts', 'total_counts', 'total_counts_mt', 'pct_counts_mt', 'total_counts_ribo', 'pct_counts_ribo', 'percent_mt2', 'percent_chrY', 'XIST-counts', 'S_score', 'G2M_score'\n",
       "    var: 'gene_ids-query', 'feature_types-query', 'genome-query', 'mt-query', 'ribo-query', 'n_cells_by_counts-query', 'mean_counts-query', 'pct_dropout_by_counts-query', 'total_counts-query', 'gene_ids-Harvard-Nuclei-full-reference', 'feature_types-Harvard-Nuclei-full-reference', 'gene_ids-Sanger-Nuclei-full-reference', 'feature_types-Sanger-Nuclei-full-reference', 'gene_ids-Sanger-Cells-full-reference', 'feature_types-Sanger-Cells-full-reference', 'gene_ids-Sanger-CD45-full-reference', 'feature_types-Sanger-CD45-full-reference', 'n_cells-myeloid-reference', 'n_counts-myeloid-reference'"
      ]
     },
     "execution_count": 16,
     "metadata": {},
     "output_type": "execute_result"
    }
   ],
   "source": [
    "adata = reference.concatenate(query, batch_key = 'batch', batch_categories = ['reference', 'query'], join = 'inner')\n",
    "adata"
   ]
  },
  {
   "cell_type": "code",
   "execution_count": 17,
   "metadata": {},
   "outputs": [
    {
     "data": {
      "text/plain": [
       "seed_labels\n",
       "Unknown                      143257\n",
       "Ventricular_Cardiomyocyte    125289\n",
       "Endothelial                  100579\n",
       "Pericytes                     77856\n",
       "Fibroblast                    58429\n",
       "Atrial_Cardiomyocyte          23483\n",
       "Lymphoid                      16770\n",
       "Smooth_muscle_cells           16242\n",
       "Neuronal                       3961\n",
       "Adipocytes                     3799\n",
       "Myeloid                        1543\n",
       "Mesothelial                     718\n",
       "Name: count, dtype: int64"
      ]
     },
     "execution_count": 17,
     "metadata": {},
     "output_type": "execute_result"
    }
   ],
   "source": [
    "adata.obs['seed_labels'] = adata.obs['seed_labels'].astype('category')\n",
    "adata.obs['seed_labels'].value_counts()"
   ]
  },
  {
   "cell_type": "code",
   "execution_count": 18,
   "metadata": {},
   "outputs": [
    {
     "data": {
      "text/plain": [
       "batch\n",
       "reference    428669\n",
       "query        143257\n",
       "Name: count, dtype: int64"
      ]
     },
     "execution_count": 18,
     "metadata": {},
     "output_type": "execute_result"
    }
   ],
   "source": [
    "adata.obs['batch'].value_counts()"
   ]
  },
  {
   "attachments": {},
   "cell_type": "markdown",
   "metadata": {},
   "source": [
    "### Select HVGs"
   ]
  },
  {
   "cell_type": "code",
   "execution_count": 19,
   "metadata": {},
   "outputs": [
    {
     "name": "stdout",
     "output_type": "stream",
     "text": [
      "If you pass `n_top_genes`, all cutoffs are ignored.\n",
      "extracting highly variable genes\n",
      "--> added\n",
      "    'highly_variable', boolean vector (adata.var)\n",
      "    'highly_variable_rank', float vector (adata.var)\n",
      "    'means', float vector (adata.var)\n",
      "    'variances', float vector (adata.var)\n",
      "    'variances_norm', float vector (adata.var)\n"
     ]
    },
    {
     "data": {
      "text/plain": [
       "AnnData object with n_obs × n_vars = 571926 × 7000\n",
       "    obs: 'cell_source', 'cell_type', 'donor', 'n_counts', 'n_genes', 'percent_mito', 'percent_ribo', 'region', 'sample', 'scrublet_score', 'cell_states', 'seed_labels', 'genotype', 'batch', 'doublet_scores', 'n_genes_by_counts', 'total_counts', 'total_counts_mt', 'pct_counts_mt', 'total_counts_ribo', 'pct_counts_ribo', 'percent_mt2', 'percent_chrY', 'XIST-counts', 'S_score', 'G2M_score'\n",
       "    var: 'gene_ids-query', 'feature_types-query', 'genome-query', 'mt-query', 'ribo-query', 'n_cells_by_counts-query', 'mean_counts-query', 'pct_dropout_by_counts-query', 'total_counts-query', 'gene_ids-Harvard-Nuclei-full-reference', 'feature_types-Harvard-Nuclei-full-reference', 'gene_ids-Sanger-Nuclei-full-reference', 'feature_types-Sanger-Nuclei-full-reference', 'gene_ids-Sanger-Cells-full-reference', 'feature_types-Sanger-Cells-full-reference', 'gene_ids-Sanger-CD45-full-reference', 'feature_types-Sanger-CD45-full-reference', 'n_cells-myeloid-reference', 'n_counts-myeloid-reference', 'highly_variable', 'highly_variable_rank', 'means', 'variances', 'variances_norm', 'highly_variable_nbatches'\n",
       "    uns: 'hvg'\n",
       "    layers: 'counts'"
      ]
     },
     "execution_count": 19,
     "metadata": {},
     "output_type": "execute_result"
    }
   ],
   "source": [
    "adata_raw = adata.copy()\n",
    "adata.layers['counts'] = adata.X.copy()\n",
    "\n",
    "sc.pp.highly_variable_genes(\n",
    "    adata,\n",
    "    flavor = \"seurat_v3\",\n",
    "    n_top_genes = 7000,\n",
    "    layer = \"counts\",\n",
    "    batch_key = \"donor\",\n",
    "    subset = True\n",
    "    )\n",
    "\n",
    "adata"
   ]
  },
  {
   "attachments": {},
   "cell_type": "markdown",
   "metadata": {},
   "source": [
    "### Transfer of annotation with scANVI"
   ]
  },
  {
   "cell_type": "code",
   "execution_count": 20,
   "metadata": {},
   "outputs": [],
   "source": [
    "scvi.model.SCVI.setup_anndata(adata, \n",
    "                              batch_key = 'donor', \n",
    "                              labels_key = 'seed_labels',\n",
    "                              layer = 'counts',\n",
    "                              categorical_covariate_keys = ['donor', 'cell_source'])"
   ]
  },
  {
   "cell_type": "code",
   "execution_count": 21,
   "metadata": {},
   "outputs": [],
   "source": [
    "scvi_model = scvi.model.SCVI(adata, \n",
    "                             n_latent = 50, \n",
    "                             n_layers = 3, \n",
    "                             dispersion = 'gene-batch', \n",
    "                             gene_likelihood = 'nb')"
   ]
  },
  {
   "cell_type": "code",
   "execution_count": 22,
   "metadata": {},
   "outputs": [
    {
     "name": "stderr",
     "output_type": "stream",
     "text": [
      "GPU available: True (cuda), used: True\n",
      "TPU available: False, using: 0 TPU cores\n",
      "IPU available: False, using: 0 IPUs\n",
      "HPU available: False, using: 0 HPUs\n",
      "LOCAL_RANK: 0 - CUDA_VISIBLE_DEVICES: [0,1]\n"
     ]
    },
    {
     "name": "stdout",
     "output_type": "stream",
     "text": [
      "Epoch 75/75: 100%|██████████| 75/75 [31:52<00:00, 24.91s/it, v_num=1, train_loss_step=1.91e+3, train_loss_epoch=1.96e+3]"
     ]
    },
    {
     "name": "stderr",
     "output_type": "stream",
     "text": [
      "`Trainer.fit` stopped: `max_epochs=75` reached.\n"
     ]
    },
    {
     "name": "stdout",
     "output_type": "stream",
     "text": [
      "Epoch 75/75: 100%|██████████| 75/75 [31:52<00:00, 25.50s/it, v_num=1, train_loss_step=1.91e+3, train_loss_epoch=1.96e+3]\n"
     ]
    }
   ],
   "source": [
    "scvi_model.train(75, \n",
    "                 check_val_every_n_epoch = 1, \n",
    "                 enable_progress_bar = True, \n",
    "                 use_gpu = 1)"
   ]
  },
  {
   "cell_type": "markdown",
   "metadata": {},
   "source": [
    "### Evaluate model performance a la _Sevensson_"
   ]
  },
  {
   "cell_type": "code",
   "execution_count": 23,
   "metadata": {},
   "outputs": [
    {
     "data": {
      "image/png": "[encoded data removed]",
      "text/plain": [
       "<Figure size 1200x600 with 1 Axes>"
      ]
     },
     "metadata": {
      "image/png": {
       "height": 560,
       "width": 1196
      },
      "needs_background": "light"
     },
     "output_type": "display_data"
    },
    {
     "name": "stdout",
     "output_type": "stream",
     "text": [
      "\n"
     ]
    }
   ],
   "source": [
    "history_df = (\n",
    "    scvi_model.history['elbo_train'].astype(float)\n",
    "    .join(scvi_model.history['elbo_validation'].astype(float))\n",
    "    .reset_index()\n",
    "    .melt(id_vars = ['epoch'])\n",
    ")\n",
    "\n",
    "p.options.figure_size = 12, 6\n",
    "\n",
    "p_ = (\n",
    "    p.ggplot(p.aes(x = 'epoch', y = 'value', color = 'variable'), history_df.query('epoch > 0'))\n",
    "    + p.geom_line()\n",
    "    + p.geom_point()\n",
    "    + p.scale_color_manual({'elbo_train': 'black', 'elbo_validation': 'red'})\n",
    "    + p.theme_minimal()\n",
    ")\n",
    "\n",
    "p_.save('fig1.png', dpi = 300)\n",
    "\n",
    "print(p_)"
   ]
  },
  {
   "attachments": {},
   "cell_type": "markdown",
   "metadata": {},
   "source": [
    "### Label transfer with `scANVI` "
   ]
  },
  {
   "cell_type": "code",
   "execution_count": 24,
   "metadata": {},
   "outputs": [],
   "source": [
    "scanvi_model = scvi.model.SCANVI.from_scvi_model(scvi_model, 'Unknown')"
   ]
  },
  {
   "cell_type": "code",
   "execution_count": 25,
   "metadata": {},
   "outputs": [
    {
     "name": "stdout",
     "output_type": "stream",
     "text": [
      "\u001b[34mINFO    \u001b[0m Training for \u001b[1;36m80\u001b[0m epochs.                                                                                   \n"
     ]
    },
    {
     "name": "stderr",
     "output_type": "stream",
     "text": [
      "GPU available: True (cuda), used: True\n",
      "TPU available: False, using: 0 TPU cores\n",
      "IPU available: False, using: 0 IPUs\n",
      "HPU available: False, using: 0 HPUs\n",
      "LOCAL_RANK: 0 - CUDA_VISIBLE_DEVICES: [0,1]\n"
     ]
    },
    {
     "name": "stdout",
     "output_type": "stream",
     "text": [
      "Epoch 76/80:  94%|█████████▍| 75/80 [1:25:53<05:36, 67.39s/it, v_num=1, train_loss_step=1.97e+3, train_loss_epoch=2.03e+3]"
     ]
    }
   ],
   "source": [
    "scanvi_model.train(80, \n",
    "                   check_val_every_n_epoch = 1, \n",
    "                   enable_progress_bar = True, \n",
    "                   use_gpu = 1)"
   ]
  },
  {
   "cell_type": "markdown",
   "metadata": {},
   "source": [
    "### Evaluate model performance a la Svensson"
   ]
  },
  {
   "cell_type": "code",
   "execution_count": null,
   "metadata": {},
   "outputs": [],
   "source": [
    "history_df = (\n",
    "    scanvi_model.history['elbo_train'].astype(float)\n",
    "    .join(scanvi_model.history['elbo_validation'].astype(float))\n",
    "    .reset_index()\n",
    "    .melt(id_vars = ['epoch'])\n",
    ")\n",
    "\n",
    "p.options.figure_size = 12, 6\n",
    "\n",
    "p_ = (\n",
    "    p.ggplot(p.aes(x = 'epoch', y = 'value', color = 'variable'), history_df.query('epoch > 0'))\n",
    "    + p.geom_line()\n",
    "    + p.geom_point()\n",
    "    + p.scale_color_manual({'elbo_train': 'black', 'elbo_validation': 'red'})\n",
    "    + p.theme_minimal()\n",
    ")\n",
    "\n",
    "p_.save('fig1.png', dpi = 300)\n",
    "\n",
    "print(p_)"
   ]
  },
  {
   "cell_type": "code",
   "execution_count": null,
   "metadata": {},
   "outputs": [],
   "source": [
    "adata.obs[\"C_scANVI\"] = scanvi_model.predict(adata)"
   ]
  },
  {
   "attachments": {},
   "cell_type": "markdown",
   "metadata": {},
   "source": [
    "- Extract latent representation"
   ]
  },
  {
   "cell_type": "code",
   "execution_count": null,
   "metadata": {},
   "outputs": [],
   "source": [
    "adata.obsm[\"X_scANVI\"] = scanvi_model.get_latent_representation(adata)"
   ]
  },
  {
   "attachments": {},
   "cell_type": "markdown",
   "metadata": {},
   "source": [
    "- Visualise corrected dataset"
   ]
  },
  {
   "cell_type": "code",
   "execution_count": null,
   "metadata": {},
   "outputs": [],
   "source": [
    "sc.pp.neighbors(adata, use_rep = \"X_scANVI\", n_neighbors = 50, metric = 'minkowski')\n",
    "sc.tl.umap(adata, min_dist = 0.3, spread = 4, random_state = 1712)\n",
    "sc.pl.umap(adata, frameon = False, color = ['C_scANVI', 'seed_labels', 'sample', 'batch'], size = 1, legend_fontsize = 5, ncols = 3)"
   ]
  },
  {
   "attachments": {},
   "cell_type": "markdown",
   "metadata": {},
   "source": [
    "### Export annotated object"
   ]
  },
  {
   "cell_type": "code",
   "execution_count": null,
   "metadata": {},
   "outputs": [],
   "source": [
    "adata_export_merged = anndata.AnnData(X = adata_raw.X, var = adata_raw.var, obs = adata.obs)\n",
    "adata_export_merged"
   ]
  },
  {
   "cell_type": "code",
   "execution_count": null,
   "metadata": {},
   "outputs": [],
   "source": [
    "adata_export = adata_export_merged[adata_export_merged.obs['batch'].isin(['query'])]\n",
    "adata_export"
   ]
  },
  {
   "cell_type": "markdown",
   "metadata": {},
   "source": [
    "### Add new gene symbols"
   ]
  },
  {
   "cell_type": "code",
   "execution_count": null,
   "metadata": {},
   "outputs": [],
   "source": [
    "query_export = anndata.AnnData(X = query.X, var = query.var, obs = adata_export.obs)\n",
    "query_export"
   ]
  },
  {
   "cell_type": "markdown",
   "metadata": {},
   "source": [
    "### Revert gene symbols"
   ]
  },
  {
   "cell_type": "code",
   "execution_count": null,
   "metadata": {},
   "outputs": [],
   "source": [
    "query_export.var_names = [gene_name.capitalize() for gene_name in query_export.var_names]\n",
    "query_export.var_names"
   ]
  },
  {
   "cell_type": "code",
   "execution_count": null,
   "metadata": {},
   "outputs": [],
   "source": [
    "query_export.obs['C_scANVI'].value_counts()"
   ]
  },
  {
   "cell_type": "code",
   "execution_count": null,
   "metadata": {},
   "outputs": [],
   "source": [
    "query_export"
   ]
  },
  {
   "cell_type": "raw",
   "metadata": {},
   "source": [
    "query_export.write('../data/heart_mm_nuclei-23-0092_scANVI-CellStates_ctl231123.raw.h5ad')"
   ]
  },
  {
   "cell_type": "code",
   "execution_count": null,
   "metadata": {},
   "outputs": [],
   "source": []
  }
 ],
 "metadata": {
  "kernelspec": {
   "display_name": "Python 3.8.14 ('scvi-tools')",
   "language": "python",
   "name": "python3"
  },
  "language_info": {
   "codemirror_mode": {
    "name": "ipython",
    "version": 3
   },
   "file_extension": ".py",
   "mimetype": "text/x-python",
   "name": "python",
   "nbconvert_exporter": "python",
   "pygments_lexer": "ipython3",
   "version": "3.9.17"
  },
  "orig_nbformat": 4,
  "vscode": {
   "interpreter": {
    "hash": "be6e4b2475555bb52a1f9704f3384c4fd38c8454adf16dc700aeb2c29c9568d8"
   }
  }
 },
 "nbformat": 4,
 "nbformat_minor": 2
}
