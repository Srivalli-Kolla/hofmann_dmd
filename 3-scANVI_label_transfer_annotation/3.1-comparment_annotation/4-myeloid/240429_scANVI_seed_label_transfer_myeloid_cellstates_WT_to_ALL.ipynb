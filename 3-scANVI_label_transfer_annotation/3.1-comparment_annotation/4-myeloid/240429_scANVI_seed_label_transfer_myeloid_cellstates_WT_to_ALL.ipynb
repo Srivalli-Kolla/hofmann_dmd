{
 "cells": [
  {
   "attachments": {},
   "cell_type": "markdown",
   "metadata": {},
   "source": [
    "### Notebook for the integration and label transfer of myeloid immune cells with `scANVI`\n",
    "\n",
    "- **Developed by:** Carlos Talavera-López Ph.D\n",
    "- **Würzburg Institute for Systems Immunology - Faculty of Medicine - Julius-Maximilian-Universität Würzburg**\n",
    "- **Created on**: 240329\n",
    "- **Last modified**: 240402"
   ]
  },
  {
   "attachments": {},
   "cell_type": "markdown",
   "metadata": {},
   "source": [
    "### Import required modules"
   ]
  },
  {
   "cell_type": "code",
   "execution_count": 1,
   "metadata": {},
   "outputs": [],
   "source": [
    "import scvi\n",
    "import torch\n",
    "import anndata\n",
    "import warnings\n",
    "import numpy as np\n",
    "import scanpy as sc\n",
    "import pandas as pd\n",
    "import plotnine as p\n",
    "from pywaffle import Waffle\n",
    "import matplotlib.pyplot as plt\n",
    "from scib_metrics.benchmark import Benchmarker"
   ]
  },
  {
   "attachments": {},
   "cell_type": "markdown",
   "metadata": {},
   "source": [
    "### Set up working environment"
   ]
  },
  {
   "cell_type": "code",
   "execution_count": 2,
   "metadata": {},
   "outputs": [
    {
     "name": "stdout",
     "output_type": "stream",
     "text": [
      "-----\n",
      "anndata     0.10.5.post1\n",
      "scanpy      1.9.8\n",
      "-----\n",
      "PIL                 10.2.0\n",
      "absl                NA\n",
      "asttokens           NA\n",
      "attr                23.2.0\n",
      "chex                0.1.85\n",
      "comm                0.2.1\n",
      "contextlib2         NA\n",
      "cycler              0.12.1\n",
      "cython_runtime      NA\n",
      "dateutil            2.8.2\n",
      "debugpy             1.8.1\n",
      "decorator           5.1.1\n",
      "docrep              0.3.2\n",
      "etils               1.7.0\n",
      "executing           2.0.1\n",
      "flax                0.8.1\n",
      "fsspec              2024.2.0\n",
      "h5py                3.10.0\n",
      "igraph              0.11.4\n",
      "importlib_resources NA\n",
      "ipykernel           6.29.2\n",
      "ipywidgets          8.1.2\n",
      "jax                 0.4.19\n",
      "jaxlib              0.4.19\n",
      "jedi                0.19.1\n",
      "joblib              1.3.2\n",
      "kiwisolver          1.4.5\n",
      "lightning           2.1.4\n",
      "lightning_utilities 0.10.1\n",
      "llvmlite            0.42.0\n",
      "matplotlib          3.8.3\n",
      "mizani              0.11.0\n",
      "ml_collections      NA\n",
      "ml_dtypes           0.3.2\n",
      "mpl_toolkits        NA\n",
      "msgpack             1.0.7\n",
      "mudata              0.2.3\n",
      "multipledispatch    0.6.0\n",
      "natsort             8.4.0\n",
      "numba               0.59.0\n",
      "numpy               1.26.4\n",
      "numpyro             0.13.2\n",
      "opt_einsum          v3.3.0\n",
      "optax               0.1.9\n",
      "packaging           23.2\n",
      "pandas              2.2.0\n",
      "parso               0.8.3\n",
      "pkg_resources       NA\n",
      "platformdirs        4.2.0\n",
      "plotnine            0.13.0\n",
      "plottable           0.1.5\n",
      "prompt_toolkit      3.0.43\n",
      "psutil              5.9.8\n",
      "pure_eval           0.2.2\n",
      "pydev_ipython       NA\n",
      "pydevconsole        NA\n",
      "pydevd              2.9.5\n",
      "pydevd_file_utils   NA\n",
      "pydevd_plugins      NA\n",
      "pydevd_tracing      NA\n",
      "pygments            2.17.2\n",
      "pynndescent         0.5.11\n",
      "pyparsing           3.1.1\n",
      "pyro                1.9.0\n",
      "pytz                2024.1\n",
      "pywaffle            NA\n",
      "rich                NA\n",
      "scib_metrics        0.5.0\n",
      "scipy               1.12.0\n",
      "scvi                1.1.2\n",
      "session_info        1.0.0\n",
      "six                 1.16.0\n",
      "sklearn             1.4.1.post1\n",
      "stack_data          0.6.3\n",
      "texttable           1.7.0\n",
      "threadpoolctl       3.3.0\n",
      "toolz               0.12.1\n",
      "torch               2.2.0+cu121\n",
      "torchgen            NA\n",
      "torchmetrics        1.3.1\n",
      "tornado             6.4\n",
      "tqdm                4.66.2\n",
      "traitlets           5.14.1\n",
      "typing_extensions   NA\n",
      "umap                0.5.5\n",
      "vscode              NA\n",
      "wcwidth             0.2.13\n",
      "yaml                6.0.1\n",
      "zmq                 25.1.2\n",
      "-----\n",
      "IPython             8.21.0\n",
      "jupyter_client      8.6.0\n",
      "jupyter_core        5.7.1\n",
      "-----\n",
      "Python 3.11.8 | packaged by conda-forge | (main, Feb 16 2024, 20:53:32) [GCC 12.3.0]\n",
      "Linux-6.8.4-200.fc39.x86_64-x86_64-with-glibc2.38\n",
      "-----\n",
      "Session information updated at 2024-04-30 12:14\n"
     ]
    }
   ],
   "source": [
    "sc.settings.verbosity = 3\n",
    "sc.logging.print_versions()\n",
    "sc.settings.set_figure_params(dpi = 180, color_map = 'magma_r', dpi_save = 300, vector_friendly = True, format = 'svg')"
   ]
  },
  {
   "cell_type": "code",
   "execution_count": 3,
   "metadata": {},
   "outputs": [
    {
     "name": "stderr",
     "output_type": "stream",
     "text": [
      "Seed set to 1712\n"
     ]
    }
   ],
   "source": [
    "warnings.simplefilter(action = 'ignore')\n",
    "scvi.settings.seed = 1712\n",
    "%config InlineBackend.print_figure_kwargs = {'facecolor' : \"w\"}\n",
    "%config InlineBackend.figure_format = 'retina'\n",
    "torch.set_float32_matmul_precision('medium')"
   ]
  },
  {
   "cell_type": "code",
   "execution_count": 4,
   "metadata": {},
   "outputs": [],
   "source": [
    "arches_params = dict(\n",
    "    use_layer_norm = \"both\",\n",
    "    use_batch_norm = \"none\",\n",
    "    encode_covariates = True,\n",
    "    dropout_rate = 0.2,\n",
    "    n_layers = 3,\n",
    ")"
   ]
  },
  {
   "attachments": {},
   "cell_type": "markdown",
   "metadata": {},
   "source": [
    "### Read in pre-annotated dataset"
   ]
  },
  {
   "cell_type": "code",
   "execution_count": 5,
   "metadata": {},
   "outputs": [
    {
     "data": {
      "text/plain": [
       "AnnData object with n_obs × n_vars = 41716 × 16060\n",
       "    obs: 'orig.ident', 'Age_group', 'BMI', 'COVID_severity', 'COVID_status', 'Ethnicity', 'Group', 'Sex', 'annotation_broad', 'annotation_detailed', 'sample_id', 'seed_labels', 'donor', 'cell_states', 'sample', 'cell_source', 'genotype', 'nCount_HTO', 'nFeature_HTO', 'HTO_classification', 'Library', 'CD45_Annotation', 'cell_type', 'n_counts', 'n_genes', 'percent_mito', 'percent_ribo', 'region', 'scrublet_score', 'batch', 'doublet_scores', 'n_genes_by_counts', 'total_counts', 'total_counts_mt', 'pct_counts_mt', 'total_counts_ribo', 'pct_counts_ribo', 'percent_mt2', 'percent_chrY', 'XIST-counts', 'S_score', 'G2M_score', '_scvi_batch', '_scvi_labels', 'MPC_Annotation', 'compartment'\n",
       "    var: 'gene_ids-DMD_immune-DMD', 'feature_types-DMD_immune-DMD', 'genome-DMD_immune-DMD', 'mt-DMD_immune-DMD', 'ribo-DMD_immune-DMD', 'n_cells_by_counts-DMD_immune-DMD', 'mean_counts-DMD_immune-DMD', 'pct_dropout_by_counts-DMD_immune-DMD', 'total_counts-DMD_immune-DMD', 'vst.mean-MDX_MPC-DMD', 'vst.variance-MDX_MPC-DMD', 'vst.variance.expected-MDX_MPC-DMD', 'vst.variance.standardized-MDX_MPC-DMD', 'vst.variable-MDX_MPC-DMD', 'vst.mean-MDX_POOL_NEW-DMD', 'vst.variance-MDX_POOL_NEW-DMD', 'vst.variance.expected-MDX_POOL_NEW-DMD', 'vst.variance.standardized-MDX_POOL_NEW-DMD', 'vst.variable-MDX_POOL_NEW-DMD', 'vst.mean-MDX_MPC', 'vst.variance-MDX_MPC', 'vst.variance.expected-MDX_MPC', 'vst.variance.standardized-MDX_MPC', 'vst.variable-MDX_MPC', 'vst.mean-MDX_POOL_NEW', 'vst.variance-MDX_POOL_NEW', 'vst.variance.expected-MDX_POOL_NEW', 'vst.variance.standardized-MDX_POOL_NEW', 'vst.variable-MDX_POOL_NEW', 'name-pbmc_meyer'\n",
       "    uns: 'genotype_colors'\n",
       "    layers: 'counts'"
      ]
     },
     "execution_count": 5,
     "metadata": {},
     "output_type": "execute_result"
    }
   ],
   "source": [
    "DMD_myeloid = sc.read_h5ad('../../../data/heart_mm_nuclei-23-0092_scANVI-Myeloid_ctl240402.raw.h5ad')\n",
    "DMD_myeloid"
   ]
  },
  {
   "cell_type": "code",
   "execution_count": null,
   "metadata": {},
   "outputs": [],
   "source": [
    "MDX_MPC.obs['sample'].value_counts()"
   ]
  },
  {
   "cell_type": "code",
   "execution_count": null,
   "metadata": {},
   "outputs": [],
   "source": [
    "MDX_MPC = MDX_MPC[MDX_MPC.obs['nFeature_RNA'] > 200]\n",
    "MDX_MPC = MDX_MPC[MDX_MPC.obs['nFeature_RNA'] < 4000]\n",
    "\n",
    "MDX_MPC = MDX_MPC[MDX_MPC.obs['nCount_RNA'] < 15000]\n",
    "MDX_MPC = MDX_MPC[MDX_MPC.obs['nCount_RNA'] > 200]\n",
    "\n",
    "MDX_MPC = MDX_MPC[MDX_MPC.obs['percent.mt'] < 60]\n",
    "\n",
    "MDX_MPC"
   ]
  },
  {
   "cell_type": "code",
   "execution_count": null,
   "metadata": {},
   "outputs": [],
   "source": [
    "MDX_POOL_NEW = sc.read_h5ad('../../../data/MDX_POOL_NEW.h5ad')\n",
    "MDX_POOL_NEW.obs['genotype'] = MDX_POOL_NEW.obs['Condition'].copy()\n",
    "MDX_POOL_NEW.obs['sample'] = MDX_POOL_NEW.obs['hash.ID'].copy()\n",
    "MDX_POOL_NEW.obs['donor'] = MDX_POOL_NEW.obs['Sample'].copy()\n",
    "MDX_POOL_NEW.obs['seed_labels'] = MDX_POOL_NEW.obs['CD45_Annotation'].copy()\n",
    "MDX_POOL_NEW.obs['cell_source'] = 'HIRI-CD45+'\n",
    "MDX_POOL_NEW"
   ]
  },
  {
   "cell_type": "code",
   "execution_count": null,
   "metadata": {},
   "outputs": [],
   "source": [
    "MDX_POOL_NEW = MDX_POOL_NEW[MDX_POOL_NEW.obs['nFeature_RNA'] > 200]\n",
    "MDX_POOL_NEW = MDX_POOL_NEW[MDX_POOL_NEW.obs['nFeature_RNA'] < 4000]\n",
    "\n",
    "MDX_POOL_NEW = MDX_POOL_NEW[MDX_POOL_NEW.obs['nCount_RNA'] < 15000]\n",
    "MDX_POOL_NEW = MDX_POOL_NEW[MDX_POOL_NEW.obs['nCount_RNA'] > 200]\n",
    "\n",
    "MDX_POOL_NEW = MDX_POOL_NEW[MDX_POOL_NEW.obs['percent.mt'] < 60]\n",
    "\n",
    "MDX_POOL_NEW"
   ]
  },
  {
   "cell_type": "markdown",
   "metadata": {},
   "source": [
    "- Read in Meyer annotated PBMC cells"
   ]
  },
  {
   "cell_type": "code",
   "execution_count": null,
   "metadata": {},
   "outputs": [],
   "source": [
    "pbmc = sc.read_h5ad('../../../data/meyer_nikolic_healthy_pbmc_raw.h5ad') \n",
    "pbmc"
   ]
  },
  {
   "cell_type": "code",
   "execution_count": null,
   "metadata": {},
   "outputs": [],
   "source": [
    "pbmc_healthy = pbmc[pbmc.obs['COVID_status'].isin(['Healthy'])]\n",
    "pbmc_healthy.obs['sample'] = pbmc_healthy.obs['sample_id'].copy()\n",
    "pbmc_healthy.obs['seed_labels'] = pbmc_healthy.obs['annotation_detailed'].copy()\n",
    "pbmc_healthy.obs['cell_source'] = 'Sanger-Cells'\n",
    "pbmc_healthy.obs['genotype'] = 'human'\n",
    "pbmc_healthy"
   ]
  },
  {
   "cell_type": "code",
   "execution_count": null,
   "metadata": {},
   "outputs": [],
   "source": [
    "pbmc_healthy.var_names = [gene_name.capitalize() for gene_name in pbmc_healthy.var_names]\n",
    "pbmc_healthy.var_names"
   ]
  },
  {
   "cell_type": "markdown",
   "metadata": {},
   "source": [
    "### Read in DMD query cells"
   ]
  },
  {
   "cell_type": "code",
   "execution_count": null,
   "metadata": {},
   "outputs": [],
   "source": [
    "DMD_scANVI = sc.read_h5ad('../../../data/heart_mm_nuclei-23-0092_scANVI-Immune_ctl240329.raw.h5ad')\n",
    "DMD_scANVI"
   ]
  },
  {
   "cell_type": "code",
   "execution_count": null,
   "metadata": {},
   "outputs": [],
   "source": [
    "DMD_scANVI.obs['C_scANVI_new'].cat.categories"
   ]
  },
  {
   "cell_type": "code",
   "execution_count": null,
   "metadata": {},
   "outputs": [],
   "source": [
    "DMD_myeloid = DMD_scANVI[DMD_scANVI.obs['C_scANVI_new'].isin(['Baso/Eos', 'CD14+Mo', 'CD16+Mo', 'CD56+NK', 'Ccr2+MHCII+MØ', 'DC', 'ILC', 'Isg15+MØ', 'Ly6ChiMo', 'Ly6CloMo', 'MHCII+MØtr', 'Mast', 'MØinf', 'NK', 'NKT', 'Neutrophils', 'Platelets', 'TLF+MØ', 'gdT', 'pDC'])]\n",
    "DMD_myeloid.obs['seed_labels'] = 'Unknown'\n",
    "del(DMD_myeloid.obs['C_scANVI_new'])\n",
    "DMD_myeloid"
   ]
  },
  {
   "cell_type": "markdown",
   "metadata": {},
   "source": [
    "### Merge cell compartments and compare with full object"
   ]
  },
  {
   "cell_type": "code",
   "execution_count": null,
   "metadata": {},
   "outputs": [],
   "source": [
    "compartments = pbmc_healthy.concatenate(DMD_myeloid, MDX_POOL_NEW, MDX_MPC,  \n",
    "                                      batch_key = 'compartment', \n",
    "                                      batch_categories = ['pbmc_meyer', 'DMD', 'MDX_POOL_NEW', 'MDX_MPC'], \n",
    "                                      join = 'inner')\n",
    "compartments"
   ]
  },
  {
   "cell_type": "code",
   "execution_count": null,
   "metadata": {},
   "outputs": [],
   "source": [
    "compartments.obs_names"
   ]
  },
  {
   "cell_type": "code",
   "execution_count": null,
   "metadata": {},
   "outputs": [],
   "source": [
    "adata_export_raw = DMD_myeloid.concatenate(MDX_POOL_NEW, MDX_MPC,  \n",
    "                                      batch_key = 'data_sourcecompartment', \n",
    "                                      batch_categories = ['DMD', 'MDX_POOL_NEW', 'MDX_MPC'], \n",
    "                                      join = 'inner')\n",
    "adata_export_raw"
   ]
  },
  {
   "cell_type": "code",
   "execution_count": null,
   "metadata": {},
   "outputs": [],
   "source": [
    "adata_export_raw.obs_names"
   ]
  },
  {
   "cell_type": "markdown",
   "metadata": {},
   "source": [
    "### Group fine grained annotations into coarse groups"
   ]
  },
  {
   "cell_type": "code",
   "execution_count": null,
   "metadata": {},
   "outputs": [],
   "source": [
    "compartments.obs['seed_labels'] = compartments.obs['seed_labels'].astype('category')\n",
    "compartments.obs['seed_labels'].cat.categories"
   ]
  },
  {
   "cell_type": "markdown",
   "metadata": {},
   "source": [
    "### Remove low quality or irrelevant labels"
   ]
  },
  {
   "cell_type": "code",
   "execution_count": null,
   "metadata": {},
   "outputs": [],
   "source": [
    "compartments_clean = compartments[compartments.obs['seed_labels'].isin(['AS-DC', 'A_Res_Mac_MHCII', 'B_TLF_Mac', 'Baso/Eos', 'C_Ccr2+MHCII+_Mac',\n",
    "       'D_Inflammatory_Mac', 'E_Isg15+', 'F_Spp1+Gpnmb+', 'G_Ly6Chi_Mo', 'HPC', 'HPC IFN stim', 'H_Ly6Clow_Mo',\n",
    "       'I_cDC2', 'J_Mature_DC', 'K_nd1', 'L_nd2', 'Ly6Chi_Mono', 'Ly6Clo_Mono', 'Macrophages', 'Mast/Baso',\n",
    "       'Monocyte CD14', 'Monocyte CD14 IFN stim', 'Monocyte CD14 IL6', 'Monocyte CD16', 'Monocyte CD16 IFN stim', 'Monocyte CD16+C1',\n",
    "       'Neutrophils', 'Unknown', 'cDC1', 'cDC2'])]\n",
    "compartments_clean"
   ]
  },
  {
   "cell_type": "markdown",
   "metadata": {},
   "source": [
    "### Make uniform annotation for genotype labels"
   ]
  },
  {
   "cell_type": "code",
   "execution_count": null,
   "metadata": {},
   "outputs": [],
   "source": [
    "compartments_clean.obs['genotype'].value_counts()"
   ]
  },
  {
   "cell_type": "code",
   "execution_count": null,
   "metadata": {},
   "outputs": [],
   "source": [
    "trans_from=['MdxSCID', 'Mdx-SCID'],\n",
    "trans_to = ['MdxSCID']\n",
    "\n",
    "compartments_clean.obs['genotype'] = [str(i) for i in compartments_clean.obs['genotype']]\n",
    "for leiden,celltype in zip(trans_from, trans_to):\n",
    "    for leiden_from in leiden:\n",
    "        compartments_clean.obs['genotype'][compartments_clean.obs['genotype'] == leiden_from] = celltype"
   ]
  },
  {
   "cell_type": "code",
   "execution_count": null,
   "metadata": {},
   "outputs": [],
   "source": [
    "compartments_clean.obs['genotype'].value_counts()"
   ]
  },
  {
   "cell_type": "markdown",
   "metadata": {},
   "source": [
    "### Visualise cell type distribution per condition"
   ]
  },
  {
   "cell_type": "code",
   "execution_count": null,
   "metadata": {},
   "outputs": [],
   "source": [
    "compartments_clean.obs['seed_labels'].value_counts()"
   ]
  },
  {
   "cell_type": "markdown",
   "metadata": {},
   "source": [
    "### Hamonise cell type labels"
   ]
  },
  {
   "cell_type": "code",
   "execution_count": null,
   "metadata": {},
   "outputs": [],
   "source": [
    "compartments_clean.obs['seed_labels'].cat.categories"
   ]
  },
  {
   "cell_type": "code",
   "execution_count": null,
   "metadata": {},
   "outputs": [],
   "source": [
    "trans_from = [['pDC'],\n",
    "              ['AS-DC', 'J_Mature_DC'],\n",
    "              ['cDC1'],\n",
    "              ['cDC2', 'I_cDC2'],\n",
    "              ['Mast/Baso'],\n",
    "              ['Monocyte CD14', 'Monocyte CD14 IFN stim', 'Monocyte CD14 IL6'],\n",
    "              ['Monocyte CD16', 'Monocyte CD16 IFN stim', 'Monocyte CD16+C1'],\n",
    "              ['G_Ly6Chi_Mo', 'Ly6Chi_Mono'],\n",
    "              ['H_Ly6Clow_Mo', 'Ly6Clo_Mono'],\n",
    "              ['A_Res_Mac_MHCII'], \n",
    "              ['B_TLF_Mac'], \n",
    "              ['C_Ccr2+MHCII+_Mac'], \n",
    "              ['D_Inflammatory_Mac'], \n",
    "              ['E_Isg15+'], \n",
    "              ['F_Spp1+Gpnmb+'],\n",
    "              ['DOCK4+vMØ'],\n",
    "              ['HPC', 'HPC IFN stim'],\n",
    "              ['Neutrophils', 'nøMo'],\n",
    "              ['K_nd1', 'L_nd2', 'Unknown', 'Conventional_T', 'Macrophages', 'MAIT', 'Proliferating', 'gdT', 'T g/d', 'gd_T', 'Cycling', 'Platelets']]\n",
    "\n",
    "trans_to = ['pDC', 'DC', 'DC1', 'DC2', 'Mast', 'CD14+Mo', 'CD16+Mo', 'Ly6ChiMo', 'Ly6CloMo',  'MHCII+MØtr', 'TLF+MØ', 'Ccr2+MHCII+MØ', 'MØinf', 'Isg15+MØ', 'Spp1+Gpnmb+MØ','DOCK4+MØ', 'HPC', 'NØ', 'Unknown']\n",
    "\n",
    "compartments_clean.obs['seed_labels'] = [str(i) for i in compartments_clean.obs['seed_labels']]\n",
    "for leiden,celltype in zip(trans_from, trans_to):\n",
    "    for leiden_from in leiden:\n",
    "        compartments_clean.obs['seed_labels'][compartments_clean.obs['seed_labels'] == leiden_from] = celltype"
   ]
  },
  {
   "cell_type": "markdown",
   "metadata": {},
   "source": [
    "- The label 'Macrophages' is very unspecific and takes a lot of cells. To allow for other detailed annotations to be mapped, I will label them as 'Unknown'"
   ]
  },
  {
   "cell_type": "code",
   "execution_count": null,
   "metadata": {},
   "outputs": [],
   "source": [
    "compartments_clean.obs['seed_labels'] = compartments_clean.obs['seed_labels'].astype('category')\n",
    "compartments_clean.obs['seed_labels'].cat.categories"
   ]
  },
  {
   "cell_type": "code",
   "execution_count": null,
   "metadata": {},
   "outputs": [],
   "source": [
    "pd.crosstab(compartments_clean.obs['sample'], compartments_clean.obs['genotype'])"
   ]
  },
  {
   "attachments": {},
   "cell_type": "markdown",
   "metadata": {},
   "source": [
    "### Read in other unannotated dataset and split into groups"
   ]
  },
  {
   "cell_type": "code",
   "execution_count": null,
   "metadata": {},
   "outputs": [],
   "source": [
    "compartments_clean.obs['genotype'].value_counts()"
   ]
  },
  {
   "cell_type": "code",
   "execution_count": null,
   "metadata": {},
   "outputs": [],
   "source": [
    "reference = compartments_clean[compartments_clean.obs['genotype'].isin(['Ctrl', 'human'])]\n",
    "reference"
   ]
  },
  {
   "cell_type": "code",
   "execution_count": null,
   "metadata": {},
   "outputs": [],
   "source": [
    "query = compartments_clean[~compartments_clean.obs['genotype'].isin(['Ctrl', 'human'])]\n",
    "query.obs['seed_labels'] = 'Unknown'\n",
    "query"
   ]
  },
  {
   "cell_type": "code",
   "execution_count": null,
   "metadata": {},
   "outputs": [],
   "source": [
    "adata = reference.concatenate(query, batch_key = 'batch', batch_categories = ['reference', 'query'], join = 'inner')\n",
    "adata"
   ]
  },
  {
   "cell_type": "code",
   "execution_count": null,
   "metadata": {},
   "outputs": [],
   "source": [
    "adata.obs.index = pd.Index(['-'.join(idx.split('-')[:3]) for idx in adata.obs.index])\n",
    "adata.obs_names"
   ]
  },
  {
   "cell_type": "markdown",
   "metadata": {},
   "source": [
    "- Clean merged object"
   ]
  },
  {
   "cell_type": "code",
   "execution_count": null,
   "metadata": {},
   "outputs": [],
   "source": [
    "del(adata.obs['Condition'])\n",
    "del(adata.obs['hash.ID'])\n",
    "del(adata.obs['Sample'])\n",
    "del(adata.obs['HTO_maxID'])\n",
    "del(adata.obs['HTO_secondID'])\n",
    "del(adata.obs['HTO_margin'])\n",
    "del(adata.obs['nCount_RNA'])\n",
    "del(adata.obs['nFeature_RNA'])\n",
    "del(adata.obs['nCount_ADT'])\n",
    "del(adata.obs['nFeature_ADT'])\n",
    "del(adata.obs['percent.mt'])\n",
    "del(adata.obs['RNA_snn_res.0.2'])\n",
    "del(adata.obs['seurat_clusters'])\n",
    "del(adata.obs['RNA_snn_res.0.3'])\n",
    "del(adata.obs['RNA_snn_res.0.5'])\n",
    "adata"
   ]
  },
  {
   "cell_type": "code",
   "execution_count": null,
   "metadata": {},
   "outputs": [],
   "source": [
    "sc.pl.scatter(adata, x = 'total_counts', y = 'n_genes', color = \"genotype\", frameon = False)"
   ]
  },
  {
   "cell_type": "code",
   "execution_count": null,
   "metadata": {},
   "outputs": [],
   "source": [
    "adata.obs['genotype'].value_counts()"
   ]
  },
  {
   "cell_type": "code",
   "execution_count": null,
   "metadata": {},
   "outputs": [],
   "source": [
    "adata.obs['sample'].value_counts()"
   ]
  },
  {
   "attachments": {},
   "cell_type": "markdown",
   "metadata": {},
   "source": [
    "### Select HVGs"
   ]
  },
  {
   "cell_type": "code",
   "execution_count": null,
   "metadata": {},
   "outputs": [],
   "source": [
    "adata_raw = adata.copy()\n",
    "adata.layers['counts'] = adata.X.copy()\n",
    "\n",
    "sc.pp.highly_variable_genes(\n",
    "    adata,\n",
    "    flavor = \"seurat_v3\",\n",
    "    n_top_genes = 8000,\n",
    "    layer = \"counts\",\n",
    "    batch_key = \"sample\",\n",
    "    subset = True,\n",
    "    span = 1\n",
    ")\n",
    "adata"
   ]
  },
  {
   "attachments": {},
   "cell_type": "markdown",
   "metadata": {},
   "source": [
    "### Transfer of annotation with scANVI"
   ]
  },
  {
   "cell_type": "code",
   "execution_count": null,
   "metadata": {},
   "outputs": [],
   "source": [
    "scvi.model.SCVI.setup_anndata(adata,\n",
    "                              batch_key = \"sample\", \n",
    "                            categorical_covariate_keys = [\"donor\", \"cell_source\"], \n",
    "                            labels_key = \"seed_labels\", \n",
    "                            layer = 'counts')"
   ]
  },
  {
   "cell_type": "code",
   "execution_count": null,
   "metadata": {},
   "outputs": [],
   "source": [
    "scvi_model = scvi.model.SCVI(adata, \n",
    "                             n_latent = 150, \n",
    "                             n_layers = 3, \n",
    "                             dispersion = 'gene-batch', \n",
    "                             gene_likelihood = 'nb')"
   ]
  },
  {
   "cell_type": "code",
   "execution_count": null,
   "metadata": {},
   "outputs": [],
   "source": [
    "scvi_model.train(30, \n",
    "                 check_val_every_n_epoch = 1, \n",
    "                 enable_progress_bar = True, \n",
    "                 accelerator = 'gpu',\n",
    "                 devices = [0])"
   ]
  },
  {
   "cell_type": "code",
   "execution_count": null,
   "metadata": {},
   "outputs": [],
   "source": [
    "adata.obsm[\"X_scVI\"] = scvi_model.get_latent_representation(adata)"
   ]
  },
  {
   "cell_type": "markdown",
   "metadata": {},
   "source": [
    "### Evaluate model performance using the [_Svensson_](https://www.nxn.se/valent/2023/8/10/training-scvi-posterior-predictive-distributions-over-epochs) method"
   ]
  },
  {
   "cell_type": "code",
   "execution_count": null,
   "metadata": {},
   "outputs": [],
   "source": [
    "history_df = (\n",
    "    scvi_model.history['elbo_train'].astype(float)\n",
    "    .join(scvi_model.history['elbo_validation'].astype(float))\n",
    "    .reset_index()\n",
    "    .melt(id_vars = ['epoch'])\n",
    ")\n",
    "\n",
    "p.options.figure_size = 12, 6\n",
    "\n",
    "p_ = (\n",
    "    p.ggplot(p.aes(x = 'epoch', y = 'value', color = 'variable'), history_df.query('epoch > 0'))\n",
    "    + p.geom_line()\n",
    "    + p.geom_point()\n",
    "    + p.scale_color_manual({'elbo_train': 'black', 'elbo_validation': 'red'})\n",
    "    + p.theme_minimal()\n",
    ")\n",
    "\n",
    "p_.save('fig1.png', dpi = 300)\n",
    "\n",
    "print(p_)"
   ]
  },
  {
   "attachments": {},
   "cell_type": "markdown",
   "metadata": {},
   "source": [
    "### Label transfer with `scANVI` "
   ]
  },
  {
   "cell_type": "code",
   "execution_count": null,
   "metadata": {},
   "outputs": [],
   "source": [
    "scanvi_model = scvi.model.SCANVI.from_scvi_model(scvi_model, 'Unknown')"
   ]
  },
  {
   "cell_type": "code",
   "execution_count": null,
   "metadata": {},
   "outputs": [],
   "source": [
    "scanvi_model.train(20, \n",
    "                 check_val_every_n_epoch = 1, \n",
    "                 enable_progress_bar = True, \n",
    "                 accelerator = 'gpu',\n",
    "                 devices = [0])"
   ]
  },
  {
   "cell_type": "code",
   "execution_count": null,
   "metadata": {},
   "outputs": [],
   "source": [
    "adata.obs[\"C_scANVI_S1\"] = scanvi_model.predict(adata)"
   ]
  },
  {
   "attachments": {},
   "cell_type": "markdown",
   "metadata": {},
   "source": [
    "- Extract latent representation"
   ]
  },
  {
   "cell_type": "code",
   "execution_count": null,
   "metadata": {},
   "outputs": [],
   "source": [
    "adata.obsm[\"X_scANVI\"] = scanvi_model.get_latent_representation(adata)"
   ]
  },
  {
   "cell_type": "markdown",
   "metadata": {},
   "source": [
    "### Explore model performance using the [_Svensson_](https://www.nxn.se/valent/2023/8/10/training-scvi-posterior-predictive-distributions-over-epochs) method"
   ]
  },
  {
   "cell_type": "code",
   "execution_count": null,
   "metadata": {},
   "outputs": [],
   "source": [
    "history_df = (\n",
    "    scanvi_model.history['elbo_train'].astype(float)\n",
    "    .join(scanvi_model.history['elbo_validation'].astype(float))\n",
    "    .reset_index()\n",
    "    .melt(id_vars = ['epoch'])\n",
    ")\n",
    "\n",
    "p.options.figure_size = 12, 6\n",
    "\n",
    "p_ = (\n",
    "    p.ggplot(p.aes(x = 'epoch', y = 'value', color = 'variable'), history_df.query('epoch > 0'))\n",
    "    + p.geom_line()\n",
    "    + p.geom_point()\n",
    "    + p.scale_color_manual({'elbo_train': 'black', 'elbo_validation': 'red'})\n",
    "    + p.theme_minimal()\n",
    ")\n",
    "\n",
    "p_.save('fig1.png', dpi = 300)\n",
    "\n",
    "print(p_)"
   ]
  },
  {
   "attachments": {},
   "cell_type": "markdown",
   "metadata": {},
   "source": [
    "### Visualise corrected dataset"
   ]
  },
  {
   "cell_type": "code",
   "execution_count": null,
   "metadata": {},
   "outputs": [],
   "source": [
    "sc.pp.neighbors(adata, use_rep = \"X_scANVI\", n_neighbors = 50, metric = 'minkowski')\n",
    "sc.tl.umap(adata, min_dist = 0.3, spread = 1, random_state = 1712)\n",
    "sc.pl.umap(adata, frameon = False, color = ['genotype', 'C_scANVI_S1', 'cell_source', 'seed_labels', 'sample'], size = 0.8, legend_fontsize = 5, ncols = 3)"
   ]
  },
  {
   "cell_type": "code",
   "execution_count": null,
   "metadata": {},
   "outputs": [],
   "source": [
    "sc.pl.umap(adata, frameon = False, color = ['n_genes', 'doublet_scores', 'batch', 'n_genes_by_counts', 'total_counts', 'total_counts_mt', 'pct_counts_mt', 'total_counts_ribo', 'pct_counts_ribo', 'n_counts'], size = 1, legend_fontsize = 5, ncols = 4, cmap = 'magma')"
   ]
  },
  {
   "cell_type": "markdown",
   "metadata": {},
   "source": [
    "### Modify object to plot canonical marker genes"
   ]
  },
  {
   "cell_type": "code",
   "execution_count": null,
   "metadata": {},
   "outputs": [],
   "source": [
    "adata_toplot = anndata.AnnData(X = np.sqrt(sc.pp.normalize_total(adata_raw, inplace = False)[\"X\"]), var = adata_raw.var, obs = adata.obs, obsm = adata.obsm)\n",
    "adata_toplot"
   ]
  },
  {
   "cell_type": "code",
   "execution_count": null,
   "metadata": {},
   "outputs": [],
   "source": [
    "sc.pl.umap(adata_toplot, frameon = False, color = ['C_scANVI_S1', 'C1qa', 'Cd3e', 'Trem2', 'Adipoq', 'Nrxn1', 'Msln'], size = 1, legend_fontsize = 5, ncols = 4, cmap = 'RdPu')"
   ]
  },
  {
   "cell_type": "markdown",
   "metadata": {},
   "source": [
    "### Visualise proportions"
   ]
  },
  {
   "cell_type": "code",
   "execution_count": null,
   "metadata": {},
   "outputs": [],
   "source": [
    "sc.pl.umap(adata, frameon = False, color = ['sample', 'genotype', 'C_scANVI_S1'], size = 0.6, legend_fontsize = 5, ncols = 4)"
   ]
  },
  {
   "cell_type": "code",
   "execution_count": null,
   "metadata": {},
   "outputs": [],
   "source": [
    "bauhaus_colors = ['#FF0000', '#FFFF00', '#000000', '#4D5D53', '#0000FF', '#808080']"
   ]
  },
  {
   "cell_type": "code",
   "execution_count": null,
   "metadata": {},
   "outputs": [],
   "source": [
    "sc.pl.umap(adata, frameon = False, color = ['genotype'], size = 0.6, legend_fontsize = 5, ncols = 4, palette = bauhaus_colors)"
   ]
  },
  {
   "cell_type": "code",
   "execution_count": null,
   "metadata": {},
   "outputs": [],
   "source": [
    "df = adata_toplot.obs.groupby(['genotype', 'C_scANVI_S1']).size().reset_index(name = 'counts')\n",
    "\n",
    "grouped = df.groupby('genotype')['counts'].apply(lambda x: x / x.sum() * 100)\n",
    "grouped = grouped.reset_index()\n",
    "\n",
    "df['proportions'] = grouped['counts']\n",
    "df['waffle_counts'] = (df['proportions'] * 10).astype(int)"
   ]
  },
  {
   "cell_type": "code",
   "execution_count": null,
   "metadata": {},
   "outputs": [],
   "source": [
    "def generate_modified_bauhaus_palette(n_colors):\n",
    "    # Define specific shades\n",
    "    base_colors = [\n",
    "        (1, 0, 0),      # Red\n",
    "        (0.07, 0.04, 0.56),  # Ultramarine blue\n",
    "        (0, 0.28, 0.67),  # Cobalt blue\n",
    "        (1, 0.9, 0),  # Bauhaus yellow\n",
    "        (0, 0, 0),  # Black\n",
    "        (0.5, 0, 0.5),  # Purple\n",
    "        (1, 0.55, 0),  # Orange\n",
    "        (0.54, 0.17, 0.89),  # Violet\n",
    "    ]\n",
    "\n",
    "    # Create more distinct variations of each base color\n",
    "    colors = []\n",
    "    variation_steps = n_colors // len(base_colors) + 1\n",
    "    for color in base_colors:\n",
    "        for i in range(variation_steps):\n",
    "            # Adjusting brightness and saturation\n",
    "            variation = tuple(min(max(c * (0.8 + i * 0.1), 0), 1) for c in color)\n",
    "            colors.append(variation)\n",
    "\n",
    "    # Ensure we only use the number of colors needed\n",
    "    unique_colors = []\n",
    "    for color in colors:\n",
    "        if color not in unique_colors:\n",
    "            unique_colors.append(color)\n",
    "        if len(unique_colors) == n_colors:\n",
    "            break\n",
    "\n",
    "    # Shuffle the unique colors\n",
    "    np.random.shuffle(unique_colors)\n",
    "\n",
    "    return unique_colors\n",
    "\n",
    "# Generate the modified palette\n",
    "bauhaus_palette = generate_modified_bauhaus_palette(18)"
   ]
  },
  {
   "cell_type": "code",
   "execution_count": null,
   "metadata": {},
   "outputs": [],
   "source": [
    "for group in df['genotype'].unique():\n",
    "    temp_df = df[df['genotype'] == group]\n",
    "    data = dict(zip(temp_df['C_scANVI_S1'], temp_df['waffle_counts']))\n",
    "\n",
    "    # Ensure the color list matches the number of cell types\n",
    "    colors = [bauhaus_palette[i % len(bauhaus_palette)] for i in range(len(temp_df['C_scANVI_S1']))]\n",
    "\n",
    "    fig = plt.figure(\n",
    "        FigureClass=Waffle, \n",
    "        rows=7, \n",
    "        values=data, \n",
    "        title={'label': f'Genotype {group}', 'loc': 'left', 'fontsize': 14},\n",
    "        labels=[f\"{k} ({v}%)\" for k, v in zip(temp_df['C_scANVI_S1'], temp_df['proportions'].round(2))],\n",
    "        legend={'loc': 'lower left', 'bbox_to_anchor': (0, -0.4), 'ncol': len(data), 'framealpha': 0, 'fontsize': 14},\n",
    "        figsize=(40, 4),\n",
    "        colors=colors\n",
    "    )\n",
    "    plt.show()"
   ]
  },
  {
   "attachments": {},
   "cell_type": "markdown",
   "metadata": {},
   "source": [
    "### Prepare object for export"
   ]
  },
  {
   "cell_type": "markdown",
   "metadata": {},
   "source": [
    "- Fix label for cell annotation"
   ]
  },
  {
   "cell_type": "code",
   "execution_count": null,
   "metadata": {},
   "outputs": [],
   "source": [
    "adata.obs['cell_type'] = adata.obs['C_scANVI_S1'].copy()\n",
    "adata.obs['cell_type'] = adata.obs['cell_type'].astype('category')\n",
    "adata.obs['cell_type'].cat.categories"
   ]
  },
  {
   "cell_type": "code",
   "execution_count": null,
   "metadata": {},
   "outputs": [],
   "source": [
    "adata"
   ]
  },
  {
   "cell_type": "code",
   "execution_count": null,
   "metadata": {},
   "outputs": [],
   "source": [
    "adata_query = adata[adata.obs['compartment'].isin(['MDX_POOL_NEW', 'DMD', 'MDX_MPC'])]\n",
    "adata_query"
   ]
  },
  {
   "cell_type": "code",
   "execution_count": null,
   "metadata": {},
   "outputs": [],
   "source": [
    "adata_export = adata_raw[adata_raw.obs['compartment'].isin(['MDX_POOL_NEW', 'DMD', 'MDX_MPC'])]\n",
    "adata_export.obs['cell_type'] = adata_query.obs['cell_type'].copy()\n",
    "adata_export"
   ]
  },
  {
   "cell_type": "code",
   "execution_count": null,
   "metadata": {},
   "outputs": [],
   "source": [
    "pd.crosstab(adata_query.obs['cell_type'], adata_query.obs['genotype'])"
   ]
  },
  {
   "cell_type": "code",
   "execution_count": null,
   "metadata": {},
   "outputs": [],
   "source": [
    "pd.crosstab(adata_export.obs['cell_type'], adata_export.obs['genotype'])"
   ]
  },
  {
   "cell_type": "markdown",
   "metadata": {},
   "source": [
    "### Export annotated object with raw counts"
   ]
  },
  {
   "cell_type": "code",
   "execution_count": null,
   "metadata": {},
   "outputs": [],
   "source": [
    "adata_export.obs_names_make_unique()\n",
    "adata_export"
   ]
  },
  {
   "cell_type": "code",
   "execution_count": null,
   "metadata": {},
   "outputs": [],
   "source": [
    "adata_export_raw.obs_names_make_unique()\n",
    "adata_export_raw"
   ]
  },
  {
   "cell_type": "code",
   "execution_count": null,
   "metadata": {},
   "outputs": [],
   "source": [
    "common_obs_names = adata_export_raw.obs_names[adata_export_raw.obs_names.isin(adata_export.obs_names)]\n",
    "common_obs_names"
   ]
  },
  {
   "cell_type": "code",
   "execution_count": null,
   "metadata": {},
   "outputs": [],
   "source": [
    "common_obs_names = adata_export_raw.obs_names[adata_export_raw.obs_names.isin(adata_export.obs_names)]\n",
    "adata_subset = adata_export_raw[common_obs_names]\n",
    "adata_subset"
   ]
  },
  {
   "cell_type": "code",
   "execution_count": null,
   "metadata": {},
   "outputs": [],
   "source": [
    "pd.crosstab(adata_subset.obs['cell_type'], adata_subset.obs['genotype'])"
   ]
  },
  {
   "cell_type": "raw",
   "metadata": {
    "vscode": {
     "languageId": "raw"
    }
   },
   "source": [
    "adata_export.write('../../../data/heart_mm_nuclei-23-0092_scANVI-Myeloid_ctl240402.raw.h5ad')"
   ]
  },
  {
   "cell_type": "code",
   "execution_count": null,
   "metadata": {},
   "outputs": [],
   "source": []
  }
 ],
 "metadata": {
  "kernelspec": {
   "display_name": "Python 3",
   "language": "python",
   "name": "python3"
  },
  "language_info": {
   "codemirror_mode": {
    "name": "ipython",
    "version": 3
   },
   "file_extension": ".py",
   "mimetype": "text/x-python",
   "name": "python",
   "nbconvert_exporter": "python",
   "pygments_lexer": "ipython3",
   "version": "3.11.8"
  },
  "orig_nbformat": 4,
  "vscode": {
   "interpreter": {
    "hash": "aee8b7b246df8f9039afb4144a1f6fd8d2ca17a180786b69acc140d282b71a49"
   }
  }
 },
 "nbformat": 4,
 "nbformat_minor": 2
}
