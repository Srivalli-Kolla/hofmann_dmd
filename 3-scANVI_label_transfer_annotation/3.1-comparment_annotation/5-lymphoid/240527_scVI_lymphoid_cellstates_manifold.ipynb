{
 "cells": [
  {
   "attachments": {},
   "cell_type": "markdown",
   "metadata": {},
   "source": [
    "### Notebook for the integration and label transfer of myeloid immune cells with `scANVI`\n",
    "\n",
    "- **Developed by:** Carlos Talavera-López Ph.D\n",
    "- **Würzburg Institute for Systems Immunology - Faculty of Medicine - Julius-Maximilian-Universität Würzburg**\n",
    "- **Created on**: 240329\n",
    "- **Last modified**: 240527"
   ]
  },
  {
   "attachments": {},
   "cell_type": "markdown",
   "metadata": {},
   "source": [
    "### Import required modules"
   ]
  },
  {
   "cell_type": "code",
   "execution_count": 1,
   "metadata": {},
   "outputs": [],
   "source": [
    "import scvi\n",
    "import torch\n",
    "import anndata\n",
    "import warnings\n",
    "import numpy as np\n",
    "import scanpy as sc\n",
    "import pandas as pd\n",
    "import plotnine as p\n",
    "from pywaffle import Waffle\n",
    "import matplotlib.pyplot as plt\n",
    "from scib_metrics.benchmark import Benchmarker"
   ]
  },
  {
   "attachments": {},
   "cell_type": "markdown",
   "metadata": {},
   "source": [
    "### Set up working environment"
   ]
  },
  {
   "cell_type": "code",
   "execution_count": 2,
   "metadata": {},
   "outputs": [
    {
     "name": "stdout",
     "output_type": "stream",
     "text": [
      "-----\n",
      "anndata     0.10.7\n",
      "scanpy      1.10.1\n",
      "-----\n",
      "PIL                 10.2.0\n",
      "absl                NA\n",
      "asttokens           NA\n",
      "attr                23.2.0\n",
      "chex                0.1.85\n",
      "comm                0.2.1\n",
      "contextlib2         NA\n",
      "cycler              0.12.1\n",
      "cython_runtime      NA\n",
      "dateutil            2.8.2\n",
      "debugpy             1.8.1\n",
      "decorator           5.1.1\n",
      "docrep              0.3.2\n",
      "etils               1.7.0\n",
      "executing           2.0.1\n",
      "flax                0.8.1\n",
      "fsspec              2024.2.0\n",
      "h5py                3.10.0\n",
      "igraph              0.11.4\n",
      "importlib_resources NA\n",
      "ipykernel           6.29.2\n",
      "ipywidgets          8.1.2\n",
      "jax                 0.4.19\n",
      "jaxlib              0.4.19\n",
      "jedi                0.19.1\n",
      "joblib              1.3.2\n",
      "kiwisolver          1.4.5\n",
      "legacy_api_wrap     NA\n",
      "lightning           2.1.4\n",
      "lightning_utilities 0.10.1\n",
      "llvmlite            0.42.0\n",
      "matplotlib          3.8.3\n",
      "mizani              0.11.0\n",
      "ml_collections      NA\n",
      "ml_dtypes           0.3.2\n",
      "mpl_toolkits        NA\n",
      "msgpack             1.0.7\n",
      "mudata              0.2.3\n",
      "multipledispatch    0.6.0\n",
      "natsort             8.4.0\n",
      "numba               0.59.0\n",
      "numpy               1.26.4\n",
      "numpyro             0.13.2\n",
      "opt_einsum          v3.3.0\n",
      "optax               0.1.9\n",
      "packaging           23.2\n",
      "pandas              2.2.0\n",
      "parso               0.8.3\n",
      "pkg_resources       NA\n",
      "platformdirs        4.2.0\n",
      "plotnine            0.13.0\n",
      "plottable           0.1.5\n",
      "prompt_toolkit      3.0.43\n",
      "psutil              5.9.8\n",
      "pure_eval           0.2.2\n",
      "pydev_ipython       NA\n",
      "pydevconsole        NA\n",
      "pydevd              2.9.5\n",
      "pydevd_file_utils   NA\n",
      "pydevd_plugins      NA\n",
      "pydevd_tracing      NA\n",
      "pygments            2.17.2\n",
      "pynndescent         0.5.11\n",
      "pyparsing           3.1.1\n",
      "pyro                1.9.0\n",
      "pytz                2024.1\n",
      "pywaffle            NA\n",
      "rich                NA\n",
      "scib_metrics        0.5.0\n",
      "scipy               1.12.0\n",
      "scvi                1.1.2\n",
      "session_info        1.0.0\n",
      "six                 1.16.0\n",
      "sklearn             1.4.1.post1\n",
      "stack_data          0.6.3\n",
      "texttable           1.7.0\n",
      "threadpoolctl       3.3.0\n",
      "toolz               0.12.1\n",
      "torch               2.2.0+cu121\n",
      "torchgen            NA\n",
      "torchmetrics        1.3.1\n",
      "tornado             6.4\n",
      "tqdm                4.66.2\n",
      "traitlets           5.14.1\n",
      "typing_extensions   NA\n",
      "umap                0.5.5\n",
      "vscode              NA\n",
      "wcwidth             0.2.13\n",
      "yaml                6.0.1\n",
      "zmq                 25.1.2\n",
      "-----\n",
      "IPython             8.21.0\n",
      "jupyter_client      8.6.0\n",
      "jupyter_core        5.7.1\n",
      "-----\n",
      "Python 3.11.8 | packaged by conda-forge | (main, Feb 16 2024, 20:53:32) [GCC 12.3.0]\n",
      "Linux-6.8.10-200.fc39.x86_64-x86_64-with-glibc2.38\n",
      "-----\n",
      "Session information updated at 2024-05-27 22:29\n"
     ]
    }
   ],
   "source": [
    "sc.settings.verbosity = 3\n",
    "sc.logging.print_versions()\n",
    "sc.settings.set_figure_params(dpi = 180, color_map = 'magma_r', dpi_save = 300, vector_friendly = True, format = 'svg')"
   ]
  },
  {
   "cell_type": "code",
   "execution_count": 3,
   "metadata": {},
   "outputs": [
    {
     "name": "stderr",
     "output_type": "stream",
     "text": [
      "Seed set to 1712\n"
     ]
    }
   ],
   "source": [
    "warnings.simplefilter(action = 'ignore')\n",
    "scvi.settings.seed = 1712\n",
    "%config InlineBackend.print_figure_kwargs = {'facecolor' : \"w\"}\n",
    "%config InlineBackend.figure_format = 'retina'\n",
    "torch.set_float32_matmul_precision('medium')"
   ]
  },
  {
   "cell_type": "code",
   "execution_count": 4,
   "metadata": {},
   "outputs": [],
   "source": [
    "arches_params = dict(\n",
    "    use_layer_norm = \"both\",\n",
    "    use_batch_norm = \"none\",\n",
    "    encode_covariates = True,\n",
    "    dropout_rate = 0.2,\n",
    "    n_layers = 3,\n",
    ")"
   ]
  },
  {
   "attachments": {},
   "cell_type": "markdown",
   "metadata": {},
   "source": [
    "### Read in and format individual datasets compartments"
   ]
  },
  {
   "cell_type": "markdown",
   "metadata": {},
   "source": [
    "- Read in CD45+ immune cells "
   ]
  },
  {
   "cell_type": "code",
   "execution_count": 5,
   "metadata": {},
   "outputs": [
    {
     "data": {
      "text/plain": [
       "AnnData object with n_obs × n_vars = 6305 × 31053\n",
       "    obs: 'nCount_RNA', 'nFeature_RNA', 'nCount_HTO', 'nFeature_HTO', 'HTO_maxID', 'HTO_secondID', 'HTO_margin', 'HTO_classification', 'hash.ID', 'nCount_ADT', 'nFeature_ADT', 'percent.mt', 'Library', 'Sample', 'Condition', 'RNA_snn_res.0.2', 'seurat_clusters', 'RNA_snn_res.0.3', 'RNA_snn_res.0.5', 'MPC_Annotation', 'genotype', 'sample', 'donor', 'seed_labels', 'cell_source'\n",
       "    var: 'vst.mean', 'vst.variance', 'vst.variance.expected', 'vst.variance.standardized', 'vst.variable'\n",
       "    obsm: 'X_harmony', 'X_pca', 'X_umap'"
      ]
     },
     "execution_count": 5,
     "metadata": {},
     "output_type": "execute_result"
    }
   ],
   "source": [
    "MDX_MPC = sc.read_h5ad('../../../data/MDX_MPC.h5ad')\n",
    "MDX_MPC.obs['genotype'] = MDX_MPC.obs['Condition'].copy()\n",
    "MDX_MPC.obs['sample'] = MDX_MPC.obs['hash.ID'].copy()\n",
    "MDX_MPC.obs['donor'] = MDX_MPC.obs['Sample'].copy()\n",
    "MDX_MPC.obs['seed_labels'] = MDX_MPC.obs['MPC_Annotation'].copy()\n",
    "MDX_MPC.obs['cell_source'] = 'HIRI-CD45+'\n",
    "MDX_MPC"
   ]
  },
  {
   "cell_type": "code",
   "execution_count": 6,
   "metadata": {},
   "outputs": [
    {
     "data": {
      "text/plain": [
       "sample\n",
       "Hashtag9-TotalA     576\n",
       "Hashtag10-TotalA    497\n",
       "Hashtag5-TotalA     488\n",
       "Hashtag3-TotalA     475\n",
       "Hashtag2-TotalA     464\n",
       "Hashtag4-TotalA     432\n",
       "Hashtag1-TotalA     427\n",
       "Hashtag7-TotalA     427\n",
       "Hashtag12-TotalA    416\n",
       "Hashtag11-TotalA    414\n",
       "Hashtag14-TotalA    387\n",
       "Hashtag6-TotalA     363\n",
       "Hashtag8-TotalA     359\n",
       "Hashtag15-TotalA    324\n",
       "Hashtag13-TotalA    256\n",
       "Name: count, dtype: int64"
      ]
     },
     "execution_count": 6,
     "metadata": {},
     "output_type": "execute_result"
    }
   ],
   "source": [
    "MDX_MPC.obs['sample'].value_counts()"
   ]
  },
  {
   "cell_type": "code",
   "execution_count": 7,
   "metadata": {},
   "outputs": [
    {
     "data": {
      "text/plain": [
       "View of AnnData object with n_obs × n_vars = 5451 × 31053\n",
       "    obs: 'nCount_RNA', 'nFeature_RNA', 'nCount_HTO', 'nFeature_HTO', 'HTO_maxID', 'HTO_secondID', 'HTO_margin', 'HTO_classification', 'hash.ID', 'nCount_ADT', 'nFeature_ADT', 'percent.mt', 'Library', 'Sample', 'Condition', 'RNA_snn_res.0.2', 'seurat_clusters', 'RNA_snn_res.0.3', 'RNA_snn_res.0.5', 'MPC_Annotation', 'genotype', 'sample', 'donor', 'seed_labels', 'cell_source'\n",
       "    var: 'vst.mean', 'vst.variance', 'vst.variance.expected', 'vst.variance.standardized', 'vst.variable'\n",
       "    obsm: 'X_harmony', 'X_pca', 'X_umap'"
      ]
     },
     "execution_count": 7,
     "metadata": {},
     "output_type": "execute_result"
    }
   ],
   "source": [
    "MDX_MPC = MDX_MPC[MDX_MPC.obs['nFeature_RNA'] > 200]\n",
    "MDX_MPC = MDX_MPC[MDX_MPC.obs['nFeature_RNA'] < 4000]\n",
    "\n",
    "MDX_MPC = MDX_MPC[MDX_MPC.obs['nCount_RNA'] < 15000]\n",
    "MDX_MPC = MDX_MPC[MDX_MPC.obs['nCount_RNA'] > 200]\n",
    "\n",
    "MDX_MPC = MDX_MPC[MDX_MPC.obs['percent.mt'] < 60]\n",
    "\n",
    "MDX_MPC"
   ]
  },
  {
   "cell_type": "code",
   "execution_count": 8,
   "metadata": {},
   "outputs": [
    {
     "data": {
      "text/plain": [
       "AnnData object with n_obs × n_vars = 11098 × 31053\n",
       "    obs: 'nCount_RNA', 'nFeature_RNA', 'nCount_HTO', 'nFeature_HTO', 'HTO_maxID', 'HTO_secondID', 'HTO_margin', 'HTO_classification', 'hash.ID', 'nCount_ADT', 'nFeature_ADT', 'percent.mt', 'Library', 'Sample', 'Condition', 'RNA_snn_res.0.2', 'seurat_clusters', 'CD45_Annotation', 'genotype', 'sample', 'donor', 'seed_labels', 'cell_source'\n",
       "    var: 'vst.mean', 'vst.variance', 'vst.variance.expected', 'vst.variance.standardized', 'vst.variable'\n",
       "    obsm: 'X_harmony', 'X_pca', 'X_umap'"
      ]
     },
     "execution_count": 8,
     "metadata": {},
     "output_type": "execute_result"
    }
   ],
   "source": [
    "MDX_POOL_NEW = sc.read_h5ad('../../../data/MDX_POOL_NEW.h5ad')\n",
    "MDX_POOL_NEW.obs['genotype'] = MDX_POOL_NEW.obs['Condition'].copy()\n",
    "MDX_POOL_NEW.obs['sample'] = MDX_POOL_NEW.obs['hash.ID'].copy()\n",
    "MDX_POOL_NEW.obs['donor'] = MDX_POOL_NEW.obs['Sample'].copy()\n",
    "MDX_POOL_NEW.obs['seed_labels'] = MDX_POOL_NEW.obs['CD45_Annotation'].copy()\n",
    "MDX_POOL_NEW.obs['cell_source'] = 'HIRI-CD45+'\n",
    "MDX_POOL_NEW"
   ]
  },
  {
   "cell_type": "code",
   "execution_count": 9,
   "metadata": {},
   "outputs": [
    {
     "data": {
      "text/plain": [
       "View of AnnData object with n_obs × n_vars = 10114 × 31053\n",
       "    obs: 'nCount_RNA', 'nFeature_RNA', 'nCount_HTO', 'nFeature_HTO', 'HTO_maxID', 'HTO_secondID', 'HTO_margin', 'HTO_classification', 'hash.ID', 'nCount_ADT', 'nFeature_ADT', 'percent.mt', 'Library', 'Sample', 'Condition', 'RNA_snn_res.0.2', 'seurat_clusters', 'CD45_Annotation', 'genotype', 'sample', 'donor', 'seed_labels', 'cell_source'\n",
       "    var: 'vst.mean', 'vst.variance', 'vst.variance.expected', 'vst.variance.standardized', 'vst.variable'\n",
       "    obsm: 'X_harmony', 'X_pca', 'X_umap'"
      ]
     },
     "execution_count": 9,
     "metadata": {},
     "output_type": "execute_result"
    }
   ],
   "source": [
    "MDX_POOL_NEW = MDX_POOL_NEW[MDX_POOL_NEW.obs['nFeature_RNA'] > 200]\n",
    "MDX_POOL_NEW = MDX_POOL_NEW[MDX_POOL_NEW.obs['nFeature_RNA'] < 4000]\n",
    "\n",
    "MDX_POOL_NEW = MDX_POOL_NEW[MDX_POOL_NEW.obs['nCount_RNA'] < 15000]\n",
    "MDX_POOL_NEW = MDX_POOL_NEW[MDX_POOL_NEW.obs['nCount_RNA'] > 200]\n",
    "\n",
    "MDX_POOL_NEW = MDX_POOL_NEW[MDX_POOL_NEW.obs['percent.mt'] < 60]\n",
    "\n",
    "MDX_POOL_NEW"
   ]
  },
  {
   "cell_type": "markdown",
   "metadata": {},
   "source": [
    "- Read in Meyer annotated PBMC cells"
   ]
  },
  {
   "cell_type": "code",
   "execution_count": 11,
   "metadata": {},
   "outputs": [
    {
     "data": {
      "text/plain": [
       "AnnData object with n_obs × n_vars = 173684 × 33559\n",
       "    obs: 'orig.ident', 'Age_group', 'BMI', 'COVID_severity', 'COVID_status', 'Ethnicity', 'Group', 'Sex', 'annotation_broad', 'annotation_detailed', 'sample_id', 'seed_labels', 'donor', 'cell_states'\n",
       "    var: 'name'"
      ]
     },
     "execution_count": 11,
     "metadata": {},
     "output_type": "execute_result"
    }
   ],
   "source": [
    "pbmc = sc.read_h5ad('../../../data/meyer_nikolic_healthy_pbmc_raw.h5ad') \n",
    "pbmc"
   ]
  },
  {
   "cell_type": "code",
   "execution_count": 12,
   "metadata": {},
   "outputs": [
    {
     "data": {
      "text/plain": [
       "AnnData object with n_obs × n_vars = 173684 × 33559\n",
       "    obs: 'orig.ident', 'Age_group', 'BMI', 'COVID_severity', 'COVID_status', 'Ethnicity', 'Group', 'Sex', 'annotation_broad', 'annotation_detailed', 'sample_id', 'seed_labels', 'donor', 'cell_states', 'sample', 'cell_source', 'genotype'\n",
       "    var: 'name'"
      ]
     },
     "execution_count": 12,
     "metadata": {},
     "output_type": "execute_result"
    }
   ],
   "source": [
    "pbmc_healthy = pbmc[pbmc.obs['COVID_status'].isin(['Healthy'])]\n",
    "pbmc_healthy.obs['sample'] = pbmc_healthy.obs['sample_id'].copy()\n",
    "pbmc_healthy.obs['seed_labels'] = pbmc_healthy.obs['annotation_detailed'].copy()\n",
    "pbmc_healthy.obs['cell_source'] = 'Sanger-Cells'\n",
    "pbmc_healthy.obs['genotype'] = 'human'\n",
    "pbmc_healthy"
   ]
  },
  {
   "cell_type": "code",
   "execution_count": 13,
   "metadata": {},
   "outputs": [
    {
     "data": {
      "text/plain": [
       "Index(['Mir1302-2hg', 'Fam138a', 'Or4f5', 'Al627309.1', 'Al627309.3',\n",
       "       'Al627309.2', 'Al627309.4', 'Al732372.1', 'Or4f29', 'Ac114498.1',\n",
       "       ...\n",
       "       'Viral-hhv-6a-(human-herpes-virus-6)',\n",
       "       'Viral-hhv-6b-(human-herpes-virus-6)',\n",
       "       'Viral-herpes-simplex-virus-1-(human-alphaherpesvirus-1)',\n",
       "       'Viral-herpes-simplex-virus-2-(human-alphaherpesvirus-1)',\n",
       "       'Viral-measles-morbillivirus', 'Viral-mumps-rubulavirus',\n",
       "       'Viral-rubella',\n",
       "       'Viral-varicella-zoster-virus-(vzv-human-alphaherpesvirus-3)',\n",
       "       'Viral-cytomegalovieus-(cmv)', 'Viral-sars-cov2'],\n",
       "      dtype='object', length=33559)"
      ]
     },
     "execution_count": 13,
     "metadata": {},
     "output_type": "execute_result"
    }
   ],
   "source": [
    "pbmc_healthy.var_names = [gene_name.capitalize() for gene_name in pbmc_healthy.var_names]\n",
    "pbmc_healthy.var_names"
   ]
  },
  {
   "cell_type": "markdown",
   "metadata": {},
   "source": [
    "### Read in DMD query cells"
   ]
  },
  {
   "cell_type": "code",
   "execution_count": 14,
   "metadata": {},
   "outputs": [
    {
     "data": {
      "text/plain": [
       "AnnData object with n_obs × n_vars = 81644 × 27478\n",
       "    obs: 'orig.ident', 'Age_group', 'BMI', 'COVID_severity', 'COVID_status', 'Ethnicity', 'Group', 'Sex', 'annotation_broad', 'annotation_detailed', 'sample_id', 'seed_labels', 'donor', 'cell_states', 'sample', 'cell_source', 'genotype', 'nCount_HTO', 'nFeature_HTO', 'HTO_classification', 'Library', 'CD45_Annotation', 'cell_type', 'n_counts', 'n_genes', 'percent_mito', 'percent_ribo', 'region', 'scrublet_score', 'batch', 'doublet_scores', 'n_genes_by_counts', 'total_counts', 'total_counts_mt', 'pct_counts_mt', 'total_counts_ribo', 'pct_counts_ribo', 'percent_mt2', 'percent_chrY', 'XIST-counts', 'S_score', 'G2M_score', '_scvi_batch', '_scvi_labels', 'MPC_Annotation', 'compartment', 'C_scANVI_new'\n",
       "    var: 'gene_ids-DMD_immune', 'feature_types-DMD_immune', 'genome-DMD_immune', 'mt-DMD_immune', 'ribo-DMD_immune', 'n_cells_by_counts-DMD_immune', 'mean_counts-DMD_immune', 'pct_dropout_by_counts-DMD_immune', 'total_counts-DMD_immune', 'vst.mean-MDX_MPC', 'vst.variance-MDX_MPC', 'vst.variance.expected-MDX_MPC', 'vst.variance.standardized-MDX_MPC', 'vst.variable-MDX_MPC', 'vst.mean-MDX_POOL_NEW', 'vst.variance-MDX_POOL_NEW', 'vst.variance.expected-MDX_POOL_NEW', 'vst.variance.standardized-MDX_POOL_NEW', 'vst.variable-MDX_POOL_NEW'"
      ]
     },
     "execution_count": 14,
     "metadata": {},
     "output_type": "execute_result"
    }
   ],
   "source": [
    "DMD_scANVI = sc.read_h5ad('../../../data/heart_mm_nuclei-23-0092_scANVI-Immune_ctl240329.raw.h5ad')\n",
    "DMD_scANVI"
   ]
  },
  {
   "cell_type": "code",
   "execution_count": 15,
   "metadata": {},
   "outputs": [
    {
     "data": {
      "text/plain": [
       "Index(['AAACCCAGTCAAGCGA-1_1-MDX_POOL_NEW',\n",
       "       'AAACCCAGTGGCTTGC-1_1-MDX_POOL_NEW',\n",
       "       'AAACGCTGTAGTTACC-1_1-MDX_POOL_NEW',\n",
       "       'AAACGCTGTTATAGAG-1_1-MDX_POOL_NEW',\n",
       "       'AAAGAACTCCCGTGTT-1_1-MDX_POOL_NEW',\n",
       "       'AAAGGATGTTATCTGG-1_1-MDX_POOL_NEW',\n",
       "       'AAAGGATTCGTAGTCA-1_1-MDX_POOL_NEW',\n",
       "       'AAAGGGCTCTAACACG-1_1-MDX_POOL_NEW',\n",
       "       'AAAGGTATCTATTCGT-1_1-MDX_POOL_NEW',\n",
       "       'AAAGTCCGTGGACCAA-1_1-MDX_POOL_NEW',\n",
       "       ...\n",
       "       'TTTGATCCATAACAGA-1_2-MDX_MPC', 'TTTGATCGTCGTATTG-1_2-MDX_MPC',\n",
       "       'TTTGATCTCAAGTAAG-1_2-MDX_MPC', 'TTTGGAGAGACTAAGT-1_2-MDX_MPC',\n",
       "       'TTTGGAGAGCGACTGA-1_2-MDX_MPC', 'TTTGGAGAGGATAATC-1_2-MDX_MPC',\n",
       "       'TTTGGAGTCTCGGCTT-1_2-MDX_MPC', 'TTTGGTTTCCATAGAC-1_2-MDX_MPC',\n",
       "       'TTTGTTGAGATTCGAA-1_2-MDX_MPC', 'TTTGTTGGTGATATAG-1_2-MDX_MPC'],\n",
       "      dtype='object', length=81644)"
      ]
     },
     "execution_count": 15,
     "metadata": {},
     "output_type": "execute_result"
    }
   ],
   "source": [
    "DMD_scANVI.obs_names"
   ]
  },
  {
   "cell_type": "code",
   "execution_count": 16,
   "metadata": {},
   "outputs": [
    {
     "data": {
      "text/plain": [
       "Index(['B_cells', 'B_mem', 'B_naive', 'Baso/Eos', 'CD4+T', 'CD4+Tnaive',\n",
       "       'CD8+T', 'CD8+Tcm', 'CD8+Tem', 'CD8+Temra', 'CD8+Tnaive', 'CD14+Mo',\n",
       "       'CD16+Mo', 'CD56+NK', 'Ccr2+MHCII+MØ', 'DC', 'ILC', 'Isg15+MØ',\n",
       "       'Ly6ChiMo', 'Ly6CloMo', 'MHCII+MØtr', 'Mast', 'MØinf', 'NK', 'NKT',\n",
       "       'Neutrophils', 'Plasma', 'Platelets', 'TLF+MØ', 'Th', 'Treg', 'gdT',\n",
       "       'pDC'],\n",
       "      dtype='object')"
      ]
     },
     "execution_count": 16,
     "metadata": {},
     "output_type": "execute_result"
    }
   ],
   "source": [
    "DMD_scANVI.obs['C_scANVI_new'].cat.categories"
   ]
  },
  {
   "cell_type": "code",
   "execution_count": 17,
   "metadata": {},
   "outputs": [
    {
     "data": {
      "text/plain": [
       "AnnData object with n_obs × n_vars = 62200 × 27478\n",
       "    obs: 'orig.ident', 'Age_group', 'BMI', 'COVID_severity', 'COVID_status', 'Ethnicity', 'Group', 'Sex', 'annotation_broad', 'annotation_detailed', 'sample_id', 'seed_labels', 'donor', 'cell_states', 'sample', 'cell_source', 'genotype', 'nCount_HTO', 'nFeature_HTO', 'HTO_classification', 'Library', 'CD45_Annotation', 'cell_type', 'n_counts', 'n_genes', 'percent_mito', 'percent_ribo', 'region', 'scrublet_score', 'batch', 'doublet_scores', 'n_genes_by_counts', 'total_counts', 'total_counts_mt', 'pct_counts_mt', 'total_counts_ribo', 'pct_counts_ribo', 'percent_mt2', 'percent_chrY', 'XIST-counts', 'S_score', 'G2M_score', '_scvi_batch', '_scvi_labels', 'MPC_Annotation', 'compartment'\n",
       "    var: 'gene_ids-DMD_immune', 'feature_types-DMD_immune', 'genome-DMD_immune', 'mt-DMD_immune', 'ribo-DMD_immune', 'n_cells_by_counts-DMD_immune', 'mean_counts-DMD_immune', 'pct_dropout_by_counts-DMD_immune', 'total_counts-DMD_immune', 'vst.mean-MDX_MPC', 'vst.variance-MDX_MPC', 'vst.variance.expected-MDX_MPC', 'vst.variance.standardized-MDX_MPC', 'vst.variable-MDX_MPC', 'vst.mean-MDX_POOL_NEW', 'vst.variance-MDX_POOL_NEW', 'vst.variance.expected-MDX_POOL_NEW', 'vst.variance.standardized-MDX_POOL_NEW', 'vst.variable-MDX_POOL_NEW'"
      ]
     },
     "execution_count": 17,
     "metadata": {},
     "output_type": "execute_result"
    }
   ],
   "source": [
    "DMD_lymphoid = DMD_scANVI[DMD_scANVI.obs['C_scANVI_new'].isin(['B_cells', 'B_mem', 'B_naive', 'CD4+T', 'CD4+Tnaive', 'CD8+T', 'CD8+Tcm', 'CD8+Tem', 'CD8+Temra', 'CD8+Tnaive', 'CD56+NK', 'ILC', 'NK', 'NKT', 'Plasma', 'Th', 'Treg', 'gdT'])]\n",
    "DMD_lymphoid.obs['seed_labels'] = 'Unknown'\n",
    "del(DMD_lymphoid.obs['C_scANVI_new'])\n",
    "DMD_lymphoid"
   ]
  },
  {
   "cell_type": "markdown",
   "metadata": {},
   "source": [
    "### Merge cell compartments and compare with full object"
   ]
  },
  {
   "cell_type": "code",
   "execution_count": 18,
   "metadata": {},
   "outputs": [
    {
     "data": {
      "text/plain": [
       "AnnData object with n_obs × n_vars = 251449 × 16060\n",
       "    obs: 'orig.ident', 'Age_group', 'BMI', 'COVID_severity', 'COVID_status', 'Ethnicity', 'Group', 'Sex', 'annotation_broad', 'annotation_detailed', 'sample_id', 'seed_labels', 'donor', 'cell_states', 'sample', 'cell_source', 'genotype', 'nCount_HTO', 'nFeature_HTO', 'HTO_classification', 'Library', 'CD45_Annotation', 'cell_type', 'n_counts', 'n_genes', 'percent_mito', 'percent_ribo', 'region', 'scrublet_score', 'batch', 'doublet_scores', 'n_genes_by_counts', 'total_counts', 'total_counts_mt', 'pct_counts_mt', 'total_counts_ribo', 'pct_counts_ribo', 'percent_mt2', 'percent_chrY', 'XIST-counts', 'S_score', 'G2M_score', '_scvi_batch', '_scvi_labels', 'MPC_Annotation', 'compartment', 'nCount_RNA', 'nFeature_RNA', 'HTO_maxID', 'HTO_secondID', 'HTO_margin', 'hash.ID', 'nCount_ADT', 'nFeature_ADT', 'percent.mt', 'Sample', 'Condition', 'RNA_snn_res.0.2', 'seurat_clusters', 'RNA_snn_res.0.3', 'RNA_snn_res.0.5'\n",
       "    var: 'gene_ids-DMD_immune-DMD', 'feature_types-DMD_immune-DMD', 'genome-DMD_immune-DMD', 'mt-DMD_immune-DMD', 'ribo-DMD_immune-DMD', 'n_cells_by_counts-DMD_immune-DMD', 'mean_counts-DMD_immune-DMD', 'pct_dropout_by_counts-DMD_immune-DMD', 'total_counts-DMD_immune-DMD', 'vst.mean-MDX_MPC-DMD', 'vst.variance-MDX_MPC-DMD', 'vst.variance.expected-MDX_MPC-DMD', 'vst.variance.standardized-MDX_MPC-DMD', 'vst.variable-MDX_MPC-DMD', 'vst.mean-MDX_POOL_NEW-DMD', 'vst.variance-MDX_POOL_NEW-DMD', 'vst.variance.expected-MDX_POOL_NEW-DMD', 'vst.variance.standardized-MDX_POOL_NEW-DMD', 'vst.variable-MDX_POOL_NEW-DMD', 'vst.mean-MDX_MPC', 'vst.variance-MDX_MPC', 'vst.variance.expected-MDX_MPC', 'vst.variance.standardized-MDX_MPC', 'vst.variable-MDX_MPC', 'vst.mean-MDX_POOL_NEW', 'vst.variance-MDX_POOL_NEW', 'vst.variance.expected-MDX_POOL_NEW', 'vst.variance.standardized-MDX_POOL_NEW', 'vst.variable-MDX_POOL_NEW', 'name-pbmc_meyer'"
      ]
     },
     "execution_count": 18,
     "metadata": {},
     "output_type": "execute_result"
    }
   ],
   "source": [
    "compartments = pbmc_healthy.concatenate(DMD_lymphoid, MDX_POOL_NEW, MDX_MPC,  \n",
    "                                      batch_key = 'compartment', \n",
    "                                      batch_categories = ['pbmc_meyer', 'DMD', 'MDX_POOL_NEW', 'MDX_MPC'], \n",
    "                                      join = 'inner')\n",
    "compartments"
   ]
  },
  {
   "cell_type": "code",
   "execution_count": 19,
   "metadata": {},
   "outputs": [
    {
     "data": {
      "text/plain": [
       "Index(['CV001_KM10202384-CV001_KM10202394_AAACCTGAGGCAGGTT-1-pbmc_meyer',\n",
       "       'CV001_KM10202384-CV001_KM10202394_AAACCTGAGTGTCCCG-1-pbmc_meyer',\n",
       "       'CV001_KM10202384-CV001_KM10202394_AAACCTGCAGATGGGT-1-pbmc_meyer',\n",
       "       'CV001_KM10202384-CV001_KM10202394_AAACCTGGTATAGTAG-1-pbmc_meyer',\n",
       "       'CV001_KM10202384-CV001_KM10202394_AAACCTGGTGTGCGTC-1-pbmc_meyer',\n",
       "       'CV001_KM10202384-CV001_KM10202394_AAACCTGGTTAAGTAG-1-pbmc_meyer',\n",
       "       'CV001_KM10202384-CV001_KM10202394_AAACCTGGTTAGATGA-1-pbmc_meyer',\n",
       "       'CV001_KM10202384-CV001_KM10202394_AAACCTGTCATTTGGG-1-pbmc_meyer',\n",
       "       'CV001_KM10202384-CV001_KM10202394_AAACCTGTCCGAAGAG-1-pbmc_meyer',\n",
       "       'CV001_KM10202384-CV001_KM10202394_AAACCTGTCTGCTTGC-1-pbmc_meyer',\n",
       "       ...\n",
       "       'TTTGGAGAGACTAAGT-1_2-MDX_MPC', 'TTTGGAGAGCGACTGA-1_2-MDX_MPC',\n",
       "       'TTTGGAGAGGATAATC-1_2-MDX_MPC', 'TTTGGAGAGTAGGATT-1_2-MDX_MPC',\n",
       "       'TTTGGAGTCTCGGCTT-1_2-MDX_MPC', 'TTTGGTTTCCATAGAC-1_2-MDX_MPC',\n",
       "       'TTTGTTGAGATTCGAA-1_2-MDX_MPC', 'TTTGTTGAGTGTTGTC-1_2-MDX_MPC',\n",
       "       'TTTGTTGCAGGCCCTA-1_2-MDX_MPC', 'TTTGTTGGTGATATAG-1_2-MDX_MPC'],\n",
       "      dtype='object', length=251449)"
      ]
     },
     "execution_count": 19,
     "metadata": {},
     "output_type": "execute_result"
    }
   ],
   "source": [
    "compartments.obs_names"
   ]
  },
  {
   "cell_type": "code",
   "execution_count": 23,
   "metadata": {},
   "outputs": [],
   "source": [
    "# Create a boolean mask to identify obs_names from the DMD_lymphoid group\n",
    "is_dmd_lymphoid = compartments.obs['compartment'] == 'DMD'\n",
    "\n",
    "# Create a new index with the updated obs_names\n",
    "new_obs_names = compartments.obs_names.tolist()\n",
    "for i, name in enumerate(new_obs_names):\n",
    "    if is_dmd_lymphoid[i]:\n",
    "        new_obs_names[i] = name.replace('-DMD', '')\n",
    "\n",
    "# Assign the new index to the compartments object\n",
    "compartments.obs.index = pd.Index(new_obs_names)"
   ]
  },
  {
   "cell_type": "markdown",
   "metadata": {},
   "source": [
    "### Create object with complete gene set "
   ]
  },
  {
   "cell_type": "code",
   "execution_count": 20,
   "metadata": {},
   "outputs": [
    {
     "data": {
      "text/plain": [
       "AnnData object with n_obs × n_vars = 77765 × 27478\n",
       "    obs: 'orig.ident', 'Age_group', 'BMI', 'COVID_severity', 'COVID_status', 'Ethnicity', 'Group', 'Sex', 'annotation_broad', 'annotation_detailed', 'sample_id', 'seed_labels', 'donor', 'cell_states', 'sample', 'cell_source', 'genotype', 'nCount_HTO', 'nFeature_HTO', 'HTO_classification', 'Library', 'CD45_Annotation', 'cell_type', 'n_counts', 'n_genes', 'percent_mito', 'percent_ribo', 'region', 'scrublet_score', 'batch', 'doublet_scores', 'n_genes_by_counts', 'total_counts', 'total_counts_mt', 'pct_counts_mt', 'total_counts_ribo', 'pct_counts_ribo', 'percent_mt2', 'percent_chrY', 'XIST-counts', 'S_score', 'G2M_score', '_scvi_batch', '_scvi_labels', 'MPC_Annotation', 'compartment', 'nCount_RNA', 'nFeature_RNA', 'HTO_maxID', 'HTO_secondID', 'HTO_margin', 'hash.ID', 'nCount_ADT', 'nFeature_ADT', 'percent.mt', 'Sample', 'Condition', 'RNA_snn_res.0.2', 'seurat_clusters', 'RNA_snn_res.0.3', 'RNA_snn_res.0.5'\n",
       "    var: 'gene_ids-DMD_immune-DMD', 'feature_types-DMD_immune-DMD', 'genome-DMD_immune-DMD', 'mt-DMD_immune-DMD', 'ribo-DMD_immune-DMD', 'n_cells_by_counts-DMD_immune-DMD', 'mean_counts-DMD_immune-DMD', 'pct_dropout_by_counts-DMD_immune-DMD', 'total_counts-DMD_immune-DMD', 'vst.mean-MDX_MPC-DMD', 'vst.variance-MDX_MPC-DMD', 'vst.variance.expected-MDX_MPC-DMD', 'vst.variance.standardized-MDX_MPC-DMD', 'vst.variable-MDX_MPC-DMD', 'vst.mean-MDX_POOL_NEW-DMD', 'vst.variance-MDX_POOL_NEW-DMD', 'vst.variance.expected-MDX_POOL_NEW-DMD', 'vst.variance.standardized-MDX_POOL_NEW-DMD', 'vst.variable-MDX_POOL_NEW-DMD', 'vst.mean-MDX_MPC', 'vst.variance-MDX_MPC', 'vst.variance.expected-MDX_MPC', 'vst.variance.standardized-MDX_MPC', 'vst.variable-MDX_MPC', 'vst.mean-MDX_POOL_NEW', 'vst.variance-MDX_POOL_NEW', 'vst.variance.expected-MDX_POOL_NEW', 'vst.variance.standardized-MDX_POOL_NEW', 'vst.variable-MDX_POOL_NEW'"
      ]
     },
     "execution_count": 20,
     "metadata": {},
     "output_type": "execute_result"
    }
   ],
   "source": [
    "adata_export_raw = DMD_lymphoid.concatenate(MDX_POOL_NEW, MDX_MPC,  \n",
    "                                      batch_key = 'compartment', \n",
    "                                      batch_categories = ['DMD', 'MDX_POOL_NEW', 'MDX_MPC'], \n",
    "                                      join = 'inner')\n",
    "adata_export_raw"
   ]
  },
  {
   "cell_type": "code",
   "execution_count": 21,
   "metadata": {},
   "outputs": [
    {
     "data": {
      "text/plain": [
       "Index(['AAACGCTGTTATAGAG-1_1-MDX_POOL_NEW-DMD',\n",
       "       'AAAGAACTCCCGTGTT-1_1-MDX_POOL_NEW-DMD',\n",
       "       'AACAAAGAGCGTTGTT-1_1-MDX_POOL_NEW-DMD',\n",
       "       'AACAAAGTCAAGCCTA-1_1-MDX_POOL_NEW-DMD',\n",
       "       'AACAAGAAGTTGAATG-1_1-MDX_POOL_NEW-DMD',\n",
       "       'AACAAGATCGTTGTGA-1_1-MDX_POOL_NEW-DMD',\n",
       "       'AACACACTCGGCTGAC-1_1-MDX_POOL_NEW-DMD',\n",
       "       'AACAGGGGTAGACAAT-1_1-MDX_POOL_NEW-DMD',\n",
       "       'AACCTGAAGGCGTCCT-1_1-MDX_POOL_NEW-DMD',\n",
       "       'AACCTGATCTTAATCC-1_1-MDX_POOL_NEW-DMD',\n",
       "       ...\n",
       "       'TTTGGAGAGACTAAGT-1_2-MDX_MPC', 'TTTGGAGAGCGACTGA-1_2-MDX_MPC',\n",
       "       'TTTGGAGAGGATAATC-1_2-MDX_MPC', 'TTTGGAGAGTAGGATT-1_2-MDX_MPC',\n",
       "       'TTTGGAGTCTCGGCTT-1_2-MDX_MPC', 'TTTGGTTTCCATAGAC-1_2-MDX_MPC',\n",
       "       'TTTGTTGAGATTCGAA-1_2-MDX_MPC', 'TTTGTTGAGTGTTGTC-1_2-MDX_MPC',\n",
       "       'TTTGTTGCAGGCCCTA-1_2-MDX_MPC', 'TTTGTTGGTGATATAG-1_2-MDX_MPC'],\n",
       "      dtype='object', length=77765)"
      ]
     },
     "execution_count": 21,
     "metadata": {},
     "output_type": "execute_result"
    }
   ],
   "source": [
    "adata_export_raw.obs_names"
   ]
  },
  {
   "cell_type": "code",
   "execution_count": 24,
   "metadata": {},
   "outputs": [],
   "source": [
    "# Create a boolean mask to identify obs_names from the DMD_lymphoid group\n",
    "is_dmd_lymphoid = adata_export_raw.obs['compartment'] == 'DMD'\n",
    "\n",
    "# Create a new index with the updated obs_names\n",
    "new_obs_names = adata_export_raw.obs_names.tolist()\n",
    "for i, name in enumerate(new_obs_names):\n",
    "    if is_dmd_lymphoid[i]:\n",
    "        new_obs_names[i] = name.replace('-DMD', '')\n",
    "\n",
    "# Assign the new index to the compartments object\n",
    "adata_export_raw.obs.index = pd.Index(new_obs_names)"
   ]
  },
  {
   "cell_type": "code",
   "execution_count": 25,
   "metadata": {},
   "outputs": [
    {
     "data": {
      "text/plain": [
       "Index(['AAACGCTGTTATAGAG-1_1-MDX_POOL_NEW',\n",
       "       'AAAGAACTCCCGTGTT-1_1-MDX_POOL_NEW',\n",
       "       'AACAAAGAGCGTTGTT-1_1-MDX_POOL_NEW',\n",
       "       'AACAAAGTCAAGCCTA-1_1-MDX_POOL_NEW',\n",
       "       'AACAAGAAGTTGAATG-1_1-MDX_POOL_NEW',\n",
       "       'AACAAGATCGTTGTGA-1_1-MDX_POOL_NEW',\n",
       "       'AACACACTCGGCTGAC-1_1-MDX_POOL_NEW',\n",
       "       'AACAGGGGTAGACAAT-1_1-MDX_POOL_NEW',\n",
       "       'AACCTGAAGGCGTCCT-1_1-MDX_POOL_NEW',\n",
       "       'AACCTGATCTTAATCC-1_1-MDX_POOL_NEW',\n",
       "       ...\n",
       "       'TTTGGAGAGACTAAGT-1_2-MDX_MPC', 'TTTGGAGAGCGACTGA-1_2-MDX_MPC',\n",
       "       'TTTGGAGAGGATAATC-1_2-MDX_MPC', 'TTTGGAGAGTAGGATT-1_2-MDX_MPC',\n",
       "       'TTTGGAGTCTCGGCTT-1_2-MDX_MPC', 'TTTGGTTTCCATAGAC-1_2-MDX_MPC',\n",
       "       'TTTGTTGAGATTCGAA-1_2-MDX_MPC', 'TTTGTTGAGTGTTGTC-1_2-MDX_MPC',\n",
       "       'TTTGTTGCAGGCCCTA-1_2-MDX_MPC', 'TTTGTTGGTGATATAG-1_2-MDX_MPC'],\n",
       "      dtype='object', length=77765)"
      ]
     },
     "execution_count": 25,
     "metadata": {},
     "output_type": "execute_result"
    }
   ],
   "source": [
    "adata_export_raw.obs_names"
   ]
  },
  {
   "cell_type": "markdown",
   "metadata": {},
   "source": [
    "### Group fine grained annotations into coarse groups"
   ]
  },
  {
   "cell_type": "code",
   "execution_count": 26,
   "metadata": {},
   "outputs": [
    {
     "data": {
      "text/plain": [
       "Index(['AS-DC', 'A_Res_Mac_MHCII', 'B invar', 'B n-sw mem',\n",
       "       'B n-sw mem IFN stim', 'B naive', 'B naive IFN stim', 'B sw mem',\n",
       "       'B_Cells', 'B_TLF_Mac', 'Baso/Eos', 'C_Ccr2+MHCII+_Mac',\n",
       "       'Conventional_T', 'Cycling', 'D_Inflammatory_Mac', 'E_Isg15+',\n",
       "       'F_Spp1+Gpnmb+', 'G_Ly6Chi_Mo', 'HPC', 'HPC IFN stim', 'H_Ly6Clow_Mo',\n",
       "       'ILC', 'ILC2', 'I_cDC2', 'J_Mature_DC', 'K_nd1', 'L_nd2', 'Ly6Chi_Mono',\n",
       "       'Ly6Clo_Mono', 'MAIT', 'M_low_quality', 'Macrophages', 'Mast/Baso',\n",
       "       'Monocyte CD14', 'Monocyte CD14 IFN stim', 'Monocyte CD14 IL6',\n",
       "       'Monocyte CD16', 'Monocyte CD16 IFN stim', 'Monocyte CD16+C1', 'NK',\n",
       "       'NK CD56', 'NK IFN stim', 'NKT', 'Neutrophils', 'Plasma cells',\n",
       "       'Plasmablasts', 'Platelets', 'Proliferating', 'RBC', 'T CD4 CTL',\n",
       "       'T CD4 helper', 'T CD4 naive', 'T CD4 naive IFN stim', 'T CD8 CM',\n",
       "       'T CD8 CTL', 'T CD8 CTL IFN stim', 'T CD8 EM', 'T CD8 EMRA',\n",
       "       'T CD8 naive', 'T g/d', 'T reg', 'Unknown', 'cDC1', 'cDC2', 'gd_T',\n",
       "       'low_quality_cells', 'myeloid??', 'non-immune', 'pDC'],\n",
       "      dtype='object')"
      ]
     },
     "execution_count": 26,
     "metadata": {},
     "output_type": "execute_result"
    }
   ],
   "source": [
    "compartments.obs['seed_labels'] = compartments.obs['seed_labels'].astype('category')\n",
    "compartments.obs['seed_labels'].cat.categories"
   ]
  },
  {
   "cell_type": "markdown",
   "metadata": {},
   "source": [
    "### Remove low quality or irrelevant labels"
   ]
  },
  {
   "cell_type": "code",
   "execution_count": 27,
   "metadata": {},
   "outputs": [
    {
     "data": {
      "text/plain": [
       "View of AnnData object with n_obs × n_vars = 207282 × 16060\n",
       "    obs: 'orig.ident', 'Age_group', 'BMI', 'COVID_severity', 'COVID_status', 'Ethnicity', 'Group', 'Sex', 'annotation_broad', 'annotation_detailed', 'sample_id', 'seed_labels', 'donor', 'cell_states', 'sample', 'cell_source', 'genotype', 'nCount_HTO', 'nFeature_HTO', 'HTO_classification', 'Library', 'CD45_Annotation', 'cell_type', 'n_counts', 'n_genes', 'percent_mito', 'percent_ribo', 'region', 'scrublet_score', 'batch', 'doublet_scores', 'n_genes_by_counts', 'total_counts', 'total_counts_mt', 'pct_counts_mt', 'total_counts_ribo', 'pct_counts_ribo', 'percent_mt2', 'percent_chrY', 'XIST-counts', 'S_score', 'G2M_score', '_scvi_batch', '_scvi_labels', 'MPC_Annotation', 'compartment', 'nCount_RNA', 'nFeature_RNA', 'HTO_maxID', 'HTO_secondID', 'HTO_margin', 'hash.ID', 'nCount_ADT', 'nFeature_ADT', 'percent.mt', 'Sample', 'Condition', 'RNA_snn_res.0.2', 'seurat_clusters', 'RNA_snn_res.0.3', 'RNA_snn_res.0.5'\n",
       "    var: 'gene_ids-DMD_immune-DMD', 'feature_types-DMD_immune-DMD', 'genome-DMD_immune-DMD', 'mt-DMD_immune-DMD', 'ribo-DMD_immune-DMD', 'n_cells_by_counts-DMD_immune-DMD', 'mean_counts-DMD_immune-DMD', 'pct_dropout_by_counts-DMD_immune-DMD', 'total_counts-DMD_immune-DMD', 'vst.mean-MDX_MPC-DMD', 'vst.variance-MDX_MPC-DMD', 'vst.variance.expected-MDX_MPC-DMD', 'vst.variance.standardized-MDX_MPC-DMD', 'vst.variable-MDX_MPC-DMD', 'vst.mean-MDX_POOL_NEW-DMD', 'vst.variance-MDX_POOL_NEW-DMD', 'vst.variance.expected-MDX_POOL_NEW-DMD', 'vst.variance.standardized-MDX_POOL_NEW-DMD', 'vst.variable-MDX_POOL_NEW-DMD', 'vst.mean-MDX_MPC', 'vst.variance-MDX_MPC', 'vst.variance.expected-MDX_MPC', 'vst.variance.standardized-MDX_MPC', 'vst.variable-MDX_MPC', 'vst.mean-MDX_POOL_NEW', 'vst.variance-MDX_POOL_NEW', 'vst.variance.expected-MDX_POOL_NEW', 'vst.variance.standardized-MDX_POOL_NEW', 'vst.variable-MDX_POOL_NEW', 'name-pbmc_meyer'"
      ]
     },
     "execution_count": 27,
     "metadata": {},
     "output_type": "execute_result"
    }
   ],
   "source": [
    "compartments_clean = compartments[compartments.obs['seed_labels'].isin(['B invar', 'B n-sw mem',\n",
    "       'B n-sw mem IFN stim', 'B naive', 'B naive IFN stim', 'B sw mem', 'B_Cells', 'B_TLF_Mac', 'Conventional_T', 'Cycling', 'ILC', 'ILC2', 'MAIT', 'NK', 'NK CD56', 'NK IFN stim', 'NKT', 'Plasma cells',\n",
    "       'Plasmablasts', 'T CD4 CTL', 'T CD4 helper', 'T CD4 naive', 'T CD4 naive IFN stim', 'T CD8 CM',\n",
    "       'T CD8 CTL', 'T CD8 CTL IFN stim', 'T CD8 EM', 'T CD8 EMRA', 'T CD8 naive', 'T g/d', 'T reg', 'Unknown', 'gd_T'])]\n",
    "compartments_clean"
   ]
  },
  {
   "cell_type": "markdown",
   "metadata": {},
   "source": [
    "### Make uniform annotation for genotype labels"
   ]
  },
  {
   "cell_type": "code",
   "execution_count": 28,
   "metadata": {},
   "outputs": [
    {
     "data": {
      "text/plain": [
       "genotype\n",
       "human       141738\n",
       "WT           47467\n",
       "MdxSCID      12388\n",
       "Mdx           2731\n",
       "Ctrl          1851\n",
       "Mdx-SCID      1107\n",
       "Name: count, dtype: int64"
      ]
     },
     "execution_count": 28,
     "metadata": {},
     "output_type": "execute_result"
    }
   ],
   "source": [
    "compartments_clean.obs['genotype'].value_counts()"
   ]
  },
  {
   "cell_type": "code",
   "execution_count": 29,
   "metadata": {},
   "outputs": [],
   "source": [
    "trans_from=['WT', 'Ctrl'],\n",
    "trans_to = ['WT']\n",
    "\n",
    "compartments_clean.obs['genotype'] = [str(i) for i in compartments_clean.obs['genotype']]\n",
    "for leiden,celltype in zip(trans_from, trans_to):\n",
    "    for leiden_from in leiden:\n",
    "        compartments_clean.obs['genotype'][compartments_clean.obs['genotype'] == leiden_from] = celltype"
   ]
  },
  {
   "cell_type": "code",
   "execution_count": 30,
   "metadata": {},
   "outputs": [],
   "source": [
    "trans_from=['MdxSCID', 'Mdx-SCID'],\n",
    "trans_to = ['MdxSCID']\n",
    "\n",
    "compartments_clean.obs['genotype'] = [str(i) for i in compartments_clean.obs['genotype']]\n",
    "for leiden,celltype in zip(trans_from, trans_to):\n",
    "    for leiden_from in leiden:\n",
    "        compartments_clean.obs['genotype'][compartments_clean.obs['genotype'] == leiden_from] = celltype"
   ]
  },
  {
   "cell_type": "code",
   "execution_count": 31,
   "metadata": {},
   "outputs": [
    {
     "data": {
      "text/plain": [
       "genotype\n",
       "human      141738\n",
       "WT          49318\n",
       "MdxSCID     13495\n",
       "Mdx          2731\n",
       "Name: count, dtype: int64"
      ]
     },
     "execution_count": 31,
     "metadata": {},
     "output_type": "execute_result"
    }
   ],
   "source": [
    "compartments_clean.obs['genotype'].value_counts()"
   ]
  },
  {
   "cell_type": "markdown",
   "metadata": {},
   "source": [
    "### Visualise cell type distribution per condition"
   ]
  },
  {
   "cell_type": "code",
   "execution_count": 32,
   "metadata": {},
   "outputs": [
    {
     "data": {
      "text/plain": [
       "seed_labels\n",
       "Unknown                 62200\n",
       "T CD4 naive             32672\n",
       "NK                      20253\n",
       "B naive                 19295\n",
       "T CD8 naive             16140\n",
       "T CD4 helper            13552\n",
       "T CD8 CTL                9541\n",
       "T CD8 CM                 5544\n",
       "T reg                    3251\n",
       "T g/d                    3183\n",
       "B n-sw mem               2993\n",
       "NK CD56                  2353\n",
       "MAIT                     2213\n",
       "B sw mem                 2068\n",
       "T CD4 naive IFN stim     1860\n",
       "T CD8 EMRA               1834\n",
       "T CD4 CTL                1331\n",
       "Cycling                  1012\n",
       "B_Cells                   980\n",
       "B_TLF_Mac                 871\n",
       "B invar                   869\n",
       "T CD8 EM                  795\n",
       "B naive IFN stim          745\n",
       "NK IFN stim               433\n",
       "Plasma cells              305\n",
       "NKT                       220\n",
       "ILC                       199\n",
       "Conventional_T            186\n",
       "B n-sw mem IFN stim       162\n",
       "ILC2                      102\n",
       "Plasmablasts               47\n",
       "gd_T                       37\n",
       "T CD8 CTL IFN stim         36\n",
       "Name: count, dtype: int64"
      ]
     },
     "execution_count": 32,
     "metadata": {},
     "output_type": "execute_result"
    }
   ],
   "source": [
    "compartments_clean.obs['seed_labels'].value_counts()"
   ]
  },
  {
   "cell_type": "markdown",
   "metadata": {},
   "source": [
    "### Hamonise cell type labels"
   ]
  },
  {
   "cell_type": "code",
   "execution_count": 33,
   "metadata": {},
   "outputs": [
    {
     "data": {
      "text/plain": [
       "Index(['B invar', 'B n-sw mem', 'B n-sw mem IFN stim', 'B naive',\n",
       "       'B naive IFN stim', 'B sw mem', 'B_Cells', 'B_TLF_Mac',\n",
       "       'Conventional_T', 'Cycling', 'ILC', 'ILC2', 'MAIT', 'NK', 'NK CD56',\n",
       "       'NK IFN stim', 'NKT', 'Plasma cells', 'Plasmablasts', 'T CD4 CTL',\n",
       "       'T CD4 helper', 'T CD4 naive', 'T CD4 naive IFN stim', 'T CD8 CM',\n",
       "       'T CD8 CTL', 'T CD8 CTL IFN stim', 'T CD8 EM', 'T CD8 EMRA',\n",
       "       'T CD8 naive', 'T g/d', 'T reg', 'Unknown', 'gd_T'],\n",
       "      dtype='object')"
      ]
     },
     "execution_count": 33,
     "metadata": {},
     "output_type": "execute_result"
    }
   ],
   "source": [
    "compartments_clean.obs['seed_labels'].cat.categories"
   ]
  },
  {
   "cell_type": "code",
   "execution_count": 34,
   "metadata": {},
   "outputs": [],
   "source": [
    "trans_from = [['B invar', 'B_Cells'],\n",
    "              ['B naive', 'B naive IFN stim'],\n",
    "              ['B n-sw mem', 'B n-sw mem IFN stim', 'B sw mem'],\n",
    "              ['Conventional_T', 'Cycling'],\n",
    "              ['ILC', 'ILC2'],\n",
    "              ['MAIT'],\n",
    "              ['NK', 'NK CD56','NK IFN stim'],\n",
    "              ['NKT'],\n",
    "              ['Plasma cells', 'Plasmablasts'],\n",
    "              ['T CD4 CTL'],\n",
    "              ['T CD4 helper'],\n",
    "              ['T CD4 naive', 'T CD4 naive IFN stim'],\n",
    "              ['T CD8 naive'],\n",
    "              ['T CD8 CTL', 'T CD8 CTL IFN stim'],\n",
    "              ['T CD8 EM'],\n",
    "              ['T CD8 EMRA'],\n",
    "              ['T CD8 CM'],\n",
    "              ['T g/d', 'gd_T'], \n",
    "              ['T reg'], \n",
    "              ['B_TLF_Mac', 'Unknown']]\n",
    "\n",
    "trans_to = ['B_cells', \n",
    "            'B_naive', \n",
    "            'B_mem', \n",
    "            'T', \n",
    "            'ILC', \n",
    "            'MAIT', \n",
    "            'NK', \n",
    "            'NKT', \n",
    "            'Plasma_cells', \n",
    "            'CD4Tctl', \n",
    "            'CD4Th', \n",
    "            'CD4Tnaive', \n",
    "            'CD8Tnaive', \n",
    "            'CD8Tctl', \n",
    "            'CD8Tem', \n",
    "            'CD8Temra', \n",
    "            'CD8Tcm',  \n",
    "            'gdT', \n",
    "            'Treg', \n",
    "            'Unknown']\n",
    "\n",
    "compartments_clean.obs['seed_labels'] = [str(i) for i in compartments_clean.obs['seed_labels']]\n",
    "for leiden,celltype in zip(trans_from, trans_to):\n",
    "    for leiden_from in leiden:\n",
    "        compartments_clean.obs['seed_labels'][compartments_clean.obs['seed_labels'] == leiden_from] = celltype"
   ]
  },
  {
   "cell_type": "code",
   "execution_count": 35,
   "metadata": {},
   "outputs": [
    {
     "data": {
      "text/plain": [
       "Index(['B_cells', 'B_mem', 'B_naive', 'CD4Tctl', 'CD4Th', 'CD4Tnaive',\n",
       "       'CD8Tcm', 'CD8Tctl', 'CD8Tem', 'CD8Temra', 'CD8Tnaive', 'ILC', 'MAIT',\n",
       "       'NK', 'NKT', 'Plasma_cells', 'T', 'Treg', 'Unknown', 'gdT'],\n",
       "      dtype='object')"
      ]
     },
     "execution_count": 35,
     "metadata": {},
     "output_type": "execute_result"
    }
   ],
   "source": [
    "compartments_clean.obs['seed_labels'] = compartments_clean.obs['seed_labels'].astype('category')\n",
    "compartments_clean.obs['seed_labels'].cat.categories"
   ]
  },
  {
   "cell_type": "code",
   "execution_count": 36,
   "metadata": {},
   "outputs": [
    {
     "data": {
      "text/html": [
       "<div>\n",
       "<style scoped>\n",
       "    .dataframe tbody tr th:only-of-type {\n",
       "        vertical-align: middle;\n",
       "    }\n",
       "\n",
       "    .dataframe tbody tr th {\n",
       "        vertical-align: top;\n",
       "    }\n",
       "\n",
       "    .dataframe thead th {\n",
       "        text-align: right;\n",
       "    }\n",
       "</style>\n",
       "<table border=\"1\" class=\"dataframe\">\n",
       "  <thead>\n",
       "    <tr style=\"text-align: right;\">\n",
       "      <th>genotype</th>\n",
       "      <th>Mdx</th>\n",
       "      <th>MdxSCID</th>\n",
       "      <th>WT</th>\n",
       "      <th>human</th>\n",
       "    </tr>\n",
       "    <tr>\n",
       "      <th>sample</th>\n",
       "      <th></th>\n",
       "      <th></th>\n",
       "      <th></th>\n",
       "      <th></th>\n",
       "    </tr>\n",
       "  </thead>\n",
       "  <tbody>\n",
       "    <tr>\n",
       "      <th>A9_2</th>\n",
       "      <td>0</td>\n",
       "      <td>0</td>\n",
       "      <td>684</td>\n",
       "      <td>0</td>\n",
       "    </tr>\n",
       "    <tr>\n",
       "      <th>A10_2</th>\n",
       "      <td>0</td>\n",
       "      <td>0</td>\n",
       "      <td>46783</td>\n",
       "      <td>0</td>\n",
       "    </tr>\n",
       "    <tr>\n",
       "      <th>A11_2</th>\n",
       "      <td>350</td>\n",
       "      <td>0</td>\n",
       "      <td>0</td>\n",
       "      <td>0</td>\n",
       "    </tr>\n",
       "    <tr>\n",
       "      <th>A12_2</th>\n",
       "      <td>316</td>\n",
       "      <td>0</td>\n",
       "      <td>0</td>\n",
       "      <td>0</td>\n",
       "    </tr>\n",
       "    <tr>\n",
       "      <th>AN1</th>\n",
       "      <td>0</td>\n",
       "      <td>0</td>\n",
       "      <td>0</td>\n",
       "      <td>606</td>\n",
       "    </tr>\n",
       "    <tr>\n",
       "      <th>AN2</th>\n",
       "      <td>0</td>\n",
       "      <td>0</td>\n",
       "      <td>0</td>\n",
       "      <td>5180</td>\n",
       "    </tr>\n",
       "    <tr>\n",
       "      <th>AN3</th>\n",
       "      <td>0</td>\n",
       "      <td>0</td>\n",
       "      <td>0</td>\n",
       "      <td>765</td>\n",
       "    </tr>\n",
       "    <tr>\n",
       "      <th>AN5</th>\n",
       "      <td>0</td>\n",
       "      <td>0</td>\n",
       "      <td>0</td>\n",
       "      <td>3010</td>\n",
       "    </tr>\n",
       "    <tr>\n",
       "      <th>AN6</th>\n",
       "      <td>0</td>\n",
       "      <td>0</td>\n",
       "      <td>0</td>\n",
       "      <td>3173</td>\n",
       "    </tr>\n",
       "    <tr>\n",
       "      <th>AN7</th>\n",
       "      <td>0</td>\n",
       "      <td>0</td>\n",
       "      <td>0</td>\n",
       "      <td>6165</td>\n",
       "    </tr>\n",
       "    <tr>\n",
       "      <th>AN9</th>\n",
       "      <td>0</td>\n",
       "      <td>0</td>\n",
       "      <td>0</td>\n",
       "      <td>3387</td>\n",
       "    </tr>\n",
       "    <tr>\n",
       "      <th>AN11</th>\n",
       "      <td>0</td>\n",
       "      <td>0</td>\n",
       "      <td>0</td>\n",
       "      <td>1263</td>\n",
       "    </tr>\n",
       "    <tr>\n",
       "      <th>AN12</th>\n",
       "      <td>0</td>\n",
       "      <td>0</td>\n",
       "      <td>0</td>\n",
       "      <td>5564</td>\n",
       "    </tr>\n",
       "    <tr>\n",
       "      <th>AN13</th>\n",
       "      <td>0</td>\n",
       "      <td>0</td>\n",
       "      <td>0</td>\n",
       "      <td>6860</td>\n",
       "    </tr>\n",
       "    <tr>\n",
       "      <th>AN14</th>\n",
       "      <td>0</td>\n",
       "      <td>0</td>\n",
       "      <td>0</td>\n",
       "      <td>1732</td>\n",
       "    </tr>\n",
       "    <tr>\n",
       "      <th>B1_2</th>\n",
       "      <td>0</td>\n",
       "      <td>9650</td>\n",
       "      <td>0</td>\n",
       "      <td>0</td>\n",
       "    </tr>\n",
       "    <tr>\n",
       "      <th>B2_2</th>\n",
       "      <td>0</td>\n",
       "      <td>1917</td>\n",
       "      <td>0</td>\n",
       "      <td>0</td>\n",
       "    </tr>\n",
       "    <tr>\n",
       "      <th>Hashtag1-TotalA</th>\n",
       "      <td>0</td>\n",
       "      <td>549</td>\n",
       "      <td>0</td>\n",
       "      <td>0</td>\n",
       "    </tr>\n",
       "    <tr>\n",
       "      <th>Hashtag2-TotalA</th>\n",
       "      <td>0</td>\n",
       "      <td>413</td>\n",
       "      <td>0</td>\n",
       "      <td>0</td>\n",
       "    </tr>\n",
       "    <tr>\n",
       "      <th>Hashtag3-TotalA</th>\n",
       "      <td>0</td>\n",
       "      <td>146</td>\n",
       "      <td>0</td>\n",
       "      <td>0</td>\n",
       "    </tr>\n",
       "    <tr>\n",
       "      <th>Hashtag4-TotalA</th>\n",
       "      <td>0</td>\n",
       "      <td>593</td>\n",
       "      <td>0</td>\n",
       "      <td>0</td>\n",
       "    </tr>\n",
       "    <tr>\n",
       "      <th>Hashtag5-TotalA</th>\n",
       "      <td>0</td>\n",
       "      <td>227</td>\n",
       "      <td>0</td>\n",
       "      <td>0</td>\n",
       "    </tr>\n",
       "    <tr>\n",
       "      <th>Hashtag6-TotalA</th>\n",
       "      <td>379</td>\n",
       "      <td>0</td>\n",
       "      <td>0</td>\n",
       "      <td>0</td>\n",
       "    </tr>\n",
       "    <tr>\n",
       "      <th>Hashtag7-TotalA</th>\n",
       "      <td>595</td>\n",
       "      <td>0</td>\n",
       "      <td>0</td>\n",
       "      <td>0</td>\n",
       "    </tr>\n",
       "    <tr>\n",
       "      <th>Hashtag8-TotalA</th>\n",
       "      <td>418</td>\n",
       "      <td>0</td>\n",
       "      <td>0</td>\n",
       "      <td>0</td>\n",
       "    </tr>\n",
       "    <tr>\n",
       "      <th>Hashtag9-TotalA</th>\n",
       "      <td>486</td>\n",
       "      <td>0</td>\n",
       "      <td>0</td>\n",
       "      <td>0</td>\n",
       "    </tr>\n",
       "    <tr>\n",
       "      <th>Hashtag10-TotalA</th>\n",
       "      <td>187</td>\n",
       "      <td>0</td>\n",
       "      <td>0</td>\n",
       "      <td>0</td>\n",
       "    </tr>\n",
       "    <tr>\n",
       "      <th>Hashtag11-TotalA</th>\n",
       "      <td>0</td>\n",
       "      <td>0</td>\n",
       "      <td>409</td>\n",
       "      <td>0</td>\n",
       "    </tr>\n",
       "    <tr>\n",
       "      <th>Hashtag12-TotalA</th>\n",
       "      <td>0</td>\n",
       "      <td>0</td>\n",
       "      <td>412</td>\n",
       "      <td>0</td>\n",
       "    </tr>\n",
       "    <tr>\n",
       "      <th>Hashtag13-TotalA</th>\n",
       "      <td>0</td>\n",
       "      <td>0</td>\n",
       "      <td>324</td>\n",
       "      <td>0</td>\n",
       "    </tr>\n",
       "    <tr>\n",
       "      <th>Hashtag14-TotalA</th>\n",
       "      <td>0</td>\n",
       "      <td>0</td>\n",
       "      <td>204</td>\n",
       "      <td>0</td>\n",
       "    </tr>\n",
       "    <tr>\n",
       "      <th>Hashtag15-TotalA</th>\n",
       "      <td>0</td>\n",
       "      <td>0</td>\n",
       "      <td>502</td>\n",
       "      <td>0</td>\n",
       "    </tr>\n",
       "    <tr>\n",
       "      <th>NP13</th>\n",
       "      <td>0</td>\n",
       "      <td>0</td>\n",
       "      <td>0</td>\n",
       "      <td>8737</td>\n",
       "    </tr>\n",
       "    <tr>\n",
       "      <th>NP15</th>\n",
       "      <td>0</td>\n",
       "      <td>0</td>\n",
       "      <td>0</td>\n",
       "      <td>2973</td>\n",
       "    </tr>\n",
       "    <tr>\n",
       "      <th>NP16</th>\n",
       "      <td>0</td>\n",
       "      <td>0</td>\n",
       "      <td>0</td>\n",
       "      <td>1783</td>\n",
       "    </tr>\n",
       "    <tr>\n",
       "      <th>NP17</th>\n",
       "      <td>0</td>\n",
       "      <td>0</td>\n",
       "      <td>0</td>\n",
       "      <td>4692</td>\n",
       "    </tr>\n",
       "    <tr>\n",
       "      <th>NP18</th>\n",
       "      <td>0</td>\n",
       "      <td>0</td>\n",
       "      <td>0</td>\n",
       "      <td>6388</td>\n",
       "    </tr>\n",
       "    <tr>\n",
       "      <th>NP19</th>\n",
       "      <td>0</td>\n",
       "      <td>0</td>\n",
       "      <td>0</td>\n",
       "      <td>5444</td>\n",
       "    </tr>\n",
       "    <tr>\n",
       "      <th>NP20</th>\n",
       "      <td>0</td>\n",
       "      <td>0</td>\n",
       "      <td>0</td>\n",
       "      <td>2081</td>\n",
       "    </tr>\n",
       "    <tr>\n",
       "      <th>NP21</th>\n",
       "      <td>0</td>\n",
       "      <td>0</td>\n",
       "      <td>0</td>\n",
       "      <td>3486</td>\n",
       "    </tr>\n",
       "    <tr>\n",
       "      <th>NP22</th>\n",
       "      <td>0</td>\n",
       "      <td>0</td>\n",
       "      <td>0</td>\n",
       "      <td>4993</td>\n",
       "    </tr>\n",
       "    <tr>\n",
       "      <th>NP23</th>\n",
       "      <td>0</td>\n",
       "      <td>0</td>\n",
       "      <td>0</td>\n",
       "      <td>7619</td>\n",
       "    </tr>\n",
       "    <tr>\n",
       "      <th>NP24</th>\n",
       "      <td>0</td>\n",
       "      <td>0</td>\n",
       "      <td>0</td>\n",
       "      <td>6139</td>\n",
       "    </tr>\n",
       "    <tr>\n",
       "      <th>NP26</th>\n",
       "      <td>0</td>\n",
       "      <td>0</td>\n",
       "      <td>0</td>\n",
       "      <td>3236</td>\n",
       "    </tr>\n",
       "    <tr>\n",
       "      <th>NP27</th>\n",
       "      <td>0</td>\n",
       "      <td>0</td>\n",
       "      <td>0</td>\n",
       "      <td>2694</td>\n",
       "    </tr>\n",
       "    <tr>\n",
       "      <th>NP28</th>\n",
       "      <td>0</td>\n",
       "      <td>0</td>\n",
       "      <td>0</td>\n",
       "      <td>5914</td>\n",
       "    </tr>\n",
       "    <tr>\n",
       "      <th>NP30</th>\n",
       "      <td>0</td>\n",
       "      <td>0</td>\n",
       "      <td>0</td>\n",
       "      <td>3404</td>\n",
       "    </tr>\n",
       "    <tr>\n",
       "      <th>NP31</th>\n",
       "      <td>0</td>\n",
       "      <td>0</td>\n",
       "      <td>0</td>\n",
       "      <td>4695</td>\n",
       "    </tr>\n",
       "    <tr>\n",
       "      <th>NP32</th>\n",
       "      <td>0</td>\n",
       "      <td>0</td>\n",
       "      <td>0</td>\n",
       "      <td>3514</td>\n",
       "    </tr>\n",
       "    <tr>\n",
       "      <th>NP35</th>\n",
       "      <td>0</td>\n",
       "      <td>0</td>\n",
       "      <td>0</td>\n",
       "      <td>1549</td>\n",
       "    </tr>\n",
       "    <tr>\n",
       "      <th>NP36</th>\n",
       "      <td>0</td>\n",
       "      <td>0</td>\n",
       "      <td>0</td>\n",
       "      <td>4439</td>\n",
       "    </tr>\n",
       "    <tr>\n",
       "      <th>NP37</th>\n",
       "      <td>0</td>\n",
       "      <td>0</td>\n",
       "      <td>0</td>\n",
       "      <td>3441</td>\n",
       "    </tr>\n",
       "    <tr>\n",
       "      <th>NP38</th>\n",
       "      <td>0</td>\n",
       "      <td>0</td>\n",
       "      <td>0</td>\n",
       "      <td>3106</td>\n",
       "    </tr>\n",
       "    <tr>\n",
       "      <th>NP39</th>\n",
       "      <td>0</td>\n",
       "      <td>0</td>\n",
       "      <td>0</td>\n",
       "      <td>4951</td>\n",
       "    </tr>\n",
       "    <tr>\n",
       "      <th>NP41</th>\n",
       "      <td>0</td>\n",
       "      <td>0</td>\n",
       "      <td>0</td>\n",
       "      <td>3297</td>\n",
       "    </tr>\n",
       "    <tr>\n",
       "      <th>NP44</th>\n",
       "      <td>0</td>\n",
       "      <td>0</td>\n",
       "      <td>0</td>\n",
       "      <td>5458</td>\n",
       "    </tr>\n",
       "  </tbody>\n",
       "</table>\n",
       "</div>"
      ],
      "text/plain": [
       "genotype          Mdx  MdxSCID     WT  human\n",
       "sample                                      \n",
       "A9_2                0        0    684      0\n",
       "A10_2               0        0  46783      0\n",
       "A11_2             350        0      0      0\n",
       "A12_2             316        0      0      0\n",
       "AN1                 0        0      0    606\n",
       "AN2                 0        0      0   5180\n",
       "AN3                 0        0      0    765\n",
       "AN5                 0        0      0   3010\n",
       "AN6                 0        0      0   3173\n",
       "AN7                 0        0      0   6165\n",
       "AN9                 0        0      0   3387\n",
       "AN11                0        0      0   1263\n",
       "AN12                0        0      0   5564\n",
       "AN13                0        0      0   6860\n",
       "AN14                0        0      0   1732\n",
       "B1_2                0     9650      0      0\n",
       "B2_2                0     1917      0      0\n",
       "Hashtag1-TotalA     0      549      0      0\n",
       "Hashtag2-TotalA     0      413      0      0\n",
       "Hashtag3-TotalA     0      146      0      0\n",
       "Hashtag4-TotalA     0      593      0      0\n",
       "Hashtag5-TotalA     0      227      0      0\n",
       "Hashtag6-TotalA   379        0      0      0\n",
       "Hashtag7-TotalA   595        0      0      0\n",
       "Hashtag8-TotalA   418        0      0      0\n",
       "Hashtag9-TotalA   486        0      0      0\n",
       "Hashtag10-TotalA  187        0      0      0\n",
       "Hashtag11-TotalA    0        0    409      0\n",
       "Hashtag12-TotalA    0        0    412      0\n",
       "Hashtag13-TotalA    0        0    324      0\n",
       "Hashtag14-TotalA    0        0    204      0\n",
       "Hashtag15-TotalA    0        0    502      0\n",
       "NP13                0        0      0   8737\n",
       "NP15                0        0      0   2973\n",
       "NP16                0        0      0   1783\n",
       "NP17                0        0      0   4692\n",
       "NP18                0        0      0   6388\n",
       "NP19                0        0      0   5444\n",
       "NP20                0        0      0   2081\n",
       "NP21                0        0      0   3486\n",
       "NP22                0        0      0   4993\n",
       "NP23                0        0      0   7619\n",
       "NP24                0        0      0   6139\n",
       "NP26                0        0      0   3236\n",
       "NP27                0        0      0   2694\n",
       "NP28                0        0      0   5914\n",
       "NP30                0        0      0   3404\n",
       "NP31                0        0      0   4695\n",
       "NP32                0        0      0   3514\n",
       "NP35                0        0      0   1549\n",
       "NP36                0        0      0   4439\n",
       "NP37                0        0      0   3441\n",
       "NP38                0        0      0   3106\n",
       "NP39                0        0      0   4951\n",
       "NP41                0        0      0   3297\n",
       "NP44                0        0      0   5458"
      ]
     },
     "execution_count": 36,
     "metadata": {},
     "output_type": "execute_result"
    }
   ],
   "source": [
    "pd.crosstab(compartments_clean.obs['sample'], compartments_clean.obs['genotype'])"
   ]
  },
  {
   "attachments": {},
   "cell_type": "markdown",
   "metadata": {},
   "source": [
    "### Read in other unannotated dataset and split into groups"
   ]
  },
  {
   "cell_type": "code",
   "execution_count": 38,
   "metadata": {},
   "outputs": [
    {
     "data": {
      "text/plain": [
       "genotype\n",
       "human      141738\n",
       "WT          49318\n",
       "MdxSCID     13495\n",
       "Mdx          2731\n",
       "Name: count, dtype: int64"
      ]
     },
     "execution_count": 38,
     "metadata": {},
     "output_type": "execute_result"
    }
   ],
   "source": [
    "compartments_clean.obs['genotype'].value_counts()"
   ]
  },
  {
   "cell_type": "code",
   "execution_count": 39,
   "metadata": {},
   "outputs": [
    {
     "data": {
      "text/plain": [
       "View of AnnData object with n_obs × n_vars = 191056 × 16060\n",
       "    obs: 'orig.ident', 'Age_group', 'BMI', 'COVID_severity', 'COVID_status', 'Ethnicity', 'Group', 'Sex', 'annotation_broad', 'annotation_detailed', 'sample_id', 'seed_labels', 'donor', 'cell_states', 'sample', 'cell_source', 'genotype', 'nCount_HTO', 'nFeature_HTO', 'HTO_classification', 'Library', 'CD45_Annotation', 'cell_type', 'n_counts', 'n_genes', 'percent_mito', 'percent_ribo', 'region', 'scrublet_score', 'batch', 'doublet_scores', 'n_genes_by_counts', 'total_counts', 'total_counts_mt', 'pct_counts_mt', 'total_counts_ribo', 'pct_counts_ribo', 'percent_mt2', 'percent_chrY', 'XIST-counts', 'S_score', 'G2M_score', '_scvi_batch', '_scvi_labels', 'MPC_Annotation', 'compartment', 'nCount_RNA', 'nFeature_RNA', 'HTO_maxID', 'HTO_secondID', 'HTO_margin', 'hash.ID', 'nCount_ADT', 'nFeature_ADT', 'percent.mt', 'Sample', 'Condition', 'RNA_snn_res.0.2', 'seurat_clusters', 'RNA_snn_res.0.3', 'RNA_snn_res.0.5'\n",
       "    var: 'gene_ids-DMD_immune-DMD', 'feature_types-DMD_immune-DMD', 'genome-DMD_immune-DMD', 'mt-DMD_immune-DMD', 'ribo-DMD_immune-DMD', 'n_cells_by_counts-DMD_immune-DMD', 'mean_counts-DMD_immune-DMD', 'pct_dropout_by_counts-DMD_immune-DMD', 'total_counts-DMD_immune-DMD', 'vst.mean-MDX_MPC-DMD', 'vst.variance-MDX_MPC-DMD', 'vst.variance.expected-MDX_MPC-DMD', 'vst.variance.standardized-MDX_MPC-DMD', 'vst.variable-MDX_MPC-DMD', 'vst.mean-MDX_POOL_NEW-DMD', 'vst.variance-MDX_POOL_NEW-DMD', 'vst.variance.expected-MDX_POOL_NEW-DMD', 'vst.variance.standardized-MDX_POOL_NEW-DMD', 'vst.variable-MDX_POOL_NEW-DMD', 'vst.mean-MDX_MPC', 'vst.variance-MDX_MPC', 'vst.variance.expected-MDX_MPC', 'vst.variance.standardized-MDX_MPC', 'vst.variable-MDX_MPC', 'vst.mean-MDX_POOL_NEW', 'vst.variance-MDX_POOL_NEW', 'vst.variance.expected-MDX_POOL_NEW', 'vst.variance.standardized-MDX_POOL_NEW', 'vst.variable-MDX_POOL_NEW', 'name-pbmc_meyer'"
      ]
     },
     "execution_count": 39,
     "metadata": {},
     "output_type": "execute_result"
    }
   ],
   "source": [
    "reference = compartments_clean[compartments_clean.obs['genotype'].isin(['WT', 'human'])]\n",
    "reference"
   ]
  },
  {
   "cell_type": "code",
   "execution_count": 40,
   "metadata": {},
   "outputs": [
    {
     "data": {
      "text/plain": [
       "AnnData object with n_obs × n_vars = 16226 × 16060\n",
       "    obs: 'orig.ident', 'Age_group', 'BMI', 'COVID_severity', 'COVID_status', 'Ethnicity', 'Group', 'Sex', 'annotation_broad', 'annotation_detailed', 'sample_id', 'seed_labels', 'donor', 'cell_states', 'sample', 'cell_source', 'genotype', 'nCount_HTO', 'nFeature_HTO', 'HTO_classification', 'Library', 'CD45_Annotation', 'cell_type', 'n_counts', 'n_genes', 'percent_mito', 'percent_ribo', 'region', 'scrublet_score', 'batch', 'doublet_scores', 'n_genes_by_counts', 'total_counts', 'total_counts_mt', 'pct_counts_mt', 'total_counts_ribo', 'pct_counts_ribo', 'percent_mt2', 'percent_chrY', 'XIST-counts', 'S_score', 'G2M_score', '_scvi_batch', '_scvi_labels', 'MPC_Annotation', 'compartment', 'nCount_RNA', 'nFeature_RNA', 'HTO_maxID', 'HTO_secondID', 'HTO_margin', 'hash.ID', 'nCount_ADT', 'nFeature_ADT', 'percent.mt', 'Sample', 'Condition', 'RNA_snn_res.0.2', 'seurat_clusters', 'RNA_snn_res.0.3', 'RNA_snn_res.0.5'\n",
       "    var: 'gene_ids-DMD_immune-DMD', 'feature_types-DMD_immune-DMD', 'genome-DMD_immune-DMD', 'mt-DMD_immune-DMD', 'ribo-DMD_immune-DMD', 'n_cells_by_counts-DMD_immune-DMD', 'mean_counts-DMD_immune-DMD', 'pct_dropout_by_counts-DMD_immune-DMD', 'total_counts-DMD_immune-DMD', 'vst.mean-MDX_MPC-DMD', 'vst.variance-MDX_MPC-DMD', 'vst.variance.expected-MDX_MPC-DMD', 'vst.variance.standardized-MDX_MPC-DMD', 'vst.variable-MDX_MPC-DMD', 'vst.mean-MDX_POOL_NEW-DMD', 'vst.variance-MDX_POOL_NEW-DMD', 'vst.variance.expected-MDX_POOL_NEW-DMD', 'vst.variance.standardized-MDX_POOL_NEW-DMD', 'vst.variable-MDX_POOL_NEW-DMD', 'vst.mean-MDX_MPC', 'vst.variance-MDX_MPC', 'vst.variance.expected-MDX_MPC', 'vst.variance.standardized-MDX_MPC', 'vst.variable-MDX_MPC', 'vst.mean-MDX_POOL_NEW', 'vst.variance-MDX_POOL_NEW', 'vst.variance.expected-MDX_POOL_NEW', 'vst.variance.standardized-MDX_POOL_NEW', 'vst.variable-MDX_POOL_NEW', 'name-pbmc_meyer'"
      ]
     },
     "execution_count": 40,
     "metadata": {},
     "output_type": "execute_result"
    }
   ],
   "source": [
    "query = compartments_clean[~compartments_clean.obs['genotype'].isin(['WT', 'human'])]\n",
    "query.obs['seed_labels'] = 'Unknown'\n",
    "query"
   ]
  },
  {
   "cell_type": "code",
   "execution_count": 41,
   "metadata": {},
   "outputs": [
    {
     "data": {
      "text/plain": [
       "AnnData object with n_obs × n_vars = 207282 × 16060\n",
       "    obs: 'orig.ident', 'Age_group', 'BMI', 'COVID_severity', 'COVID_status', 'Ethnicity', 'Group', 'Sex', 'annotation_broad', 'annotation_detailed', 'sample_id', 'seed_labels', 'donor', 'cell_states', 'sample', 'cell_source', 'genotype', 'nCount_HTO', 'nFeature_HTO', 'HTO_classification', 'Library', 'CD45_Annotation', 'cell_type', 'n_counts', 'n_genes', 'percent_mito', 'percent_ribo', 'region', 'scrublet_score', 'batch', 'doublet_scores', 'n_genes_by_counts', 'total_counts', 'total_counts_mt', 'pct_counts_mt', 'total_counts_ribo', 'pct_counts_ribo', 'percent_mt2', 'percent_chrY', 'XIST-counts', 'S_score', 'G2M_score', '_scvi_batch', '_scvi_labels', 'MPC_Annotation', 'compartment', 'nCount_RNA', 'nFeature_RNA', 'HTO_maxID', 'HTO_secondID', 'HTO_margin', 'hash.ID', 'nCount_ADT', 'nFeature_ADT', 'percent.mt', 'Sample', 'Condition', 'RNA_snn_res.0.2', 'seurat_clusters', 'RNA_snn_res.0.3', 'RNA_snn_res.0.5'\n",
       "    var: 'gene_ids-DMD_immune-DMD', 'feature_types-DMD_immune-DMD', 'genome-DMD_immune-DMD', 'mt-DMD_immune-DMD', 'ribo-DMD_immune-DMD', 'n_cells_by_counts-DMD_immune-DMD', 'mean_counts-DMD_immune-DMD', 'pct_dropout_by_counts-DMD_immune-DMD', 'total_counts-DMD_immune-DMD', 'vst.mean-MDX_MPC-DMD', 'vst.variance-MDX_MPC-DMD', 'vst.variance.expected-MDX_MPC-DMD', 'vst.variance.standardized-MDX_MPC-DMD', 'vst.variable-MDX_MPC-DMD', 'vst.mean-MDX_POOL_NEW-DMD', 'vst.variance-MDX_POOL_NEW-DMD', 'vst.variance.expected-MDX_POOL_NEW-DMD', 'vst.variance.standardized-MDX_POOL_NEW-DMD', 'vst.variable-MDX_POOL_NEW-DMD', 'vst.mean-MDX_MPC', 'vst.variance-MDX_MPC', 'vst.variance.expected-MDX_MPC', 'vst.variance.standardized-MDX_MPC', 'vst.variable-MDX_MPC', 'vst.mean-MDX_POOL_NEW', 'vst.variance-MDX_POOL_NEW', 'vst.variance.expected-MDX_POOL_NEW', 'vst.variance.standardized-MDX_POOL_NEW', 'vst.variable-MDX_POOL_NEW', 'name-pbmc_meyer'"
      ]
     },
     "execution_count": 41,
     "metadata": {},
     "output_type": "execute_result"
    }
   ],
   "source": [
    "adata = reference.concatenate(query, batch_key = 'batch', batch_categories = ['reference', 'query'], join = 'inner')\n",
    "adata"
   ]
  },
  {
   "cell_type": "code",
   "execution_count": 42,
   "metadata": {},
   "outputs": [
    {
     "data": {
      "text/plain": [
       "Index(['CV001_KM10202384-CV001_KM10202394_AAACCTGAGTGTCCCG-1-pbmc_meyer-reference',\n",
       "       'CV001_KM10202384-CV001_KM10202394_AAACCTGCAGATGGGT-1-pbmc_meyer-reference',\n",
       "       'CV001_KM10202384-CV001_KM10202394_AAACCTGGTATAGTAG-1-pbmc_meyer-reference',\n",
       "       'CV001_KM10202384-CV001_KM10202394_AAACCTGGTGTGCGTC-1-pbmc_meyer-reference',\n",
       "       'CV001_KM10202384-CV001_KM10202394_AAACCTGTCATTTGGG-1-pbmc_meyer-reference',\n",
       "       'CV001_KM10202384-CV001_KM10202394_AAACCTGTCCGAAGAG-1-pbmc_meyer-reference',\n",
       "       'CV001_KM10202384-CV001_KM10202394_AAACCTGTCTGCTTGC-1-pbmc_meyer-reference',\n",
       "       'CV001_KM10202384-CV001_KM10202394_AAACGGGCAATGCCAT-1-pbmc_meyer-reference',\n",
       "       'CV001_KM10202384-CV001_KM10202394_AAACGGGCAGTGGGAT-1-pbmc_meyer-reference',\n",
       "       'CV001_KM10202384-CV001_KM10202394_AAACGGGGTCATCCCT-1-pbmc_meyer-reference',\n",
       "       ...\n",
       "       'TTCTAACAGTCACACT-1_2-MDX_MPC-query',\n",
       "       'TTCTCTCGTGTCTAAC-1_2-MDX_MPC-query',\n",
       "       'TTGAGTGCACTCCGAG-1_2-MDX_MPC-query',\n",
       "       'TTGCATTGTCAAGGCA-1_2-MDX_MPC-query',\n",
       "       'TTGGGCGTCCCGTGAG-1_2-MDX_MPC-query',\n",
       "       'TTGGGCGTCTTCTCAA-1_2-MDX_MPC-query',\n",
       "       'TTGTGGAAGACTGGGT-1_2-MDX_MPC-query',\n",
       "       'TTTACTGAGATCACTC-1_2-MDX_MPC-query',\n",
       "       'TTTCAGTAGTGGAAGA-1_2-MDX_MPC-query',\n",
       "       'TTTGGAGAGGATAATC-1_2-MDX_MPC-query'],\n",
       "      dtype='object', length=207282)"
      ]
     },
     "execution_count": 42,
     "metadata": {},
     "output_type": "execute_result"
    }
   ],
   "source": [
    "adata.obs_names"
   ]
  },
  {
   "cell_type": "code",
   "execution_count": 43,
   "metadata": {},
   "outputs": [
    {
     "data": {
      "text/plain": [
       "Index(['CV001_KM10202384-CV001_KM10202394_AAACCTGAGTGTCCCG-1',\n",
       "       'CV001_KM10202384-CV001_KM10202394_AAACCTGCAGATGGGT-1',\n",
       "       'CV001_KM10202384-CV001_KM10202394_AAACCTGGTATAGTAG-1',\n",
       "       'CV001_KM10202384-CV001_KM10202394_AAACCTGGTGTGCGTC-1',\n",
       "       'CV001_KM10202384-CV001_KM10202394_AAACCTGTCATTTGGG-1',\n",
       "       'CV001_KM10202384-CV001_KM10202394_AAACCTGTCCGAAGAG-1',\n",
       "       'CV001_KM10202384-CV001_KM10202394_AAACCTGTCTGCTTGC-1',\n",
       "       'CV001_KM10202384-CV001_KM10202394_AAACGGGCAATGCCAT-1',\n",
       "       'CV001_KM10202384-CV001_KM10202394_AAACGGGCAGTGGGAT-1',\n",
       "       'CV001_KM10202384-CV001_KM10202394_AAACGGGGTCATCCCT-1',\n",
       "       ...\n",
       "       'TTCTAACAGTCACACT-1_2-MDX_MPC', 'TTCTCTCGTGTCTAAC-1_2-MDX_MPC',\n",
       "       'TTGAGTGCACTCCGAG-1_2-MDX_MPC', 'TTGCATTGTCAAGGCA-1_2-MDX_MPC',\n",
       "       'TTGGGCGTCCCGTGAG-1_2-MDX_MPC', 'TTGGGCGTCTTCTCAA-1_2-MDX_MPC',\n",
       "       'TTGTGGAAGACTGGGT-1_2-MDX_MPC', 'TTTACTGAGATCACTC-1_2-MDX_MPC',\n",
       "       'TTTCAGTAGTGGAAGA-1_2-MDX_MPC', 'TTTGGAGAGGATAATC-1_2-MDX_MPC'],\n",
       "      dtype='object', length=207282)"
      ]
     },
     "execution_count": 43,
     "metadata": {},
     "output_type": "execute_result"
    }
   ],
   "source": [
    "adata.obs.index = pd.Index(['-'.join(idx.split('-')[:3]) for idx in adata.obs.index])\n",
    "adata.obs_names"
   ]
  },
  {
   "cell_type": "markdown",
   "metadata": {},
   "source": [
    "- Clean merged object"
   ]
  },
  {
   "cell_type": "code",
   "execution_count": 44,
   "metadata": {},
   "outputs": [
    {
     "data": {
      "text/plain": [
       "AnnData object with n_obs × n_vars = 207282 × 16060\n",
       "    obs: 'orig.ident', 'Age_group', 'BMI', 'COVID_severity', 'COVID_status', 'Ethnicity', 'Group', 'Sex', 'annotation_broad', 'annotation_detailed', 'sample_id', 'seed_labels', 'donor', 'cell_states', 'sample', 'cell_source', 'genotype', 'nCount_HTO', 'nFeature_HTO', 'HTO_classification', 'Library', 'CD45_Annotation', 'cell_type', 'n_counts', 'n_genes', 'percent_mito', 'percent_ribo', 'region', 'scrublet_score', 'batch', 'doublet_scores', 'n_genes_by_counts', 'total_counts', 'total_counts_mt', 'pct_counts_mt', 'total_counts_ribo', 'pct_counts_ribo', 'percent_mt2', 'percent_chrY', 'XIST-counts', 'S_score', 'G2M_score', '_scvi_batch', '_scvi_labels', 'MPC_Annotation', 'compartment'\n",
       "    var: 'gene_ids-DMD_immune-DMD', 'feature_types-DMD_immune-DMD', 'genome-DMD_immune-DMD', 'mt-DMD_immune-DMD', 'ribo-DMD_immune-DMD', 'n_cells_by_counts-DMD_immune-DMD', 'mean_counts-DMD_immune-DMD', 'pct_dropout_by_counts-DMD_immune-DMD', 'total_counts-DMD_immune-DMD', 'vst.mean-MDX_MPC-DMD', 'vst.variance-MDX_MPC-DMD', 'vst.variance.expected-MDX_MPC-DMD', 'vst.variance.standardized-MDX_MPC-DMD', 'vst.variable-MDX_MPC-DMD', 'vst.mean-MDX_POOL_NEW-DMD', 'vst.variance-MDX_POOL_NEW-DMD', 'vst.variance.expected-MDX_POOL_NEW-DMD', 'vst.variance.standardized-MDX_POOL_NEW-DMD', 'vst.variable-MDX_POOL_NEW-DMD', 'vst.mean-MDX_MPC', 'vst.variance-MDX_MPC', 'vst.variance.expected-MDX_MPC', 'vst.variance.standardized-MDX_MPC', 'vst.variable-MDX_MPC', 'vst.mean-MDX_POOL_NEW', 'vst.variance-MDX_POOL_NEW', 'vst.variance.expected-MDX_POOL_NEW', 'vst.variance.standardized-MDX_POOL_NEW', 'vst.variable-MDX_POOL_NEW', 'name-pbmc_meyer'"
      ]
     },
     "execution_count": 44,
     "metadata": {},
     "output_type": "execute_result"
    }
   ],
   "source": [
    "del(adata.obs['Condition'])\n",
    "del(adata.obs['hash.ID'])\n",
    "del(adata.obs['Sample'])\n",
    "del(adata.obs['HTO_maxID'])\n",
    "del(adata.obs['HTO_secondID'])\n",
    "del(adata.obs['HTO_margin'])\n",
    "del(adata.obs['nCount_RNA'])\n",
    "del(adata.obs['nFeature_RNA'])\n",
    "del(adata.obs['nCount_ADT'])\n",
    "del(adata.obs['nFeature_ADT'])\n",
    "del(adata.obs['percent.mt'])\n",
    "del(adata.obs['RNA_snn_res.0.2'])\n",
    "del(adata.obs['seurat_clusters'])\n",
    "del(adata.obs['RNA_snn_res.0.3'])\n",
    "del(adata.obs['RNA_snn_res.0.5'])\n",
    "adata"
   ]
  },
  {
   "cell_type": "code",
   "execution_count": 45,
   "metadata": {},
   "outputs": [
    {
     "data": {
      "image/png": "[encoded data removed]",
      "text/plain": [
       "<Figure size 938.7x720 with 1 Axes>"
      ]
     },
     "metadata": {
      "image/png": {
       "height": 720,
       "width": 907
      }
     },
     "output_type": "display_data"
    }
   ],
   "source": [
    "sc.pl.scatter(adata, x = 'total_counts', y = 'n_genes', color = \"genotype\", frameon = False)"
   ]
  },
  {
   "cell_type": "code",
   "execution_count": 46,
   "metadata": {},
   "outputs": [
    {
     "data": {
      "text/plain": [
       "genotype\n",
       "human      141738\n",
       "WT          49318\n",
       "MdxSCID     13495\n",
       "Mdx          2731\n",
       "Name: count, dtype: int64"
      ]
     },
     "execution_count": 46,
     "metadata": {},
     "output_type": "execute_result"
    }
   ],
   "source": [
    "adata.obs['genotype'].value_counts()"
   ]
  },
  {
   "cell_type": "code",
   "execution_count": 47,
   "metadata": {},
   "outputs": [
    {
     "data": {
      "text/plain": [
       "sample\n",
       "A10_2               46783\n",
       "B1_2                 9650\n",
       "NP13                 8737\n",
       "NP23                 7619\n",
       "AN13                 6860\n",
       "NP18                 6388\n",
       "AN7                  6165\n",
       "NP24                 6139\n",
       "NP28                 5914\n",
       "AN12                 5564\n",
       "NP44                 5458\n",
       "NP19                 5444\n",
       "AN2                  5180\n",
       "NP22                 4993\n",
       "NP39                 4951\n",
       "NP31                 4695\n",
       "NP17                 4692\n",
       "NP36                 4439\n",
       "NP32                 3514\n",
       "NP21                 3486\n",
       "NP37                 3441\n",
       "NP30                 3404\n",
       "AN9                  3387\n",
       "NP41                 3297\n",
       "NP26                 3236\n",
       "AN6                  3173\n",
       "NP38                 3106\n",
       "AN5                  3010\n",
       "NP15                 2973\n",
       "NP27                 2694\n",
       "NP20                 2081\n",
       "B2_2                 1917\n",
       "NP16                 1783\n",
       "AN14                 1732\n",
       "NP35                 1549\n",
       "AN11                 1263\n",
       "AN3                   765\n",
       "A9_2                  684\n",
       "AN1                   606\n",
       "Hashtag7-TotalA       595\n",
       "Hashtag4-TotalA       593\n",
       "Hashtag1-TotalA       549\n",
       "Hashtag15-TotalA      502\n",
       "Hashtag9-TotalA       486\n",
       "Hashtag8-TotalA       418\n",
       "Hashtag2-TotalA       413\n",
       "Hashtag12-TotalA      412\n",
       "Hashtag11-TotalA      409\n",
       "Hashtag6-TotalA       379\n",
       "A11_2                 350\n",
       "Hashtag13-TotalA      324\n",
       "A12_2                 316\n",
       "Hashtag5-TotalA       227\n",
       "Hashtag14-TotalA      204\n",
       "Hashtag10-TotalA      187\n",
       "Hashtag3-TotalA       146\n",
       "Name: count, dtype: int64"
      ]
     },
     "execution_count": 47,
     "metadata": {},
     "output_type": "execute_result"
    }
   ],
   "source": [
    "adata.obs['sample'].value_counts()"
   ]
  },
  {
   "attachments": {},
   "cell_type": "markdown",
   "metadata": {},
   "source": [
    "### Select HVGs"
   ]
  },
  {
   "cell_type": "code",
   "execution_count": 48,
   "metadata": {},
   "outputs": [
    {
     "name": "stdout",
     "output_type": "stream",
     "text": [
      "extracting highly variable genes\n",
      "--> added\n",
      "    'highly_variable', boolean vector (adata.var)\n",
      "    'highly_variable_rank', float vector (adata.var)\n",
      "    'means', float vector (adata.var)\n",
      "    'variances', float vector (adata.var)\n",
      "    'variances_norm', float vector (adata.var)\n"
     ]
    },
    {
     "data": {
      "text/plain": [
       "AnnData object with n_obs × n_vars = 207282 × 7000\n",
       "    obs: 'orig.ident', 'Age_group', 'BMI', 'COVID_severity', 'COVID_status', 'Ethnicity', 'Group', 'Sex', 'annotation_broad', 'annotation_detailed', 'sample_id', 'seed_labels', 'donor', 'cell_states', 'sample', 'cell_source', 'genotype', 'nCount_HTO', 'nFeature_HTO', 'HTO_classification', 'Library', 'CD45_Annotation', 'cell_type', 'n_counts', 'n_genes', 'percent_mito', 'percent_ribo', 'region', 'scrublet_score', 'batch', 'doublet_scores', 'n_genes_by_counts', 'total_counts', 'total_counts_mt', 'pct_counts_mt', 'total_counts_ribo', 'pct_counts_ribo', 'percent_mt2', 'percent_chrY', 'XIST-counts', 'S_score', 'G2M_score', '_scvi_batch', '_scvi_labels', 'MPC_Annotation', 'compartment'\n",
       "    var: 'gene_ids-DMD_immune-DMD', 'feature_types-DMD_immune-DMD', 'genome-DMD_immune-DMD', 'mt-DMD_immune-DMD', 'ribo-DMD_immune-DMD', 'n_cells_by_counts-DMD_immune-DMD', 'mean_counts-DMD_immune-DMD', 'pct_dropout_by_counts-DMD_immune-DMD', 'total_counts-DMD_immune-DMD', 'vst.mean-MDX_MPC-DMD', 'vst.variance-MDX_MPC-DMD', 'vst.variance.expected-MDX_MPC-DMD', 'vst.variance.standardized-MDX_MPC-DMD', 'vst.variable-MDX_MPC-DMD', 'vst.mean-MDX_POOL_NEW-DMD', 'vst.variance-MDX_POOL_NEW-DMD', 'vst.variance.expected-MDX_POOL_NEW-DMD', 'vst.variance.standardized-MDX_POOL_NEW-DMD', 'vst.variable-MDX_POOL_NEW-DMD', 'vst.mean-MDX_MPC', 'vst.variance-MDX_MPC', 'vst.variance.expected-MDX_MPC', 'vst.variance.standardized-MDX_MPC', 'vst.variable-MDX_MPC', 'vst.mean-MDX_POOL_NEW', 'vst.variance-MDX_POOL_NEW', 'vst.variance.expected-MDX_POOL_NEW', 'vst.variance.standardized-MDX_POOL_NEW', 'vst.variable-MDX_POOL_NEW', 'name-pbmc_meyer', 'highly_variable', 'highly_variable_rank', 'means', 'variances', 'variances_norm', 'highly_variable_nbatches'\n",
       "    uns: 'genotype_colors', 'hvg'\n",
       "    layers: 'counts'"
      ]
     },
     "execution_count": 48,
     "metadata": {},
     "output_type": "execute_result"
    }
   ],
   "source": [
    "adata_raw = adata.copy()\n",
    "adata.layers['counts'] = adata.X.copy()\n",
    "\n",
    "sc.pp.highly_variable_genes(\n",
    "    adata,\n",
    "    flavor = \"seurat_v3\",\n",
    "    n_top_genes = 7000,\n",
    "    layer = \"counts\",\n",
    "    batch_key = \"sample\",\n",
    "    subset = True,\n",
    "    span = 1\n",
    ")\n",
    "adata"
   ]
  },
  {
   "attachments": {},
   "cell_type": "markdown",
   "metadata": {},
   "source": [
    "### Transfer of annotation with scANVI"
   ]
  },
  {
   "cell_type": "code",
   "execution_count": 49,
   "metadata": {},
   "outputs": [
    {
     "name": "stderr",
     "output_type": "stream",
     "text": [
      "An NVIDIA GPU may be present on this machine, but a CUDA-enabled jaxlib is not installed. Falling back to cpu.\n"
     ]
    }
   ],
   "source": [
    "scvi.model.SCVI.setup_anndata(adata,\n",
    "                              batch_key = \"sample\", \n",
    "                            categorical_covariate_keys = [\"donor\", \"cell_source\"], \n",
    "                            labels_key = \"seed_labels\", \n",
    "                            layer = 'counts')"
   ]
  },
  {
   "cell_type": "code",
   "execution_count": 50,
   "metadata": {},
   "outputs": [],
   "source": [
    "scvi_model = scvi.model.SCVI(adata, \n",
    "                             n_latent = 150, \n",
    "                             n_layers = 3, \n",
    "                             dispersion = 'gene-batch', \n",
    "                             gene_likelihood = 'nb')"
   ]
  },
  {
   "cell_type": "code",
   "execution_count": 51,
   "metadata": {},
   "outputs": [
    {
     "name": "stderr",
     "output_type": "stream",
     "text": [
      "GPU available: True (cuda), used: True\n",
      "TPU available: False, using: 0 TPU cores\n",
      "IPU available: False, using: 0 IPUs\n",
      "HPU available: False, using: 0 HPUs\n",
      "LOCAL_RANK: 0 - CUDA_VISIBLE_DEVICES: [0,1]\n"
     ]
    },
    {
     "name": "stdout",
     "output_type": "stream",
     "text": [
      "Epoch 20/20: 100%|██████████| 20/20 [02:48<00:00,  8.35s/it, v_num=1, train_loss_step=1.9e+3, train_loss_epoch=2.02e+3] "
     ]
    },
    {
     "name": "stderr",
     "output_type": "stream",
     "text": [
      "`Trainer.fit` stopped: `max_epochs=20` reached.\n"
     ]
    },
    {
     "name": "stdout",
     "output_type": "stream",
     "text": [
      "Epoch 20/20: 100%|██████████| 20/20 [02:48<00:00,  8.44s/it, v_num=1, train_loss_step=1.9e+3, train_loss_epoch=2.02e+3]\n"
     ]
    }
   ],
   "source": [
    "scvi_model.train(20, \n",
    "                 check_val_every_n_epoch = 1, \n",
    "                 enable_progress_bar = True, \n",
    "                 accelerator = 'gpu',\n",
    "                 devices = [0])"
   ]
  },
  {
   "cell_type": "code",
   "execution_count": 52,
   "metadata": {},
   "outputs": [],
   "source": [
    "adata.obsm[\"X_scVI\"] = scvi_model.get_latent_representation(adata)"
   ]
  },
  {
   "cell_type": "markdown",
   "metadata": {},
   "source": [
    "### Evaluate model performance using the [_Svensson_](https://www.nxn.se/valent/2023/8/10/training-scvi-posterior-predictive-distributions-over-epochs) method"
   ]
  },
  {
   "cell_type": "code",
   "execution_count": 53,
   "metadata": {},
   "outputs": [
    {
     "data": {
      "image/png": "[encoded data removed]"
     },
     "metadata": {
      "image/png": {
       "height": 900,
       "width": 1800
      }
     },
     "output_type": "display_data"
    },
    {
     "name": "stdout",
     "output_type": "stream",
     "text": [
      "\n"
     ]
    }
   ],
   "source": [
    "history_df = (\n",
    "    scvi_model.history['elbo_train'].astype(float)\n",
    "    .join(scvi_model.history['elbo_validation'].astype(float))\n",
    "    .reset_index()\n",
    "    .melt(id_vars = ['epoch'])\n",
    ")\n",
    "\n",
    "p.options.figure_size = 12, 6\n",
    "\n",
    "p_ = (\n",
    "    p.ggplot(p.aes(x = 'epoch', y = 'value', color = 'variable'), history_df.query('epoch > 0'))\n",
    "    + p.geom_line()\n",
    "    + p.geom_point()\n",
    "    + p.scale_color_manual({'elbo_train': 'black', 'elbo_validation': 'red'})\n",
    "    + p.theme_minimal()\n",
    ")\n",
    "\n",
    "p_.save('fig1.png', dpi = 300)\n",
    "\n",
    "print(p_)"
   ]
  },
  {
   "attachments": {},
   "cell_type": "markdown",
   "metadata": {},
   "source": [
    "### Label transfer with `scANVI` "
   ]
  },
  {
   "cell_type": "code",
   "execution_count": 54,
   "metadata": {},
   "outputs": [],
   "source": [
    "scanvi_model = scvi.model.SCANVI.from_scvi_model(scvi_model, 'Unknown')"
   ]
  },
  {
   "cell_type": "code",
   "execution_count": 55,
   "metadata": {},
   "outputs": [
    {
     "name": "stdout",
     "output_type": "stream",
     "text": [
      "\u001b[34mINFO    \u001b[0m Training for \u001b[1;36m20\u001b[0m epochs.                                                                                   \n"
     ]
    },
    {
     "name": "stderr",
     "output_type": "stream",
     "text": [
      "GPU available: True (cuda), used: True\n",
      "TPU available: False, using: 0 TPU cores\n",
      "IPU available: False, using: 0 IPUs\n",
      "HPU available: False, using: 0 HPUs\n",
      "LOCAL_RANK: 0 - CUDA_VISIBLE_DEVICES: [0,1]\n"
     ]
    },
    {
     "name": "stdout",
     "output_type": "stream",
     "text": [
      "Epoch 9/20:  40%|████      | 8/20 [02:56<04:13, 21.11s/it, v_num=1, train_loss_step=1.96e+3, train_loss_epoch=2.01e+3]"
     ]
    }
   ],
   "source": [
    "scanvi_model.train(20, \n",
    "                 check_val_every_n_epoch = 1, \n",
    "                 enable_progress_bar = True, \n",
    "                 accelerator = 'gpu',\n",
    "                 devices = [0])"
   ]
  },
  {
   "cell_type": "code",
   "execution_count": null,
   "metadata": {},
   "outputs": [],
   "source": [
    "adata.obs[\"C_scANVI_S1\"] = scanvi_model.predict(adata)"
   ]
  },
  {
   "attachments": {},
   "cell_type": "markdown",
   "metadata": {},
   "source": [
    "- Extract latent representation"
   ]
  },
  {
   "cell_type": "code",
   "execution_count": null,
   "metadata": {},
   "outputs": [],
   "source": [
    "adata.obsm[\"X_scANVI\"] = scanvi_model.get_latent_representation(adata)"
   ]
  },
  {
   "cell_type": "markdown",
   "metadata": {},
   "source": [
    "### Explore model performance using the [_Svensson_](https://www.nxn.se/valent/2023/8/10/training-scvi-posterior-predictive-distributions-over-epochs) method"
   ]
  },
  {
   "cell_type": "code",
   "execution_count": null,
   "metadata": {},
   "outputs": [],
   "source": [
    "history_df = (\n",
    "    scanvi_model.history['elbo_train'].astype(float)\n",
    "    .join(scanvi_model.history['elbo_validation'].astype(float))\n",
    "    .reset_index()\n",
    "    .melt(id_vars = ['epoch'])\n",
    ")\n",
    "\n",
    "p.options.figure_size = 12, 6\n",
    "\n",
    "p_ = (\n",
    "    p.ggplot(p.aes(x = 'epoch', y = 'value', color = 'variable'), history_df.query('epoch > 0'))\n",
    "    + p.geom_line()\n",
    "    + p.geom_point()\n",
    "    + p.scale_color_manual({'elbo_train': 'black', 'elbo_validation': 'red'})\n",
    "    + p.theme_minimal()\n",
    ")\n",
    "\n",
    "p_.save('fig1.png', dpi = 300)\n",
    "\n",
    "print(p_)"
   ]
  },
  {
   "attachments": {},
   "cell_type": "markdown",
   "metadata": {},
   "source": [
    "### Visualise corrected dataset"
   ]
  },
  {
   "cell_type": "code",
   "execution_count": null,
   "metadata": {},
   "outputs": [],
   "source": [
    "sc.pp.neighbors(adata, use_rep = \"X_scANVI\", n_neighbors = 50, metric = 'minkowski')\n",
    "sc.tl.umap(adata, min_dist = 0.2, spread = 3, random_state = 1712)\n",
    "sc.pl.umap(adata, frameon = False, color = ['genotype', 'C_scANVI_S1', 'cell_source', 'seed_labels', 'sample'], size = 0.8, legend_fontsize = 5, ncols = 3)"
   ]
  },
  {
   "cell_type": "code",
   "execution_count": null,
   "metadata": {},
   "outputs": [],
   "source": [
    "sc.pl.umap(adata, frameon = False, color = ['n_genes', 'doublet_scores', 'batch', 'n_genes_by_counts', 'total_counts', 'total_counts_mt', 'pct_counts_mt', 'total_counts_ribo', 'pct_counts_ribo', 'n_counts'], size = 1, legend_fontsize = 5, ncols = 4, cmap = 'magma')"
   ]
  },
  {
   "cell_type": "markdown",
   "metadata": {},
   "source": [
    "### Modify object to plot canonical marker genes"
   ]
  },
  {
   "cell_type": "code",
   "execution_count": null,
   "metadata": {},
   "outputs": [],
   "source": [
    "adata_toplot = anndata.AnnData(X = np.sqrt(sc.pp.normalize_total(adata_raw, inplace = False)[\"X\"]), var = adata_raw.var, obs = adata.obs, obsm = adata.obsm)\n",
    "adata_toplot"
   ]
  },
  {
   "cell_type": "code",
   "execution_count": null,
   "metadata": {},
   "outputs": [],
   "source": [
    "sc.pl.umap(adata_toplot, frameon = False, color = ['C_scANVI_S1', 'C1qa', 'Cd3e', 'Trem2', 'Adipoq', 'Nrxn1', 'Msln'], size = 1, legend_fontsize = 5, ncols = 4, cmap = 'RdPu')"
   ]
  },
  {
   "cell_type": "markdown",
   "metadata": {},
   "source": [
    "### Visualise proportions"
   ]
  },
  {
   "cell_type": "code",
   "execution_count": null,
   "metadata": {},
   "outputs": [],
   "source": [
    "sc.pl.umap(adata, frameon = False, color = ['sample', 'genotype', 'C_scANVI_S1'], size = 0.6, legend_fontsize = 5, ncols = 4)"
   ]
  },
  {
   "cell_type": "code",
   "execution_count": null,
   "metadata": {},
   "outputs": [],
   "source": [
    "bauhaus_colors = ['#FF0000', '#FFFF00', '#000000', '#4D5D53', '#0000FF', '#808080']"
   ]
  },
  {
   "cell_type": "code",
   "execution_count": null,
   "metadata": {},
   "outputs": [],
   "source": [
    "sc.pl.umap(adata, frameon = False, color = ['genotype'], size = 0.6, legend_fontsize = 5, ncols = 4, palette = bauhaus_colors)"
   ]
  },
  {
   "cell_type": "code",
   "execution_count": null,
   "metadata": {},
   "outputs": [],
   "source": [
    "df = adata_toplot.obs.groupby(['genotype', 'C_scANVI_S1']).size().reset_index(name = 'counts')\n",
    "\n",
    "grouped = df.groupby('genotype')['counts'].apply(lambda x: x / x.sum() * 100)\n",
    "grouped = grouped.reset_index()\n",
    "\n",
    "df['proportions'] = grouped['counts']\n",
    "df['waffle_counts'] = (df['proportions'] * 10).astype(int)"
   ]
  },
  {
   "cell_type": "code",
   "execution_count": null,
   "metadata": {},
   "outputs": [],
   "source": [
    "def generate_modified_bauhaus_palette(n_colors):\n",
    "    # Define specific shades\n",
    "    base_colors = [\n",
    "        (1, 0, 0),      # Red\n",
    "        (0.07, 0.04, 0.56),  # Ultramarine blue\n",
    "        (0, 0.28, 0.67),  # Cobalt blue\n",
    "        (1, 0.9, 0),  # Bauhaus yellow\n",
    "        (0, 0, 0),  # Black\n",
    "        (0.5, 0, 0.5),  # Purple\n",
    "        (1, 0.55, 0),  # Orange\n",
    "        (0.54, 0.17, 0.89),  # Violet\n",
    "    ]\n",
    "\n",
    "    # Create more distinct variations of each base color\n",
    "    colors = []\n",
    "    variation_steps = n_colors // len(base_colors) + 1\n",
    "    for color in base_colors:\n",
    "        for i in range(variation_steps):\n",
    "            # Adjusting brightness and saturation\n",
    "            variation = tuple(min(max(c * (0.8 + i * 0.1), 0), 1) for c in color)\n",
    "            colors.append(variation)\n",
    "\n",
    "    # Ensure we only use the number of colors needed\n",
    "    unique_colors = []\n",
    "    for color in colors:\n",
    "        if color not in unique_colors:\n",
    "            unique_colors.append(color)\n",
    "        if len(unique_colors) == n_colors:\n",
    "            break\n",
    "\n",
    "    # Shuffle the unique colors\n",
    "    np.random.shuffle(unique_colors)\n",
    "\n",
    "    return unique_colors\n",
    "\n",
    "# Generate the modified palette\n",
    "bauhaus_palette = generate_modified_bauhaus_palette(18)"
   ]
  },
  {
   "cell_type": "code",
   "execution_count": null,
   "metadata": {},
   "outputs": [],
   "source": [
    "for group in df['genotype'].unique():\n",
    "    temp_df = df[df['genotype'] == group]\n",
    "    data = dict(zip(temp_df['C_scANVI_S1'], temp_df['waffle_counts']))\n",
    "\n",
    "    # Ensure the color list matches the number of cell types\n",
    "    colors = [bauhaus_palette[i % len(bauhaus_palette)] for i in range(len(temp_df['C_scANVI_S1']))]\n",
    "\n",
    "    fig = plt.figure(\n",
    "        FigureClass=Waffle, \n",
    "        rows=7, \n",
    "        values=data, \n",
    "        title={'label': f'Genotype {group}', 'loc': 'left', 'fontsize': 14},\n",
    "        labels=[f\"{k} ({v}%)\" for k, v in zip(temp_df['C_scANVI_S1'], temp_df['proportions'].round(2))],\n",
    "        legend={'loc': 'lower left', 'bbox_to_anchor': (0, -0.4), 'ncol': len(data), 'framealpha': 0, 'fontsize': 14},\n",
    "        figsize=(40, 4),\n",
    "        colors=colors\n",
    "    )\n",
    "    plt.show()"
   ]
  },
  {
   "attachments": {},
   "cell_type": "markdown",
   "metadata": {},
   "source": [
    "### Prepare object for export"
   ]
  },
  {
   "cell_type": "markdown",
   "metadata": {},
   "source": [
    "- Fix label for cell annotation"
   ]
  },
  {
   "cell_type": "code",
   "execution_count": null,
   "metadata": {},
   "outputs": [],
   "source": [
    "adata.obs['cell_type'] = adata.obs['C_scANVI_S1'].copy()\n",
    "adata.obs['cell_type'] = adata.obs['cell_type'].astype('category')\n",
    "adata.obs['cell_type'].cat.categories"
   ]
  },
  {
   "cell_type": "code",
   "execution_count": null,
   "metadata": {},
   "outputs": [],
   "source": [
    "adata"
   ]
  },
  {
   "cell_type": "code",
   "execution_count": null,
   "metadata": {},
   "outputs": [],
   "source": [
    "adata_query = adata[adata.obs['compartment'].isin(['MDX_POOL_NEW', 'DMD', 'MDX_MPC'])]\n",
    "adata_query"
   ]
  },
  {
   "cell_type": "raw",
   "metadata": {
    "vscode": {
     "languageId": "raw"
    }
   },
   "source": [
    "adata_query.obs.index = pd.Index(['-'.join(idx.split('-')[:3]) for idx in adata_query.obs.index])\n",
    "adata_query.obs_names"
   ]
  },
  {
   "cell_type": "code",
   "execution_count": null,
   "metadata": {},
   "outputs": [],
   "source": [
    "pd.crosstab(adata_query.obs['cell_type'], adata_query.obs['genotype'])"
   ]
  },
  {
   "cell_type": "code",
   "execution_count": null,
   "metadata": {},
   "outputs": [],
   "source": [
    "adata_export_raw.obs['cell_type'] = adata_query.obs['cell_type'].copy()"
   ]
  },
  {
   "cell_type": "code",
   "execution_count": null,
   "metadata": {},
   "outputs": [],
   "source": [
    "common_obs_names = adata_export_raw.obs_names[adata_export_raw.obs_names.isin(adata_query.obs_names)]\n",
    "common_obs_names"
   ]
  },
  {
   "cell_type": "code",
   "execution_count": null,
   "metadata": {},
   "outputs": [],
   "source": [
    "adata_subset = adata_export_raw[common_obs_names]\n",
    "adata_subset"
   ]
  },
  {
   "cell_type": "code",
   "execution_count": null,
   "metadata": {},
   "outputs": [],
   "source": [
    "# Remove duplicate obs_names from adata_export_raw\n",
    "adata_export_raw.obs_names_make_unique()\n",
    "\n",
    "# Remove duplicate obs_names from adata_export\n",
    "adata_export.obs_names_make_unique()\n",
    "\n",
    "# Get the common obs_names between adata_export_raw and adata_export\n",
    "common_obs_names = adata_export_raw.obs_names.isin(adata_export.obs_names)\n",
    "\n",
    "# Create a new AnnData object with the common cells\n",
    "adata_subset = adata_export_raw[common_obs_names]\n",
    "\n",
    "# Assign 'cell_type' and 'genotype' columns to the new subset\n",
    "adata_subset.obs['cell_type'] = adata_export.obs.loc[common_obs_names, 'cell_type']\n",
    "adata_subset.obs['genotype'] = adata_export.obs.loc[common_obs_names, 'genotype']"
   ]
  },
  {
   "cell_type": "code",
   "execution_count": null,
   "metadata": {},
   "outputs": [],
   "source": [
    "adata_subset"
   ]
  },
  {
   "cell_type": "code",
   "execution_count": null,
   "metadata": {},
   "outputs": [],
   "source": [
    "pd.crosstab(adata_subset.obs['cell_type'], adata_subset.obs['genotype'])"
   ]
  },
  {
   "cell_type": "raw",
   "metadata": {
    "vscode": {
     "languageId": "raw"
    }
   },
   "source": [
    "adata_export.write('../../../data/heart_mm_nuclei-23-0092_scANVI-Lymphoid_ctl240527.raw.h5ad')"
   ]
  },
  {
   "cell_type": "code",
   "execution_count": null,
   "metadata": {},
   "outputs": [],
   "source": []
  }
 ],
 "metadata": {
  "kernelspec": {
   "display_name": "Python 3",
   "language": "python",
   "name": "python3"
  },
  "language_info": {
   "codemirror_mode": {
    "name": "ipython",
    "version": 3
   },
   "file_extension": ".py",
   "mimetype": "text/x-python",
   "name": "python",
   "nbconvert_exporter": "python",
   "pygments_lexer": "ipython3",
   "version": "3.11.8"
  },
  "orig_nbformat": 4,
  "vscode": {
   "interpreter": {
    "hash": "aee8b7b246df8f9039afb4144a1f6fd8d2ca17a180786b69acc140d282b71a49"
   }
  }
 },
 "nbformat": 4,
 "nbformat_minor": 2
}
