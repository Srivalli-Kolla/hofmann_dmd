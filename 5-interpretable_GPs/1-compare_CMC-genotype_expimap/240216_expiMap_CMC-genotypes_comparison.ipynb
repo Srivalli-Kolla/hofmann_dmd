{
 "cells": [
  {
   "cell_type": "markdown",
   "metadata": {},
   "source": [
    "### Notebook for the functional comparison of CMC genotypes with `expimap`\n",
    "\n",
    "- **Developed by:** Carlos Talavera-López Ph.D\n",
    "- **Würzburg Institute for Systems Immunology - Faculty of Medicine - Julius-Maximilian-Universität Würzburg**\n",
    "- **Created on**: 240216\n",
    "- **Last modified**: 240216"
   ]
  },
  {
   "cell_type": "markdown",
   "metadata": {},
   "source": [
    "### Import required modules"
   ]
  },
  {
   "cell_type": "code",
   "execution_count": 1,
   "metadata": {},
   "outputs": [
    {
     "name": "stderr",
     "output_type": "stream",
     "text": [
      "WARNING:root:In order to use the mouse gastrulation seqFISH datsets, please install squidpy (see https://github.com/scverse/squidpy).\n"
     ]
    }
   ],
   "source": [
    "import gdown\n",
    "import torch\n",
    "import anndata\n",
    "import warnings\n",
    "import numpy as np\n",
    "import scipy as sp\n",
    "import scanpy as sc\n",
    "import pandas as pd\n",
    "import scarches as sca\n",
    "import matplotlib.pyplot as plt"
   ]
  },
  {
   "cell_type": "markdown",
   "metadata": {},
   "source": [
    "### Set up working environment"
   ]
  },
  {
   "cell_type": "code",
   "execution_count": null,
   "metadata": {},
   "outputs": [],
   "source": [
    "sc.settings.verbosity = 3\n",
    "sc.logging.print_versions()\n",
    "sc.settings.set_figure_params(dpi = 180, color_map = 'magma_r', dpi_save = 300, vector_friendly = True, format = 'svg')"
   ]
  },
  {
   "cell_type": "code",
   "execution_count": null,
   "metadata": {},
   "outputs": [],
   "source": [
    "warnings.simplefilter(action = 'ignore')\n",
    "%config InlineBackend.print_figure_kwargs = {'facecolor' : \"w\"}\n",
    "%config InlineBackend.figure_format = 'retina'\n",
    "torch.set_float32_matmul_precision('medium')"
   ]
  },
  {
   "cell_type": "markdown",
   "metadata": {},
   "source": [
    "### Read in whole data and split in WT (reference) and other genotypes (query)"
   ]
  },
  {
   "cell_type": "code",
   "execution_count": null,
   "metadata": {},
   "outputs": [],
   "source": [
    "DMD_CMC = sc.read_h5ad('../../data/heart_mm_nuclei-23-0092_CMC_states_ctl240131.raw.h5ad')\n",
    "DMD_CMC"
   ]
  },
  {
   "cell_type": "code",
   "execution_count": null,
   "metadata": {},
   "outputs": [],
   "source": [
    "if sp.sparse.issparse(DMD_CMC.X):\n",
    "    DMD_CMC.X = DMD_CMC.X.toarray().astype(np.float32)"
   ]
  },
  {
   "cell_type": "code",
   "execution_count": null,
   "metadata": {},
   "outputs": [],
   "source": [
    "DMD_CMC.obs['genotype'].value_counts()"
   ]
  },
  {
   "cell_type": "code",
   "execution_count": null,
   "metadata": {},
   "outputs": [],
   "source": [
    "WT_CMC = DMD_CMC[DMD_CMC.obs['genotype'].isin(['WT'])]\n",
    "WT_CMC"
   ]
  },
  {
   "cell_type": "code",
   "execution_count": null,
   "metadata": {},
   "outputs": [],
   "source": [
    "Mdx_CMC = DMD_CMC[~DMD_CMC.obs['genotype'].isin(['WT'])]\n",
    "Mdx_CMC"
   ]
  },
  {
   "cell_type": "markdown",
   "metadata": {},
   "source": [
    "### Read the Reactome annotations"
   ]
  },
  {
   "cell_type": "code",
   "execution_count": null,
   "metadata": {},
   "outputs": [],
   "source": [
    "url = 'https://drive.google.com/uc?id=1136LntaVr92G1MphGeMVcmpE0AqcqM6c'\n",
    "output = 'reactome.gmt'\n",
    "gdown.download(url, output, quiet=False)"
   ]
  },
  {
   "cell_type": "markdown",
   "metadata": {},
   "source": [
    "### Prepare reference data with ReactomeDB pathways"
   ]
  },
  {
   "cell_type": "code",
   "execution_count": null,
   "metadata": {},
   "outputs": [],
   "source": [
    "sca.utils.add_annotations(WT_CMC, 'reactome.gmt', min_genes = 6, clean = True)"
   ]
  },
  {
   "cell_type": "markdown",
   "metadata": {},
   "source": [
    "- Remove all genes that are present in the data but absent in ReactomeDB"
   ]
  },
  {
   "cell_type": "code",
   "execution_count": null,
   "metadata": {},
   "outputs": [],
   "source": [
    "WT_CMC._inplace_subset_var(WT_CMC.varm['I'].sum(1)>0)"
   ]
  },
  {
   "attachments": {},
   "cell_type": "markdown",
   "metadata": {},
   "source": [
    "### Calculate HVGs"
   ]
  },
  {
   "cell_type": "code",
   "execution_count": null,
   "metadata": {},
   "outputs": [],
   "source": [
    "ref_raw = WT_CMC.copy()\n",
    "WT_CMC.layers['counts'] = WT_CMC.X.copy()\n",
    "\n",
    "sc.pp.highly_variable_genes(\n",
    "    WT_CMC,\n",
    "    flavor = \"seurat_v3\",\n",
    "    n_top_genes = 7000,\n",
    "    layer = \"counts\",\n",
    "    batch_key = \"sample\",\n",
    "    subset = True,\n",
    "    span = 1\n",
    ")\n",
    "WT_CMC"
   ]
  },
  {
   "cell_type": "markdown",
   "metadata": {},
   "source": [
    "- Filter out all annotations (terms) with less than 12 genes."
   ]
  },
  {
   "cell_type": "code",
   "execution_count": null,
   "metadata": {},
   "outputs": [],
   "source": [
    "select_terms = WT_CMC.varm['I'].sum(0)>12\n",
    "WT_CMC.uns['terms'] = np.array(WT_CMC.uns['terms'])[select_terms].tolist()\n",
    "WT_CMC.varm['I'] = WT_CMC.varm['I'][:, select_terms]"
   ]
  },
  {
   "cell_type": "markdown",
   "metadata": {},
   "source": [
    "- Filter out genes not present in any of the terms after selection of HVGs."
   ]
  },
  {
   "cell_type": "code",
   "execution_count": null,
   "metadata": {},
   "outputs": [],
   "source": [
    "WT_CMC._inplace_subset_var(WT_CMC.varm['I'].sum(1)>0)"
   ]
  },
  {
   "cell_type": "markdown",
   "metadata": {},
   "source": [
    "### Create expiMap model and train it on reference dataset"
   ]
  },
  {
   "cell_type": "code",
   "execution_count": null,
   "metadata": {},
   "outputs": [],
   "source": [
    "intr_cvae = sca.models.EXPIMAP(\n",
    "    adata = WT_CMC,\n",
    "    condition_key = 'genotype',\n",
    "    hidden_layer_sizes = [256, 256, 256],\n",
    "    recon_loss = 'nb'\n",
    ")"
   ]
  },
  {
   "cell_type": "code",
   "execution_count": null,
   "metadata": {},
   "outputs": [],
   "source": [
    "ALPHA = 0.7"
   ]
  },
  {
   "cell_type": "code",
   "execution_count": null,
   "metadata": {},
   "outputs": [],
   "source": [
    "early_stopping_kwargs = {\n",
    "    \"early_stopping_metric\": \"val_unweighted_loss\", # val_unweighted_loss\n",
    "    \"threshold\": 0,\n",
    "    \"patience\": 50,\n",
    "    \"reduce_lr\": True,\n",
    "    \"lr_patience\": 13,\n",
    "    \"lr_factor\": 0.1,\n",
    "}\n",
    "intr_cvae.train(\n",
    "    n_epochs = 400,\n",
    "    alpha_epoch_anneal = 100,\n",
    "    alpha = ALPHA,\n",
    "    alpha_kl = 0.5,\n",
    "    weight_decay = 0.,\n",
    "    early_stopping_kwargs = early_stopping_kwargs,\n",
    "    use_early_stopping = True,\n",
    "    monitor_only_val = False,\n",
    "    seed = 1712,\n",
    ")"
   ]
  },
  {
   "cell_type": "code",
   "execution_count": null,
   "metadata": {},
   "outputs": [],
   "source": [
    "MEAN = False"
   ]
  },
  {
   "cell_type": "code",
   "execution_count": null,
   "metadata": {},
   "outputs": [],
   "source": [
    "WT_CMC.obsm['X_cvae'] = intr_cvae.get_latent(mean = MEAN, only_active = True)"
   ]
  },
  {
   "cell_type": "markdown",
   "metadata": {},
   "source": [
    "### Plot latent space of the reference dataset"
   ]
  },
  {
   "cell_type": "code",
   "execution_count": null,
   "metadata": {},
   "outputs": [],
   "source": [
    "sc.pp.neighbors(WT_CMC, use_rep = \"X_cvae\", n_neighbors = 50, metric = 'minkowski')\n",
    "sc.tl.umap(WT_CMC, min_dist = 0.3, spread = 4, random_state = 1712)\n",
    "sc.pl.umap(WT_CMC, frameon = False, color = ['C_scANVI', 'donor', 'genotype'], size = 3, legend_fontsize = 5, ncols = 4)"
   ]
  },
  {
   "attachments": {},
   "cell_type": "markdown",
   "metadata": {},
   "source": [
    "### Read and format query dataset"
   ]
  },
  {
   "cell_type": "code",
   "execution_count": null,
   "metadata": {},
   "outputs": [],
   "source": [
    "Mdx_CMC = Mdx_CMC[:, WT_CMC.var_names].copy()\n",
    "Mdx_CMC"
   ]
  },
  {
   "cell_type": "code",
   "execution_count": null,
   "metadata": {},
   "outputs": [],
   "source": [
    "Mdx_CMC.uns['terms'] = WT_CMC.uns['terms']"
   ]
  },
  {
   "cell_type": "markdown",
   "metadata": {},
   "source": [
    "### Initlizling the model for query training"
   ]
  },
  {
   "cell_type": "code",
   "execution_count": null,
   "metadata": {},
   "outputs": [],
   "source": [
    "q_intr_cvae = sca.models.EXPIMAP.load_query_data(Mdx_CMC, intr_cvae)"
   ]
  },
  {
   "cell_type": "code",
   "execution_count": null,
   "metadata": {},
   "outputs": [],
   "source": [
    "q_intr_cvae.train(n_epochs = 400, \n",
    "                  alpha_epoch_anneal = 100, \n",
    "                  weight_decay = 0.,\n",
    "                  alpha_kl = 0.1, \n",
    "                  seed = 1712, \n",
    "                  use_early_stopping = True)"
   ]
  },
  {
   "cell_type": "markdown",
   "metadata": {},
   "source": [
    "### Get latent representation of reference + query dataset"
   ]
  },
  {
   "cell_type": "code",
   "execution_count": null,
   "metadata": {},
   "outputs": [],
   "source": [
    "HHH_CMC = sc.AnnData.concatenate(WT_CMC, Mdx_CMC, batch_key = 'batch_join', uns_merge = 'same')\n",
    "HHH_CMC"
   ]
  },
  {
   "cell_type": "code",
   "execution_count": null,
   "metadata": {},
   "outputs": [],
   "source": [
    "HHH_CMC.obsm['X_cvae'] = q_intr_cvae.get_latent(HHH_CMC.X, \n",
    "                                                HHH_CMC.obs['region'], \n",
    "                                                mean = MEAN, \n",
    "                                                only_active = True)"
   ]
  },
  {
   "cell_type": "code",
   "execution_count": null,
   "metadata": {},
   "outputs": [],
   "source": [
    "sc.pp.neighbors(HHH_CMC, use_rep = \"X_cvae\", n_neighbors = 20, metric = 'minkowski')\n",
    "sc.tl.umap(HHH_CMC, min_dist = 0.5, spread = 6, random_state = 1712)"
   ]
  },
  {
   "cell_type": "code",
   "execution_count": null,
   "metadata": {},
   "outputs": [],
   "source": [
    "HHH_CMC.obs['condition_joint'] = HHH_CMC.obs.region.astype(str)\n",
    "HHH_CMC.obs['condition_joint'][HHH_CMC.obs['condition_joint'].astype(str)=='nan']='control'"
   ]
  },
  {
   "cell_type": "code",
   "execution_count": null,
   "metadata": {},
   "outputs": [],
   "source": [
    "sc.pl.umap(HHH_CMC, frameon = False, color = ['C_scANVI', 'donor', 'genotypes', 'condition_joint'], size = 1, legend_fontsize = 5, ncols = 4)"
   ]
  },
  {
   "cell_type": "markdown",
   "metadata": {},
   "source": [
    "### Calculate directions of upregulation for each latent score and put them to"
   ]
  },
  {
   "cell_type": "code",
   "execution_count": null,
   "metadata": {},
   "outputs": [],
   "source": [
    "q_intr_cvae.latent_directions(adata = HHH_CMC)"
   ]
  },
  {
   "cell_type": "markdown",
   "metadata": {},
   "source": [
    "### Do gene set enrichment test for condition in reference + query using Bayes Factors."
   ]
  },
  {
   "cell_type": "code",
   "execution_count": null,
   "metadata": {},
   "outputs": [],
   "source": [
    "q_intr_cvae.latent_enrich(groups = 'condition_joint', comparison = 'WT', use_directions = True, adata = HHH_CMC)\n",
    "fig = sca.plotting.plot_abs_bfs(HHH_CMC, yt_step = 0.3, scale_y = 2, fontsize = 6)"
   ]
  },
  {
   "cell_type": "code",
   "execution_count": null,
   "metadata": {},
   "outputs": [],
   "source": [
    "q_intr_cvae.latent_enrich(groups = 'condition_joint', comparison = 'Mdx', use_directions = True, adata = HHH_CMC)\n",
    "fig = sca.plotting.plot_abs_bfs(HHH_CMC, yt_step = 0.3, scale_y = 3, fontsize = 6)"
   ]
  },
  {
   "cell_type": "code",
   "execution_count": null,
   "metadata": {},
   "outputs": [],
   "source": [
    "q_intr_cvae.latent_enrich(groups = 'condition_joint', comparison = 'MdxSCID', use_directions = True, adata = HHH_CMC)\n",
    "fig = sca.plotting.plot_abs_bfs(HHH_CMC, yt_step = 0.3, scale_y = 3, fontsize = 6)"
   ]
  },
  {
   "cell_type": "markdown",
   "metadata": {},
   "source": [
    "### Plot the latent variables for query + reference corresponding to the annotations "
   ]
  },
  {
   "cell_type": "code",
   "execution_count": null,
   "metadata": {},
   "outputs": [],
   "source": [
    "terms = HHH_CMC.uns['terms']\n",
    "select_terms = ['PLATELET_HOMEOSTASIS', 'DEVELOPMENTAL_BIOLOGY', 'GPCR_DOWNSTREAM_SIGNALING']\n",
    "idx = [terms.index(term) for term in select_terms]"
   ]
  },
  {
   "cell_type": "code",
   "execution_count": null,
   "metadata": {},
   "outputs": [],
   "source": [
    "latents = (q_intr_cvae.get_latent(HHH_CMC.X, HHH_CMC.obs['region'], mean = MEAN) * HHH_CMC.uns['directions'])[:, idx]\n",
    "\n",
    "HHH_CMC.obs['PLATELET_HOMEOSTASIS'] = latents[:, 0]\n",
    "HHH_CMC.obs['DEVELOPMENTAL_BIOLOGY'] = latents[:, 1]\n",
    "HHH_CMC.obs['GPCR_DOWNSTREAM_SIGNALING'] = latents[:, 2]\n",
    "\n",
    "sc.pl.scatter(HHH_CMC, x = 'PLATELET_HOMEOSTASIS', y = 'DEVELOPMENTAL_BIOLOGY', color = 'condition_joint', size = 6)"
   ]
  },
  {
   "cell_type": "code",
   "execution_count": null,
   "metadata": {},
   "outputs": [],
   "source": [
    "sc.pl.scatter(HHH_CMC, x = 'PLATELET_HOMEOSTASIS', y = 'DEVELOPMENTAL_BIOLOGY', color = 'C_scANVI', size = 8)"
   ]
  }
 ],
 "metadata": {
  "kernelspec": {
   "display_name": "Python 3",
   "language": "python",
   "name": "python3"
  },
  "language_info": {
   "codemirror_mode": {
    "name": "ipython",
    "version": 3
   },
   "file_extension": ".py",
   "mimetype": "text/x-python",
   "name": "python",
   "nbconvert_exporter": "python",
   "pygments_lexer": "ipython3",
   "version": "3.10.13"
  },
  "orig_nbformat": 4,
  "vscode": {
   "interpreter": {
    "hash": "aee8b7b246df8f9039afb4144a1f6fd8d2ca17a180786b69acc140d282b71a49"
   }
  }
 },
 "nbformat": 4,
 "nbformat_minor": 2
}
